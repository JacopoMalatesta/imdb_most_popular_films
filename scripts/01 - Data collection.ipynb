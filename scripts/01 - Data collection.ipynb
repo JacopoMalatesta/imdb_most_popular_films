{
 "cells": [
  {
   "cell_type": "markdown",
   "metadata": {
    "id": "yGNNMM5OucPo"
   },
   "source": [
    "# Modules and scripts <a class=\"anchor\" id=\"chapter1\"></a>"
   ]
  },
  {
   "cell_type": "code",
   "execution_count": 18,
   "metadata": {
    "id": "Tq5zlLcDuCkM"
   },
   "outputs": [],
   "source": [
    "import requests\n",
    "from bs4 import BeautifulSoup\n",
    "import pandas as pd\n",
    "import os\n",
    "import re\n",
    "import pickle\n",
    "import scraping_functions"
   ]
  },
  {
   "cell_type": "markdown",
   "metadata": {
    "id": "ruIEsF-V4A7N"
   },
   "source": [
    "# Scraping the film IDs and the URLs <a class=\"anchor\" id=\"chapter2\"></a>"
   ]
  },
  {
   "cell_type": "markdown",
   "metadata": {
    "id": "c-6kyKK3UprX"
   },
   "source": [
    "IMDB doesn't have an API. However, there are two unofficial IMDBI APIs: The Open Movie Database (OMDb) and The Movie Database (TMDB). In this project we'll rely on the latter as it doesn't enforce a rate limit. We're also going to supplement the API data with scraped data."
   ]
  },
  {
   "cell_type": "markdown",
   "metadata": {
    "id": "Jt0ZSUT3Xm3o"
   },
   "source": [
    "TMDB API works by supplying the ID of the film(s) whose info we'd like to retrieve. The IDs consist of a double \"t\" followed by seven or eight digits. They can be found inside a film URL. For example, \"tt0050782\" is the ID for this film: https://www.imdb.com/title/tt0050782/. \n",
    "\n",
    "The first step will thus be retrieving the IDs of the 5 000 most popular films on IMDB, which can be found in this [playlist](https://www.imdb.com/search/keyword/?mode=detail&page=1&title_type=movie&ref_=kw_ref_rt_vt&num_votes=5000%2C&sort=num_votes,desc)."
   ]
  },
  {
   "cell_type": "markdown",
   "metadata": {
    "id": "MN3DXnxMYrbc"
   },
   "source": [
    "To scrape the film IDs of our 5 000 films we'll iterate a for loop over the first 100 pages in the playlist (each containing 50 films). The film ID is the value of the 'href' attribute inside h3 elements with the \"lister-item-header\" class. We'll write a simple regex to extract the film ID. We'll also scrape the entire URL: it's going to come in handy later when we do the scraping."
   ]
  },
  {
   "cell_type": "code",
   "execution_count": 2,
   "metadata": {
    "id": "N0QXTJHZwTUc"
   },
   "outputs": [],
   "source": [
    "film_ids = []\n",
    "film_urls = []\n",
    "\n",
    "for i in range(1, 101):\n",
    "  \n",
    "  content = requests.get(f\"https://www.imdb.com/search/keyword/?mode=detail&page={i}&title_type=movie&ref_=kw_ref_rt_vt&num_votes=5000%2C&sort=num_votes,desc\").content\n",
    "  \n",
    "  soup = BeautifulSoup(content)\n",
    "\n",
    "  for film in soup.find_all(\"h3\", class_=\"lister-item-header\"):\n",
    "\n",
    "    link = film.find(\"a\").get(\"href\")\n",
    "    film_id = re.findall(pattern = r\"tt\\d+\", string = link)[0]\n",
    "    film_ids.append(film_id)\n",
    "\n",
    "    film_url = \"https://www.imdb.com\" + link\n",
    "    film_urls.append(film_url)\n",
    "    "
   ]
  },
  {
   "cell_type": "markdown",
   "metadata": {},
   "source": [
    "Saving both the film IDs and the URLs"
   ]
  },
  {
   "cell_type": "code",
   "execution_count": 21,
   "metadata": {},
   "outputs": [],
   "source": [
    "with open('data/film_ids.txt', 'wb') as f:\n",
    "    pickle.dump(film_ids, f)\n",
    "    \n",
    "with open('data/film_urls.txt', 'wb') as f:\n",
    "    pickle.dump(film_urls, f)"
   ]
  },
  {
   "cell_type": "markdown",
   "metadata": {
    "id": "3GwT4Wuv61we"
   },
   "source": [
    "# API calls <a class=\"anchor\" id=\"chapter3\"></a>"
   ]
  },
  {
   "cell_type": "markdown",
   "metadata": {},
   "source": [
    "Let's build the dataframe with the API data by feeding the film IDs to our function"
   ]
  },
  {
   "cell_type": "code",
   "execution_count": 7,
   "metadata": {
    "colab": {
     "base_uri": "https://localhost:8080/",
     "height": 770
    },
    "id": "ckKclT-ouHfd",
    "outputId": "d438579e-4d83-4c41-aad8-e53f0c02135b"
   },
   "outputs": [
    {
     "data": {
      "text/html": [
       "<div>\n",
       "<style scoped>\n",
       "    .dataframe tbody tr th:only-of-type {\n",
       "        vertical-align: middle;\n",
       "    }\n",
       "\n",
       "    .dataframe tbody tr th {\n",
       "        vertical-align: top;\n",
       "    }\n",
       "\n",
       "    .dataframe thead th {\n",
       "        text-align: right;\n",
       "    }\n",
       "</style>\n",
       "<table border=\"1\" class=\"dataframe\">\n",
       "  <thead>\n",
       "    <tr style=\"text-align: right;\">\n",
       "      <th></th>\n",
       "      <th>id</th>\n",
       "      <th>title</th>\n",
       "      <th>release_date</th>\n",
       "      <th>runtime</th>\n",
       "      <th>country</th>\n",
       "      <th>language</th>\n",
       "      <th>genre</th>\n",
       "      <th>studios</th>\n",
       "      <th>budget</th>\n",
       "      <th>revenue</th>\n",
       "    </tr>\n",
       "  </thead>\n",
       "  <tbody>\n",
       "    <tr>\n",
       "      <th>0</th>\n",
       "      <td>tt0111161</td>\n",
       "      <td>The Shawshank Redemption</td>\n",
       "      <td>1994-09-23</td>\n",
       "      <td>142</td>\n",
       "      <td>United States of America</td>\n",
       "      <td>English</td>\n",
       "      <td>Drama;Crime</td>\n",
       "      <td>Castle Rock Entertainment</td>\n",
       "      <td>25000000</td>\n",
       "      <td>28341469</td>\n",
       "    </tr>\n",
       "    <tr>\n",
       "      <th>1</th>\n",
       "      <td>tt0468569</td>\n",
       "      <td>The Dark Knight</td>\n",
       "      <td>2008-07-14</td>\n",
       "      <td>152</td>\n",
       "      <td>United Kingdom;United States of America</td>\n",
       "      <td>English;Mandarin</td>\n",
       "      <td>Drama;Action;Crime;Thriller</td>\n",
       "      <td>DC Comics;Legendary Pictures;Syncopy;Isobel Gr...</td>\n",
       "      <td>185000000</td>\n",
       "      <td>1004558444</td>\n",
       "    </tr>\n",
       "    <tr>\n",
       "      <th>2</th>\n",
       "      <td>tt1375666</td>\n",
       "      <td>Inception</td>\n",
       "      <td>2010-07-15</td>\n",
       "      <td>148</td>\n",
       "      <td>United Kingdom;United States of America</td>\n",
       "      <td>English;Japanese</td>\n",
       "      <td>Action;Science Fiction;Adventure</td>\n",
       "      <td>Legendary Pictures;Syncopy;Warner Bros. Pictures</td>\n",
       "      <td>160000000</td>\n",
       "      <td>825532764</td>\n",
       "    </tr>\n",
       "    <tr>\n",
       "      <th>3</th>\n",
       "      <td>tt0137523</td>\n",
       "      <td>Fight Club</td>\n",
       "      <td>1999-10-15</td>\n",
       "      <td>139</td>\n",
       "      <td>Germany;United States of America</td>\n",
       "      <td>English</td>\n",
       "      <td>Drama</td>\n",
       "      <td>Regency Enterprises;Fox 2000 Pictures;Taurus F...</td>\n",
       "      <td>63000000</td>\n",
       "      <td>100853753</td>\n",
       "    </tr>\n",
       "    <tr>\n",
       "      <th>4</th>\n",
       "      <td>tt0109830</td>\n",
       "      <td>Forrest Gump</td>\n",
       "      <td>1994-07-06</td>\n",
       "      <td>142</td>\n",
       "      <td>United States of America</td>\n",
       "      <td>English</td>\n",
       "      <td>Comedy;Drama;Romance</td>\n",
       "      <td>Paramount;The Steve Tisch Company</td>\n",
       "      <td>55000000</td>\n",
       "      <td>677387716</td>\n",
       "    </tr>\n",
       "  </tbody>\n",
       "</table>\n",
       "</div>"
      ],
      "text/plain": [
       "          id                     title release_date runtime  \\\n",
       "0  tt0111161  The Shawshank Redemption   1994-09-23     142   \n",
       "1  tt0468569           The Dark Knight   2008-07-14     152   \n",
       "2  tt1375666                 Inception   2010-07-15     148   \n",
       "3  tt0137523                Fight Club   1999-10-15     139   \n",
       "4  tt0109830              Forrest Gump   1994-07-06     142   \n",
       "\n",
       "                                   country          language  \\\n",
       "0                 United States of America           English   \n",
       "1  United Kingdom;United States of America  English;Mandarin   \n",
       "2  United Kingdom;United States of America  English;Japanese   \n",
       "3         Germany;United States of America           English   \n",
       "4                 United States of America           English   \n",
       "\n",
       "                              genre  \\\n",
       "0                       Drama;Crime   \n",
       "1       Drama;Action;Crime;Thriller   \n",
       "2  Action;Science Fiction;Adventure   \n",
       "3                             Drama   \n",
       "4              Comedy;Drama;Romance   \n",
       "\n",
       "                                             studios     budget     revenue  \n",
       "0                          Castle Rock Entertainment   25000000    28341469  \n",
       "1  DC Comics;Legendary Pictures;Syncopy;Isobel Gr...  185000000  1004558444  \n",
       "2   Legendary Pictures;Syncopy;Warner Bros. Pictures  160000000   825532764  \n",
       "3  Regency Enterprises;Fox 2000 Pictures;Taurus F...   63000000   100853753  \n",
       "4                  Paramount;The Steve Tisch Company   55000000   677387716  "
      ]
     },
     "execution_count": 7,
     "metadata": {},
     "output_type": "execute_result"
    }
   ],
   "source": [
    "df = scraping_functions.build_film_df(film_ids)\n",
    "df.head()"
   ]
  },
  {
   "cell_type": "code",
   "execution_count": 8,
   "metadata": {},
   "outputs": [
    {
     "data": {
      "text/plain": [
       "(5000, 10)"
      ]
     },
     "execution_count": 8,
     "metadata": {},
     "output_type": "execute_result"
    }
   ],
   "source": [
    "df.shape"
   ]
  },
  {
   "cell_type": "markdown",
   "metadata": {},
   "source": [
    "Let's save it as a .csv file"
   ]
  },
  {
   "cell_type": "code",
   "execution_count": 12,
   "metadata": {},
   "outputs": [],
   "source": [
    "df.to_csv(\"data/df_api.csv\")"
   ]
  },
  {
   "cell_type": "markdown",
   "metadata": {
    "id": "VroIT9ExpVtY"
   },
   "source": [
    "# Scraping additional data <a class=\"anchor\" id=\"chapter4\"></a>"
   ]
  },
  {
   "cell_type": "markdown",
   "metadata": {},
   "source": [
    "TMDB API has some limits: it doesn't provide data about the people who worked on a film (directors, writer, actors etc.) and its rating data is inaccurate. We'll thus integrate the data we just got by scraping some more information."
   ]
  },
  {
   "cell_type": "markdown",
   "metadata": {},
   "source": [
    "To build the dataframe of scraped data we'll import another function from our functions scripts and we'll run it on the film URLs we scraped in section 2"
   ]
  },
  {
   "cell_type": "code",
   "execution_count": 13,
   "metadata": {
    "colab": {
     "base_uri": "https://localhost:8080/",
     "height": 304
    },
    "id": "Sqmef_HbZ6fi",
    "outputId": "a5e98cbb-4ae7-4444-9e39-bfe70225c3d4"
   },
   "outputs": [
    {
     "name": "stderr",
     "output_type": "stream",
     "text": [
      "C:\\Users\\jacop\\imdb_most_popular_films\\scripts\\scraping_functions.py:301: GuessedAtParserWarning: No parser was explicitly specified, so I'm using the best available HTML parser for this system (\"lxml\"). This usually isn't a problem, but if you run this code on another system, or in a different virtual environment, it may use a different parser and behave differently.\n",
      "\n",
      "The code that caused this warning is on line 301 of the file C:\\Users\\jacop\\imdb_most_popular_films\\scripts\\scraping_functions.py. To get rid of this warning, pass the additional argument 'features=\"lxml\"' to the BeautifulSoup constructor.\n",
      "\n",
      "  soup = BeautifulSoup(content)\n"
     ]
    }
   ],
   "source": [
    "df2 = scraping_functions.build_scraped_df(film_urls)"
   ]
  },
  {
   "cell_type": "markdown",
   "metadata": {},
   "source": [
    "Let's have a look at the dataframe"
   ]
  },
  {
   "cell_type": "code",
   "execution_count": 14,
   "metadata": {
    "colab": {
     "base_uri": "https://localhost:8080/",
     "height": 304
    },
    "id": "Sqmef_HbZ6fi",
    "outputId": "a5e98cbb-4ae7-4444-9e39-bfe70225c3d4"
   },
   "outputs": [
    {
     "data": {
      "text/html": [
       "<div>\n",
       "<style scoped>\n",
       "    .dataframe tbody tr th:only-of-type {\n",
       "        vertical-align: middle;\n",
       "    }\n",
       "\n",
       "    .dataframe tbody tr th {\n",
       "        vertical-align: top;\n",
       "    }\n",
       "\n",
       "    .dataframe thead th {\n",
       "        text-align: right;\n",
       "    }\n",
       "</style>\n",
       "<table border=\"1\" class=\"dataframe\">\n",
       "  <thead>\n",
       "    <tr style=\"text-align: right;\">\n",
       "      <th></th>\n",
       "      <th>id</th>\n",
       "      <th>director</th>\n",
       "      <th>writer</th>\n",
       "      <th>imdb_rating</th>\n",
       "      <th>imdb_rating_count</th>\n",
       "      <th>metascore</th>\n",
       "      <th>user_review_count</th>\n",
       "      <th>critic_review_count</th>\n",
       "      <th>color</th>\n",
       "      <th>aspect_ratio</th>\n",
       "      <th>last_updated</th>\n",
       "    </tr>\n",
       "  </thead>\n",
       "  <tbody>\n",
       "    <tr>\n",
       "      <th>0</th>\n",
       "      <td>tt0111161</td>\n",
       "      <td>Frank Darabont</td>\n",
       "      <td>Frank Darabont;Stephen King</td>\n",
       "      <td>9.3</td>\n",
       "      <td>2508904</td>\n",
       "      <td>80</td>\n",
       "      <td>9750</td>\n",
       "      <td>190</td>\n",
       "      <td>Color</td>\n",
       "      <td>1.85 : 1</td>\n",
       "      <td>2021-12-22</td>\n",
       "    </tr>\n",
       "    <tr>\n",
       "      <th>1</th>\n",
       "      <td>tt0468569</td>\n",
       "      <td>Christopher Nolan</td>\n",
       "      <td>David S. Goyer;Christopher Nolan;Jonathan Nolan</td>\n",
       "      <td>9.0</td>\n",
       "      <td>2458874</td>\n",
       "      <td>84</td>\n",
       "      <td>7767</td>\n",
       "      <td>427</td>\n",
       "      <td>NaN</td>\n",
       "      <td>2.39 : 1</td>\n",
       "      <td>2021-12-22</td>\n",
       "    </tr>\n",
       "    <tr>\n",
       "      <th>2</th>\n",
       "      <td>tt1375666</td>\n",
       "      <td>Christopher Nolan</td>\n",
       "      <td>Christopher Nolan</td>\n",
       "      <td>8.8</td>\n",
       "      <td>2205560</td>\n",
       "      <td>74</td>\n",
       "      <td>67</td>\n",
       "      <td>479</td>\n",
       "      <td>Color</td>\n",
       "      <td>1.85 : 1</td>\n",
       "      <td>2021-12-22</td>\n",
       "    </tr>\n",
       "    <tr>\n",
       "      <th>3</th>\n",
       "      <td>tt0137523</td>\n",
       "      <td>David Fincher</td>\n",
       "      <td>Chuck Palahniuk;Jim Uhls</td>\n",
       "      <td>8.8</td>\n",
       "      <td>1973247</td>\n",
       "      <td>66</td>\n",
       "      <td>4131</td>\n",
       "      <td>366</td>\n",
       "      <td>Color</td>\n",
       "      <td>2.39 : 1</td>\n",
       "      <td>2021-12-22</td>\n",
       "    </tr>\n",
       "    <tr>\n",
       "      <th>4</th>\n",
       "      <td>tt0109830</td>\n",
       "      <td>Robert Zemeckis</td>\n",
       "      <td>Eric Roth;Winston Groom</td>\n",
       "      <td>8.8</td>\n",
       "      <td>1936080</td>\n",
       "      <td>82</td>\n",
       "      <td>2811</td>\n",
       "      <td>164</td>\n",
       "      <td>Color</td>\n",
       "      <td>2.39 : 1</td>\n",
       "      <td>2021-12-22</td>\n",
       "    </tr>\n",
       "  </tbody>\n",
       "</table>\n",
       "</div>"
      ],
      "text/plain": [
       "          id           director  \\\n",
       "0  tt0111161     Frank Darabont   \n",
       "1  tt0468569  Christopher Nolan   \n",
       "2  tt1375666  Christopher Nolan   \n",
       "3  tt0137523      David Fincher   \n",
       "4  tt0109830    Robert Zemeckis   \n",
       "\n",
       "                                            writer imdb_rating  \\\n",
       "0                      Frank Darabont;Stephen King         9.3   \n",
       "1  David S. Goyer;Christopher Nolan;Jonathan Nolan         9.0   \n",
       "2                                Christopher Nolan         8.8   \n",
       "3                         Chuck Palahniuk;Jim Uhls         8.8   \n",
       "4                          Eric Roth;Winston Groom         8.8   \n",
       "\n",
       "  imdb_rating_count metascore user_review_count critic_review_count  color  \\\n",
       "0           2508904        80              9750                 190  Color   \n",
       "1           2458874        84              7767                 427    NaN   \n",
       "2           2205560        74                67                 479  Color   \n",
       "3           1973247        66              4131                 366  Color   \n",
       "4           1936080        82              2811                 164  Color   \n",
       "\n",
       "  aspect_ratio last_updated  \n",
       "0     1.85 : 1   2021-12-22  \n",
       "1     2.39 : 1   2021-12-22  \n",
       "2     1.85 : 1   2021-12-22  \n",
       "3     2.39 : 1   2021-12-22  \n",
       "4     2.39 : 1   2021-12-22  "
      ]
     },
     "execution_count": 14,
     "metadata": {},
     "output_type": "execute_result"
    }
   ],
   "source": [
    "df2.head()"
   ]
  },
  {
   "cell_type": "markdown",
   "metadata": {},
   "source": [
    "Let's save the dataframe"
   ]
  },
  {
   "cell_type": "code",
   "execution_count": 17,
   "metadata": {},
   "outputs": [],
   "source": [
    "df2.to_csv(\"data/scraped_df_1.csv\")"
   ]
  },
  {
   "cell_type": "markdown",
   "metadata": {},
   "source": [
    "# Scraping people data <a class=\"anchor\" id=\"chapter5\"></a>"
   ]
  },
  {
   "cell_type": "markdown",
   "metadata": {},
   "source": [
    "As mentioned previously, TMDB API doesn't provide much data about the people who worked on a film, so we'll need to scrape that data ourselves. These pieces of info aren't located in the regular film pages but in the \"Full cast and crew\" pages. So before scraping the data we first need to collect all these pages."
   ]
  },
  {
   "cell_type": "code",
   "execution_count": null,
   "metadata": {},
   "outputs": [],
   "source": [
    "crew_pages = []\n",
    "\n",
    "for i in range(len(film_ids)):\n",
    "    crew_page = f'https://www.imdb.com/title/{film_ids[i]}/fullcredits/?ref_=tt_cl_sm'\n",
    "    crew_pages.append(crew_page) "
   ]
  },
  {
   "cell_type": "markdown",
   "metadata": {},
   "source": [
    "## Creating the dataframe <a class=\"anchor\" id=\"subparagraph4\"></a>"
   ]
  },
  {
   "cell_type": "markdown",
   "metadata": {},
   "source": [
    "Let's run it on our list of 'Full cast and crew' pages"
   ]
  },
  {
   "cell_type": "code",
   "execution_count": null,
   "metadata": {},
   "outputs": [],
   "source": [
    "df3 = scraping_functions.build_scraped_df_2(crew_pages)"
   ]
  },
  {
   "cell_type": "markdown",
   "metadata": {},
   "source": [
    "Let's have a look at the dataframe"
   ]
  },
  {
   "cell_type": "code",
   "execution_count": null,
   "metadata": {},
   "outputs": [],
   "source": [
    "df3.head()"
   ]
  },
  {
   "cell_type": "markdown",
   "metadata": {},
   "source": [
    "Let's save it"
   ]
  },
  {
   "cell_type": "code",
   "execution_count": null,
   "metadata": {},
   "outputs": [],
   "source": [
    "df3.to_csv('data/scraped_df_2.csv')"
   ]
  }
 ],
 "metadata": {
  "colab": {
   "collapsed_sections": [],
   "name": "Building a database of IMDB 10,000 most popular feature films.ipynb",
   "provenance": []
  },
  "kernelspec": {
   "display_name": "Python 3",
   "language": "python",
   "name": "python3"
  },
  "language_info": {
   "codemirror_mode": {
    "name": "ipython",
    "version": 3
   },
   "file_extension": ".py",
   "mimetype": "text/x-python",
   "name": "python",
   "nbconvert_exporter": "python",
   "pygments_lexer": "ipython3",
   "version": "3.8.5"
  },
  "toc": {
   "base_numbering": 1,
   "nav_menu": {},
   "number_sections": true,
   "sideBar": true,
   "skip_h1_title": false,
   "title_cell": "Table of Contents",
   "title_sidebar": "Contents",
   "toc_cell": false,
   "toc_position": {
    "height": "calc(100% - 180px)",
    "left": "10px",
    "top": "150px",
    "width": "303.825px"
   },
   "toc_section_display": true,
   "toc_window_display": true
  }
 },
 "nbformat": 4,
 "nbformat_minor": 1
}
