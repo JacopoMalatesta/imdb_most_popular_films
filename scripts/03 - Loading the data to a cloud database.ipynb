{
 "cells": [
  {
   "cell_type": "markdown",
   "metadata": {},
   "source": [
    "# Modules and data"
   ]
  },
  {
   "cell_type": "code",
   "execution_count": 1,
   "metadata": {},
   "outputs": [],
   "source": [
    "from sqlalchemy import create_engine\n",
    "import pandas as pd\n",
    "import os"
   ]
  },
  {
   "cell_type": "code",
   "execution_count": 2,
   "metadata": {},
   "outputs": [],
   "source": [
    "df = pd.read_csv('https://raw.githubusercontent.com/JacopoMalatesta/imdb_most_popular_films/main/data/cleaned_df.csv',\n",
    "            index_col = 0)"
   ]
  },
  {
   "cell_type": "markdown",
   "metadata": {},
   "source": [
    "# Putting the data on the cloud"
   ]
  },
  {
   "cell_type": "markdown",
   "metadata": {},
   "source": [
    "I created a MYSQL database on Amazon RDS by following this tutorial: https://aws.amazon.com/getting-started/hands-on/create-mysql-db/"
   ]
  },
  {
   "cell_type": "markdown",
   "metadata": {},
   "source": [
    "Let's split the dataframe into three. "
   ]
  },
  {
   "cell_type": "code",
   "execution_count": 3,
   "metadata": {},
   "outputs": [],
   "source": [
    "films = df[['id', 'title', 'release_date', 'country', 'language', 'genre', 'studios', 'color', 'aspect_ratio', 'last_updated']]\n",
    "\n",
    "stats = df[['id', 'runtime', 'budget', 'revenue', 'imdb_rating', 'imdb_rating_count', 'metascore', 'user_review_count',\n",
    "           'critic_review_count']]\n",
    "\n",
    "people = df[['id', 'director', 'writer', 'actors', 'cinematographer', 'editor', 'composer', 'production_designer', \n",
    "             'art_director','costume_designer', 'producers']]"
   ]
  },
  {
   "cell_type": "markdown",
   "metadata": {},
   "source": [
    "Let's create the engine "
   ]
  },
  {
   "cell_type": "code",
   "execution_count": 4,
   "metadata": {},
   "outputs": [],
   "source": [
    "username = os.environ.get('rds_mysql_imdb_username')\n",
    "password = os.environ.get('rds_mysql_imdb_psw')\n",
    "host = os.environ.get('rds_mysql_imdb_host')\n",
    "dbname = 'mysql_imdb'\n",
    "\n",
    "connection = create_engine(f'mysql://{username}:{password}@{host}/{dbname}').connect()"
   ]
  },
  {
   "cell_type": "markdown",
   "metadata": {},
   "source": [
    "Let's upload our three dataframes"
   ]
  },
  {
   "cell_type": "code",
   "execution_count": 5,
   "metadata": {},
   "outputs": [],
   "source": [
    "films.to_sql(con = connection, name = 'films', if_exists = 'replace', chunksize = 500, index = False)\n",
    "stats.to_sql(con = connection, name = 'stats', if_exists = 'replace', chunksize = 500, index = False)\n",
    "people.to_sql(con = connection, name = 'people', if_exists = 'replace', chunksize = 500, index = False)"
   ]
  },
  {
   "cell_type": "markdown",
   "metadata": {},
   "source": [
    "Let's run a simple to query to see if everything looks ok"
   ]
  },
  {
   "cell_type": "code",
   "execution_count": 6,
   "metadata": {},
   "outputs": [
    {
     "data": {
      "text/html": [
       "<div>\n",
       "<style scoped>\n",
       "    .dataframe tbody tr th:only-of-type {\n",
       "        vertical-align: middle;\n",
       "    }\n",
       "\n",
       "    .dataframe tbody tr th {\n",
       "        vertical-align: top;\n",
       "    }\n",
       "\n",
       "    .dataframe thead th {\n",
       "        text-align: right;\n",
       "    }\n",
       "</style>\n",
       "<table border=\"1\" class=\"dataframe\">\n",
       "  <thead>\n",
       "    <tr style=\"text-align: right;\">\n",
       "      <th></th>\n",
       "      <th>title</th>\n",
       "      <th>year</th>\n",
       "      <th>imdb_rating_count</th>\n",
       "    </tr>\n",
       "  </thead>\n",
       "  <tbody>\n",
       "    <tr>\n",
       "      <th>0</th>\n",
       "      <td>In the Mood for Love</td>\n",
       "      <td>2000</td>\n",
       "      <td>139801</td>\n",
       "    </tr>\n",
       "    <tr>\n",
       "      <th>1</th>\n",
       "      <td>Chungking Express</td>\n",
       "      <td>1994</td>\n",
       "      <td>73772</td>\n",
       "    </tr>\n",
       "    <tr>\n",
       "      <th>2</th>\n",
       "      <td>2046</td>\n",
       "      <td>2004</td>\n",
       "      <td>55827</td>\n",
       "    </tr>\n",
       "    <tr>\n",
       "      <th>3</th>\n",
       "      <td>My Blueberry Nights</td>\n",
       "      <td>2007</td>\n",
       "      <td>53563</td>\n",
       "    </tr>\n",
       "    <tr>\n",
       "      <th>4</th>\n",
       "      <td>Fallen Angels</td>\n",
       "      <td>1995</td>\n",
       "      <td>34318</td>\n",
       "    </tr>\n",
       "    <tr>\n",
       "      <th>5</th>\n",
       "      <td>The Grandmaster</td>\n",
       "      <td>2013</td>\n",
       "      <td>33458</td>\n",
       "    </tr>\n",
       "  </tbody>\n",
       "</table>\n",
       "</div>"
      ],
      "text/plain": [
       "                  title  year  imdb_rating_count\n",
       "0  In the Mood for Love  2000             139801\n",
       "1     Chungking Express  1994              73772\n",
       "2                  2046  2004              55827\n",
       "3   My Blueberry Nights  2007              53563\n",
       "4         Fallen Angels  1995              34318\n",
       "5       The Grandmaster  2013              33458"
      ]
     },
     "execution_count": 6,
     "metadata": {},
     "output_type": "execute_result"
    }
   ],
   "source": [
    "query = ''' SELECT title, EXTRACT(YEAR FROM CAST(release_date AS DATE)) year, imdb_rating_count\n",
    "FROM films\n",
    "JOIN people USING (id)\n",
    "JOIN stats USING (id)\n",
    "WHERE director LIKE '%Kar-wai%'\n",
    "ORDER BY 3 DESC\n",
    "\n",
    "'''\n",
    "\n",
    "pd.read_sql_query(sql = query, con = connection)"
   ]
  },
  {
   "cell_type": "markdown",
   "metadata": {},
   "source": [
    "# Postgresql"
   ]
  },
  {
   "cell_type": "markdown",
   "metadata": {},
   "source": [
    "I've created a PostgreSQL database on RDS as well."
   ]
  },
  {
   "cell_type": "markdown",
   "metadata": {},
   "source": [
    "Let's connect to our database"
   ]
  },
  {
   "cell_type": "code",
   "execution_count": 7,
   "metadata": {},
   "outputs": [],
   "source": [
    "username = os.environ.get('rds_postgres_imdb_username')\n",
    "password = os.environ.get('rds_postgres_imdb_psw')\n",
    "host = os.environ.get('rds_postgres_imdb_host')\n",
    "dbname = 'postgres_imdb'\n",
    "\n",
    "postgres_connection = create_engine(f'postgresql://{username}:{password}@{host}/{dbname}').connect()"
   ]
  },
  {
   "cell_type": "markdown",
   "metadata": {},
   "source": [
    "Uploading our three dataframes"
   ]
  },
  {
   "cell_type": "code",
   "execution_count": 9,
   "metadata": {},
   "outputs": [],
   "source": [
    "films.to_sql(con = postgres_connection, name = 'films', if_exists = 'replace', chunksize = 100, index = False)\n",
    "stats.to_sql(con = postgres_connection, name = 'stats', if_exists = 'replace', chunksize = 100, index = False)\n",
    "people.to_sql(con = postgres_connection, name = 'people', if_exists = 'replace', chunksize = 100, index = False)"
   ]
  },
  {
   "cell_type": "markdown",
   "metadata": {},
   "source": [
    "Running a simple query to test things out"
   ]
  },
  {
   "cell_type": "code",
   "execution_count": 10,
   "metadata": {},
   "outputs": [
    {
     "data": {
      "text/html": [
       "<div>\n",
       "<style scoped>\n",
       "    .dataframe tbody tr th:only-of-type {\n",
       "        vertical-align: middle;\n",
       "    }\n",
       "\n",
       "    .dataframe tbody tr th {\n",
       "        vertical-align: top;\n",
       "    }\n",
       "\n",
       "    .dataframe thead th {\n",
       "        text-align: right;\n",
       "    }\n",
       "</style>\n",
       "<table border=\"1\" class=\"dataframe\">\n",
       "  <thead>\n",
       "    <tr style=\"text-align: right;\">\n",
       "      <th></th>\n",
       "      <th>title</th>\n",
       "      <th>year</th>\n",
       "      <th>imdb_rating_count</th>\n",
       "    </tr>\n",
       "  </thead>\n",
       "  <tbody>\n",
       "    <tr>\n",
       "      <th>0</th>\n",
       "      <td>The Thing</td>\n",
       "      <td>1982</td>\n",
       "      <td>399248</td>\n",
       "    </tr>\n",
       "    <tr>\n",
       "      <th>1</th>\n",
       "      <td>Halloween</td>\n",
       "      <td>1978</td>\n",
       "      <td>260419</td>\n",
       "    </tr>\n",
       "    <tr>\n",
       "      <th>2</th>\n",
       "      <td>Escape from New York</td>\n",
       "      <td>1981</td>\n",
       "      <td>136234</td>\n",
       "    </tr>\n",
       "    <tr>\n",
       "      <th>3</th>\n",
       "      <td>Big Trouble in Little China</td>\n",
       "      <td>1986</td>\n",
       "      <td>133634</td>\n",
       "    </tr>\n",
       "    <tr>\n",
       "      <th>4</th>\n",
       "      <td>They Live</td>\n",
       "      <td>1988</td>\n",
       "      <td>122574</td>\n",
       "    </tr>\n",
       "    <tr>\n",
       "      <th>5</th>\n",
       "      <td>Christine</td>\n",
       "      <td>1983</td>\n",
       "      <td>78691</td>\n",
       "    </tr>\n",
       "    <tr>\n",
       "      <th>6</th>\n",
       "      <td>Escape from L.A.</td>\n",
       "      <td>1996</td>\n",
       "      <td>73071</td>\n",
       "    </tr>\n",
       "    <tr>\n",
       "      <th>7</th>\n",
       "      <td>The Fog</td>\n",
       "      <td>1980</td>\n",
       "      <td>70657</td>\n",
       "    </tr>\n",
       "    <tr>\n",
       "      <th>8</th>\n",
       "      <td>In the Mouth of Madness</td>\n",
       "      <td>1995</td>\n",
       "      <td>66455</td>\n",
       "    </tr>\n",
       "    <tr>\n",
       "      <th>9</th>\n",
       "      <td>Vampires</td>\n",
       "      <td>1998</td>\n",
       "      <td>56839</td>\n",
       "    </tr>\n",
       "    <tr>\n",
       "      <th>10</th>\n",
       "      <td>Ghosts of Mars</td>\n",
       "      <td>2001</td>\n",
       "      <td>53489</td>\n",
       "    </tr>\n",
       "    <tr>\n",
       "      <th>11</th>\n",
       "      <td>Assault on Precinct 13</td>\n",
       "      <td>1976</td>\n",
       "      <td>48212</td>\n",
       "    </tr>\n",
       "    <tr>\n",
       "      <th>12</th>\n",
       "      <td>Starman</td>\n",
       "      <td>1984</td>\n",
       "      <td>45814</td>\n",
       "    </tr>\n",
       "    <tr>\n",
       "      <th>13</th>\n",
       "      <td>The Ward</td>\n",
       "      <td>2010</td>\n",
       "      <td>41860</td>\n",
       "    </tr>\n",
       "    <tr>\n",
       "      <th>14</th>\n",
       "      <td>Prince of Darkness</td>\n",
       "      <td>1987</td>\n",
       "      <td>41426</td>\n",
       "    </tr>\n",
       "    <tr>\n",
       "      <th>15</th>\n",
       "      <td>Village of the Damned</td>\n",
       "      <td>1995</td>\n",
       "      <td>30975</td>\n",
       "    </tr>\n",
       "  </tbody>\n",
       "</table>\n",
       "</div>"
      ],
      "text/plain": [
       "                          title  year  imdb_rating_count\n",
       "0                     The Thing  1982             399248\n",
       "1                     Halloween  1978             260419\n",
       "2          Escape from New York  1981             136234\n",
       "3   Big Trouble in Little China  1986             133634\n",
       "4                     They Live  1988             122574\n",
       "5                     Christine  1983              78691\n",
       "6              Escape from L.A.  1996              73071\n",
       "7                       The Fog  1980              70657\n",
       "8       In the Mouth of Madness  1995              66455\n",
       "9                      Vampires  1998              56839\n",
       "10               Ghosts of Mars  2001              53489\n",
       "11       Assault on Precinct 13  1976              48212\n",
       "12                      Starman  1984              45814\n",
       "13                     The Ward  2010              41860\n",
       "14           Prince of Darkness  1987              41426\n",
       "15        Village of the Damned  1995              30975"
      ]
     },
     "execution_count": 10,
     "metadata": {},
     "output_type": "execute_result"
    }
   ],
   "source": [
    "query = ''' SELECT title, EXTRACT(YEAR FROM CAST(release_date AS DATE)) year, imdb_rating_count\n",
    "FROM films\n",
    "JOIN people USING (id)\n",
    "JOIN stats USING (id)\n",
    "WHERE director LIKE '%John Carpenter%'\n",
    "ORDER BY 3 DESC\n",
    "\n",
    "'''\n",
    "\n",
    "pd.read_sql_query(sql = query, con = connection)"
   ]
  }
 ],
 "metadata": {
  "kernelspec": {
   "display_name": "Python 3",
   "language": "python",
   "name": "python3"
  },
  "language_info": {
   "codemirror_mode": {
    "name": "ipython",
    "version": 3
   },
   "file_extension": ".py",
   "mimetype": "text/x-python",
   "name": "python",
   "nbconvert_exporter": "python",
   "pygments_lexer": "ipython3",
   "version": "3.8.5"
  },
  "toc": {
   "base_numbering": 1,
   "nav_menu": {},
   "number_sections": true,
   "sideBar": true,
   "skip_h1_title": false,
   "title_cell": "Table of Contents",
   "title_sidebar": "Contents",
   "toc_cell": false,
   "toc_position": {},
   "toc_section_display": true,
   "toc_window_display": false
  }
 },
 "nbformat": 4,
 "nbformat_minor": 4
}
