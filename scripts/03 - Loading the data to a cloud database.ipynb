{
 "cells": [
  {
   "cell_type": "markdown",
   "metadata": {},
   "source": [
    "# Modules and data"
   ]
  },
  {
   "cell_type": "code",
   "execution_count": 1,
   "metadata": {},
   "outputs": [],
   "source": [
    "from sqlalchemy import create_engine\n",
    "import pandas as pd\n",
    "import os"
   ]
  },
  {
   "cell_type": "code",
   "execution_count": 2,
   "metadata": {},
   "outputs": [],
   "source": [
    "df = pd.read_csv('https://raw.githubusercontent.com/JacopoMalatesta/imdb_most_popular_films/main/data/cleaned_df.csv',\n",
    "            index_col = 0)"
   ]
  },
  {
   "cell_type": "markdown",
   "metadata": {},
   "source": [
    "# Secret info"
   ]
  },
  {
   "cell_type": "markdown",
   "metadata": {},
   "source": [
    "Let's safely load our username and password with the OS module"
   ]
  },
  {
   "cell_type": "code",
   "execution_count": 3,
   "metadata": {},
   "outputs": [],
   "source": [
    "username = os.environ.get('rds_mysql_imdb_username')\n",
    "\n",
    "password = os.environ.get('rds_mysql_imdb_psw')"
   ]
  },
  {
   "cell_type": "markdown",
   "metadata": {},
   "source": [
    "# Putting the data on the cloud"
   ]
  },
  {
   "cell_type": "markdown",
   "metadata": {},
   "source": [
    "I created a MYSQL database on Amazon RDS by following this tutorial: https://aws.amazon.com/getting-started/hands-on/create-mysql-db/"
   ]
  },
  {
   "cell_type": "markdown",
   "metadata": {},
   "source": [
    "Let's split the dataframe into three. "
   ]
  },
  {
   "cell_type": "code",
   "execution_count": 4,
   "metadata": {},
   "outputs": [],
   "source": [
    "films = df[['id', 'title', 'release_date', 'country', 'language', 'genre', 'studios', 'color', 'aspect_ratio', 'last_updated']]\n",
    "\n",
    "stats = df[['id', 'runtime', 'budget', 'revenue', 'imdb_rating', 'imdb_rating_count', 'metascore', 'user_review_count',\n",
    "           'critic_review_count']]\n",
    "\n",
    "people = df[['id', 'director', 'writer', 'actors', 'cinematographer', 'editor', 'composer', 'production_designer', \n",
    "             'art_director','costume_designer', 'producers']]"
   ]
  },
  {
   "cell_type": "markdown",
   "metadata": {},
   "source": [
    "Let's create the engine "
   ]
  },
  {
   "cell_type": "code",
   "execution_count": 5,
   "metadata": {},
   "outputs": [],
   "source": [
    "host = 'mysql-imdb.cxqopnqcl1bm.us-east-2.rds.amazonaws.com'\n",
    "dbname = 'mysql_imdb'\n",
    "\n",
    "connection = create_engine(f'mysql://{username}:{password}@{host}/{dbname}').connect()"
   ]
  },
  {
   "cell_type": "markdown",
   "metadata": {},
   "source": [
    "Let's upload our three dataframes"
   ]
  },
  {
   "cell_type": "code",
   "execution_count": 6,
   "metadata": {},
   "outputs": [],
   "source": [
    "films.to_sql(con = connection, name = 'films', if_exists = 'replace', chunksize = 500, index = False)\n",
    "stats.to_sql(con = connection, name = 'stats', if_exists = 'replace', chunksize = 500, index = False)\n",
    "people.to_sql(con = connection, name = 'people', if_exists = 'replace', chunksize = 500, index = False)"
   ]
  },
  {
   "cell_type": "markdown",
   "metadata": {},
   "source": [
    "Let's run a simple to query to see if everything looks ok"
   ]
  },
  {
   "cell_type": "code",
   "execution_count": 7,
   "metadata": {},
   "outputs": [
    {
     "data": {
      "text/html": [
       "<div>\n",
       "<style scoped>\n",
       "    .dataframe tbody tr th:only-of-type {\n",
       "        vertical-align: middle;\n",
       "    }\n",
       "\n",
       "    .dataframe tbody tr th {\n",
       "        vertical-align: top;\n",
       "    }\n",
       "\n",
       "    .dataframe thead th {\n",
       "        text-align: right;\n",
       "    }\n",
       "</style>\n",
       "<table border=\"1\" class=\"dataframe\">\n",
       "  <thead>\n",
       "    <tr style=\"text-align: right;\">\n",
       "      <th></th>\n",
       "      <th>id</th>\n",
       "      <th>director</th>\n",
       "      <th>writer</th>\n",
       "      <th>actors</th>\n",
       "      <th>cinematographer</th>\n",
       "      <th>editor</th>\n",
       "      <th>composer</th>\n",
       "      <th>production_designer</th>\n",
       "      <th>art_director</th>\n",
       "      <th>costume_designer</th>\n",
       "      <th>producers</th>\n",
       "    </tr>\n",
       "  </thead>\n",
       "  <tbody>\n",
       "    <tr>\n",
       "      <th>0</th>\n",
       "      <td>tt0111161</td>\n",
       "      <td>Frank Darabont</td>\n",
       "      <td>Frank Darabont;Stephen King</td>\n",
       "      <td>Tim Robbins;Morgan Freeman;Bob Gunton;William ...</td>\n",
       "      <td>Roger Deakins</td>\n",
       "      <td>Richard Francis-Bruce</td>\n",
       "      <td>Thomas Newman</td>\n",
       "      <td>Terence Marsh;Soheil</td>\n",
       "      <td>Peter Landsdown Smith</td>\n",
       "      <td>Elizabeth McBride</td>\n",
       "      <td>Liz Glotzer;David V. Lester;Niki Marvin</td>\n",
       "    </tr>\n",
       "    <tr>\n",
       "      <th>1</th>\n",
       "      <td>tt0468569</td>\n",
       "      <td>Christopher Nolan</td>\n",
       "      <td>David S. Goyer;Christopher Nolan;Jonathan Nolan</td>\n",
       "      <td>Christian Bale;Heath Ledger;Aaron Eckhart;Mich...</td>\n",
       "      <td>Wally Pfister</td>\n",
       "      <td>Lee Smith</td>\n",
       "      <td>James Newton Howard;Hans Zimmer</td>\n",
       "      <td>Nathan Crowley</td>\n",
       "      <td>Mark Bartholomew;James Hambidge;Craig Jackson;...</td>\n",
       "      <td>Lindy Hemming</td>\n",
       "      <td>Kevin de la Noy;Jordan Goldberg;Philip Lee;Ben...</td>\n",
       "    </tr>\n",
       "    <tr>\n",
       "      <th>2</th>\n",
       "      <td>tt1375666</td>\n",
       "      <td>Christopher Nolan</td>\n",
       "      <td>Christopher Nolan</td>\n",
       "      <td>Leonardo DiCaprio;Joseph Gordon-Levitt;Elliot ...</td>\n",
       "      <td>Wally Pfister</td>\n",
       "      <td>Lee Smith</td>\n",
       "      <td>Hans Zimmer</td>\n",
       "      <td>Guy Hendrix Dyas</td>\n",
       "      <td>Luke Freeborn;Matthew Gray;Brad Ricker;Dean Wo...</td>\n",
       "      <td>Jeffrey Kurland</td>\n",
       "      <td>Zakaria Alaoui;John Bernard;Chris Brigham;Jord...</td>\n",
       "    </tr>\n",
       "    <tr>\n",
       "      <th>3</th>\n",
       "      <td>tt0137523</td>\n",
       "      <td>David Fincher</td>\n",
       "      <td>Chuck Palahniuk;Jim Uhls</td>\n",
       "      <td>Edward Norton;Brad Pitt;Meat Loaf;Zach Grenier...</td>\n",
       "      <td>Jeff Cronenweth</td>\n",
       "      <td>James Haygood</td>\n",
       "      <td>Dust Brothers;John King;Michael Simpson</td>\n",
       "      <td>Alex McDowell</td>\n",
       "      <td>Melique Berger;Chris Gorak</td>\n",
       "      <td>Michael Kaplan</td>\n",
       "      <td>Ross Grayson Bell;Ceán Chaffin;John S. Dorsey;...</td>\n",
       "    </tr>\n",
       "    <tr>\n",
       "      <th>4</th>\n",
       "      <td>tt0109830</td>\n",
       "      <td>Robert Zemeckis</td>\n",
       "      <td>Eric Roth;Winston Groom</td>\n",
       "      <td>Tom Hanks;Rebecca Williams;Sally Field;Michael...</td>\n",
       "      <td>Don Burgess</td>\n",
       "      <td>Arthur Schmidt</td>\n",
       "      <td>Alan Silvestri</td>\n",
       "      <td>Rick Carter</td>\n",
       "      <td>Leslie McDonald;William James Teegarden</td>\n",
       "      <td>Joanna Johnston</td>\n",
       "      <td>Wendy Finerman;Charles Newirth;Steve Starkey;S...</td>\n",
       "    </tr>\n",
       "  </tbody>\n",
       "</table>\n",
       "</div>"
      ],
      "text/plain": [
       "          id           director  \\\n",
       "0  tt0111161     Frank Darabont   \n",
       "1  tt0468569  Christopher Nolan   \n",
       "2  tt1375666  Christopher Nolan   \n",
       "3  tt0137523      David Fincher   \n",
       "4  tt0109830    Robert Zemeckis   \n",
       "\n",
       "                                            writer  \\\n",
       "0                      Frank Darabont;Stephen King   \n",
       "1  David S. Goyer;Christopher Nolan;Jonathan Nolan   \n",
       "2                                Christopher Nolan   \n",
       "3                         Chuck Palahniuk;Jim Uhls   \n",
       "4                          Eric Roth;Winston Groom   \n",
       "\n",
       "                                              actors  cinematographer  \\\n",
       "0  Tim Robbins;Morgan Freeman;Bob Gunton;William ...    Roger Deakins   \n",
       "1  Christian Bale;Heath Ledger;Aaron Eckhart;Mich...    Wally Pfister   \n",
       "2  Leonardo DiCaprio;Joseph Gordon-Levitt;Elliot ...    Wally Pfister   \n",
       "3  Edward Norton;Brad Pitt;Meat Loaf;Zach Grenier...  Jeff Cronenweth   \n",
       "4  Tom Hanks;Rebecca Williams;Sally Field;Michael...      Don Burgess   \n",
       "\n",
       "                  editor                                 composer  \\\n",
       "0  Richard Francis-Bruce                            Thomas Newman   \n",
       "1              Lee Smith          James Newton Howard;Hans Zimmer   \n",
       "2              Lee Smith                              Hans Zimmer   \n",
       "3          James Haygood  Dust Brothers;John King;Michael Simpson   \n",
       "4         Arthur Schmidt                           Alan Silvestri   \n",
       "\n",
       "    production_designer                                       art_director  \\\n",
       "0  Terence Marsh;Soheil                              Peter Landsdown Smith   \n",
       "1        Nathan Crowley  Mark Bartholomew;James Hambidge;Craig Jackson;...   \n",
       "2      Guy Hendrix Dyas  Luke Freeborn;Matthew Gray;Brad Ricker;Dean Wo...   \n",
       "3         Alex McDowell                         Melique Berger;Chris Gorak   \n",
       "4           Rick Carter            Leslie McDonald;William James Teegarden   \n",
       "\n",
       "    costume_designer                                          producers  \n",
       "0  Elizabeth McBride            Liz Glotzer;David V. Lester;Niki Marvin  \n",
       "1      Lindy Hemming  Kevin de la Noy;Jordan Goldberg;Philip Lee;Ben...  \n",
       "2    Jeffrey Kurland  Zakaria Alaoui;John Bernard;Chris Brigham;Jord...  \n",
       "3     Michael Kaplan  Ross Grayson Bell;Ceán Chaffin;John S. Dorsey;...  \n",
       "4    Joanna Johnston  Wendy Finerman;Charles Newirth;Steve Starkey;S...  "
      ]
     },
     "execution_count": 7,
     "metadata": {},
     "output_type": "execute_result"
    }
   ],
   "source": [
    "pd.read_sql_query(sql = \"SELECT * FROM people LIMIT 5\", con = connection)"
   ]
  }
 ],
 "metadata": {
  "kernelspec": {
   "display_name": "Python 3",
   "language": "python",
   "name": "python3"
  },
  "language_info": {
   "codemirror_mode": {
    "name": "ipython",
    "version": 3
   },
   "file_extension": ".py",
   "mimetype": "text/x-python",
   "name": "python",
   "nbconvert_exporter": "python",
   "pygments_lexer": "ipython3",
   "version": "3.8.5"
  },
  "toc": {
   "base_numbering": 1,
   "nav_menu": {},
   "number_sections": true,
   "sideBar": true,
   "skip_h1_title": false,
   "title_cell": "Table of Contents",
   "title_sidebar": "Contents",
   "toc_cell": false,
   "toc_position": {},
   "toc_section_display": true,
   "toc_window_display": false
  }
 },
 "nbformat": 4,
 "nbformat_minor": 4
}
