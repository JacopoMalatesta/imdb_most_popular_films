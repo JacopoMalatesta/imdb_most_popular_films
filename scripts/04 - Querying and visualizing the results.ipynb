{
 "cells": [
  {
   "cell_type": "markdown",
   "id": "eefc3001",
   "metadata": {},
   "source": [
    "# Loading the libraries"
   ]
  },
  {
   "cell_type": "code",
   "execution_count": 1,
   "id": "6cd8724f",
   "metadata": {},
   "outputs": [],
   "source": [
    "suppressWarnings(suppressPackageStartupMessages(library(odbc)))\n",
    "suppressWarnings(suppressPackageStartupMessages(library(tidyverse)))"
   ]
  },
  {
   "cell_type": "markdown",
   "id": "dfb78698",
   "metadata": {},
   "source": [
    "# Connecting to the database"
   ]
  },
  {
   "cell_type": "markdown",
   "id": "425e1a8f",
   "metadata": {},
   "source": [
    "Let's have a look at the servers we have available"
   ]
  },
  {
   "cell_type": "code",
   "execution_count": 2,
   "id": "e9b413a9",
   "metadata": {},
   "outputs": [
    {
     "data": {
      "text/html": [
       "<style>\n",
       ".list-inline {list-style: none; margin:0; padding: 0}\n",
       ".list-inline>li {display: inline-block}\n",
       ".list-inline>li:not(:last-child)::after {content: \"\\00b7\"; padding: 0 .5ex}\n",
       "</style>\n",
       "<ol class=list-inline><li>'Microsoft Access Driver (*.mdb, *.accdb)'</li><li>'Microsoft Access Text Driver (*.txt, *.csv)'</li><li>'Microsoft Excel Driver (*.xls, *.xlsx, *.xlsm, *.xlsb)'</li><li>'ODBC Driver 17 for SQL Server'</li><li>'PostgreSQL ANSI'</li><li>'PostgreSQL ANSI(x64)'</li><li>'PostgreSQL Unicode'</li><li>'PostgreSQL Unicode(x64)'</li><li>'SQL Server'</li><li>'SQL Server Native Client 11.0'</li><li>'SQL Server Native Client RDA 11.0'</li></ol>\n"
      ],
      "text/latex": [
       "\\begin{enumerate*}\n",
       "\\item 'Microsoft Access Driver (*.mdb, *.accdb)'\n",
       "\\item 'Microsoft Access Text Driver (*.txt, *.csv)'\n",
       "\\item 'Microsoft Excel Driver (*.xls, *.xlsx, *.xlsm, *.xlsb)'\n",
       "\\item 'ODBC Driver 17 for SQL Server'\n",
       "\\item 'PostgreSQL ANSI'\n",
       "\\item 'PostgreSQL ANSI(x64)'\n",
       "\\item 'PostgreSQL Unicode'\n",
       "\\item 'PostgreSQL Unicode(x64)'\n",
       "\\item 'SQL Server'\n",
       "\\item 'SQL Server Native Client 11.0'\n",
       "\\item 'SQL Server Native Client RDA 11.0'\n",
       "\\end{enumerate*}\n"
      ],
      "text/markdown": [
       "1. 'Microsoft Access Driver (*.mdb, *.accdb)'\n",
       "2. 'Microsoft Access Text Driver (*.txt, *.csv)'\n",
       "3. 'Microsoft Excel Driver (*.xls, *.xlsx, *.xlsm, *.xlsb)'\n",
       "4. 'ODBC Driver 17 for SQL Server'\n",
       "5. 'PostgreSQL ANSI'\n",
       "6. 'PostgreSQL ANSI(x64)'\n",
       "7. 'PostgreSQL Unicode'\n",
       "8. 'PostgreSQL Unicode(x64)'\n",
       "9. 'SQL Server'\n",
       "10. 'SQL Server Native Client 11.0'\n",
       "11. 'SQL Server Native Client RDA 11.0'\n",
       "\n",
       "\n"
      ],
      "text/plain": [
       " [1] \"Microsoft Access Driver (*.mdb, *.accdb)\"              \n",
       " [2] \"Microsoft Access Text Driver (*.txt, *.csv)\"           \n",
       " [3] \"Microsoft Excel Driver (*.xls, *.xlsx, *.xlsm, *.xlsb)\"\n",
       " [4] \"ODBC Driver 17 for SQL Server\"                         \n",
       " [5] \"PostgreSQL ANSI\"                                       \n",
       " [6] \"PostgreSQL ANSI(x64)\"                                  \n",
       " [7] \"PostgreSQL Unicode\"                                    \n",
       " [8] \"PostgreSQL Unicode(x64)\"                               \n",
       " [9] \"SQL Server\"                                            \n",
       "[10] \"SQL Server Native Client 11.0\"                         \n",
       "[11] \"SQL Server Native Client RDA 11.0\"                     "
      ]
     },
     "metadata": {},
     "output_type": "display_data"
    }
   ],
   "source": [
    "sort(unique(odbcListDrivers()[[1]]))"
   ]
  },
  {
   "cell_type": "markdown",
   "id": "eaaef407",
   "metadata": {},
   "source": [
    "Let's connect to our postgreSQL database"
   ]
  },
  {
   "cell_type": "code",
   "execution_count": 29,
   "id": "423376e1",
   "metadata": {},
   "outputs": [],
   "source": [
    "con <- DBI::dbConnect(odbc(),\n",
    "                      Driver   = \"PostgreSQL Unicode(x64)\",\n",
    "                      Server   = Sys.getenv('rds_postgres_imdb_host'),\n",
    "                      Database = \"postgres_imdb\",\n",
    "                      UID      = Sys.getenv('rds_postgres_imdb_username'),\n",
    "                      PWD      = Sys.getenv('rds_postgres_imdb_psw'),\n",
    "                      Port     = 5432)"
   ]
  },
  {
   "cell_type": "markdown",
   "id": "f95da7c9",
   "metadata": {},
   "source": [
    "The tables in our database"
   ]
  },
  {
   "cell_type": "code",
   "execution_count": 4,
   "id": "da81287d",
   "metadata": {},
   "outputs": [
    {
     "data": {
      "text/html": [
       "<style>\n",
       ".list-inline {list-style: none; margin:0; padding: 0}\n",
       ".list-inline>li {display: inline-block}\n",
       ".list-inline>li:not(:last-child)::after {content: \"\\00b7\"; padding: 0 .5ex}\n",
       "</style>\n",
       "<ol class=list-inline><li>'films'</li><li>'people'</li><li>'stats'</li></ol>\n"
      ],
      "text/latex": [
       "\\begin{enumerate*}\n",
       "\\item 'films'\n",
       "\\item 'people'\n",
       "\\item 'stats'\n",
       "\\end{enumerate*}\n"
      ],
      "text/markdown": [
       "1. 'films'\n",
       "2. 'people'\n",
       "3. 'stats'\n",
       "\n",
       "\n"
      ],
      "text/plain": [
       "[1] \"films\"  \"people\" \"stats\" "
      ]
     },
     "metadata": {},
     "output_type": "display_data"
    }
   ],
   "source": [
    "dbListTables(con)"
   ]
  },
  {
   "cell_type": "markdown",
   "id": "80db697e",
   "metadata": {},
   "source": [
    "# Querying and visualizing the data"
   ]
  },
  {
   "cell_type": "markdown",
   "id": "1a82d524",
   "metadata": {},
   "source": [
    "## Directors by most films in the database"
   ]
  },
  {
   "cell_type": "markdown",
   "id": "1470daf6",
   "metadata": {},
   "source": [
    "The director column in the people table may contain more than one name with each name being separated by a semi-colon. Let's split that column and unnest the resulting array"
   ]
  },
  {
   "cell_type": "code",
   "execution_count": 32,
   "id": "36893457",
   "metadata": {},
   "outputs": [
    {
     "data": {
      "image/png": "[encoded data removed]",
      "text/plain": [
       "plot without title"
      ]
     },
     "metadata": {
      "image/png": {
       "height": 420,
       "width": 420
      }
     },
     "output_type": "display_data"
    }
   ],
   "source": [
    "query <- \"SELECT UNNEST(STRING_TO_ARRAY(director, ';')) director, \n",
    "          COUNT(*) n_of_films\n",
    "          FROM people\n",
    "          GROUP BY 1\n",
    "          ORDER BY 2 DESC\n",
    "          LIMIT 15\"\n",
    "\n",
    "output <- dbGetQuery(conn = con, statement = query)\n",
    "\n",
    "output %>% \n",
    "  ggplot(aes(x = fct_reorder(director, n_of_films), y = as.numeric(n_of_films), fill = as.numeric(n_of_films))) +\n",
    "  geom_col() +\n",
    "  geom_text(aes(label = as.factor(n_of_films)), nudge_y = 1, size = 3) +\n",
    "  coord_flip() +\n",
    "  theme_classic() +\n",
    "  theme(legend.position = \"none\",\n",
    "        axis.title.x = element_blank(),\n",
    "        axis.title.y = element_blank(),\n",
    "        axis.text.x = element_blank(),\n",
    "        axis.ticks.x = element_blank(),\n",
    "        axis.ticks.y = element_blank()) +\n",
    "  ggtitle(\"Top 15 directors by number of films in the database\") +\n",
    "  scale_fill_gradient(low = \"pink\", high = \"dark red\")"
   ]
  },
  {
   "cell_type": "markdown",
   "id": "e269a6c2",
   "metadata": {},
   "source": [
    "## Top 15 directors by average movie rating"
   ]
  },
  {
   "cell_type": "code",
   "execution_count": 7,
   "id": "6b261b4a",
   "metadata": {},
   "outputs": [
    {
     "data": {
      "text/html": [
       "<table class=\"dataframe\">\n",
       "<caption>A data.frame: 15 × 3</caption>\n",
       "<thead>\n",
       "\t<tr><th scope=col>director</th><th scope=col>avg_rating</th><th scope=col>films</th></tr>\n",
       "\t<tr><th scope=col>&lt;chr&gt;</th><th scope=col>&lt;dbl&gt;</th><th scope=col>&lt;chr&gt;</th></tr>\n",
       "</thead>\n",
       "<tbody>\n",
       "\t<tr><td>Charles Chaplin  </td><td>8.33</td><td>Modern Times (1936) | City Lights (1931) | The Circus (1928) | The Kid (1921) | The Gold Rush (1925) | The Great Dictator (1940)                                                                                                                                                                                    </td></tr>\n",
       "\t<tr><td>Sergio Leone     </td><td>8.23</td><td>Once Upon a Time in America (1984) | Once Upon a Time in the West (1968) | For a Few Dollars More (1965) | A Fistful of Dollars (1964) | Duck, You Sucker (1971) | The Good, the Bad and the Ugly (1966)                                                                                                            </td></tr>\n",
       "\t<tr><td>Akira Kurosawa   </td><td>8.22</td><td>Seven Samurai (1954) | Ran (1985) | Rashomon (1950) | The Hidden Fortress (1958) | Throne of Blood (1957) | Yojimbo (1961) | Sanjuro (1962) | Kagemusha (1980) | High and Low (1963) | Ikiru (1952)                                                                                                                 </td></tr>\n",
       "\t<tr><td>Christopher Nolan</td><td>8.16</td><td>Following (1999) | Dunkirk (2017) | Batman Begins (2005) | Interstellar (2014) | Tenet (2020) | The Dark Knight Rises (2012) | Memento (2000) | The Prestige (2006) | The Dark Knight (2008) | Insomnia (2002) | Inception (2010)                                                                                   </td></tr>\n",
       "\t<tr><td>Ingmar Bergman   </td><td>8.15</td><td>Fanny and Alexander (1982) | Cries and Whispers (1972) | The Seventh Seal (1957) | Persona (1966) | Wild Strawberries (1957) | Autumn Sonata (1978)                                                                                                                                                                 </td></tr>\n",
       "\t<tr><td>Lee Unkrich      </td><td>8.14</td><td>Toy Story 2 (1999) | Finding Nemo (2003) | Toy Story 3 (2010) | Coco (2017) | Monsters, Inc. (2001)                                                                                                                                                                                                                 </td></tr>\n",
       "\t<tr><td>Stanley Kubrick  </td><td>8.09</td><td>2001: A Space Odyssey (1968) | Paths of Glory (1957) | Full Metal Jacket (1987) | Dr. Strangelove (1964) | A Clockwork Orange (1971) | Barry Lyndon (1975) | The Shining (1980) | Spartacus (1960) | The Killing (1956) | Eyes Wide Shut (1999) | Lolita (1962)                                                     </td></tr>\n",
       "\t<tr><td>Andrei Tarkovsky </td><td>8.08</td><td>Andrei Rublev (1966) | Solaris (1972) | Ivan's Childhood (1962) | Stalker (1979) | Mirror (1975)                                                                                                                                                                                                                    </td></tr>\n",
       "\t<tr><td>Rajkumar Hirani  </td><td>8.08</td><td>Lage Raho Munna Bhai (2006) | 3 Idiots (2009) | Munna Bhai M.B.B.S. (2003) | PK (2014) | Sanju (2018)                                                                                                                                                                                                               </td></tr>\n",
       "\t<tr><td><span style=white-space:pre-wrap>Hayao Miyazaki   </span></td><td>8.06</td><td><span style=white-space:pre-wrap>The Wind Rises (2013) | Kiki's Delivery Service (1989) | Ponyo (2008) | My Neighbor Totoro (1988) | Porco Rosso (1992) | Howl's Moving Castle (2004) | Castle in the Sky (1986) | Princess Mononoke (1997) | Spirited Away (2001) | Nausica&lt;e4&gt; of the Valley of the Wind (1984)                                    </span></td></tr>\n",
       "\t<tr><td>Billy Wilder     </td><td>8.03</td><td>Some Like It Hot (1959) | The Apartment (1960) | Witness for the Prosecution (1957) | Sabrina (1954) | Sunset Boulevard (1950) | Stalag 17 (1953) | Double Indemnity (1944) | The Seven Year Itch (1955) | Ace in the Hole (1951) | The Lost Weekend (1945)                                                         </td></tr>\n",
       "\t<tr><td>Federico Fellini </td><td>8.00</td><td><span style=white-space:pre-wrap>La Dolce Vita (1960) | Nights of Cabiria (1957) | La Strada (1954) | 8&lt;U+00BD&gt; (1963) | Amarcord (1973)                                                                                                                                                                                                             </span></td></tr>\n",
       "\t<tr><td>John Ford        </td><td>7.96</td><td>The Searchers (1956) | The Man Who Shot Liberty Valance (1962) | The Quiet Man (1952) | Stagecoach (1939) | The Grapes of Wrath (1940)                                                                                                                                                                              </td></tr>\n",
       "\t<tr><td>Quentin Tarantino</td><td>7.95</td><td>Kill Bill: Vol. 1 (2003) | Grindhouse (2007) | Jackie Brown (1997) | Pulp Fiction (1994) | The Hateful Eight (2015) | Kill Bill: Vol. 2 (2004) | Django Unchained (2012) | Death Proof (2007) | Inglourious Basterds (2009) | Once Upon a Time&lt;U+0085&gt; in Hollywood (2019) | Reservoir Dogs (1992) | Sin City (2005)</td></tr>\n",
       "\t<tr><td>James Cameron    </td><td>7.87</td><td>Terminator 2: Judgment Day (1991) | Aliens (1986) | Titanic (1997) | The Abyss (1989) | True Lies (1994) | Avatar (2009) | The Terminator (1984)                                                                                                                                                                    </td></tr>\n",
       "</tbody>\n",
       "</table>\n"
      ],
      "text/latex": [
       "A data.frame: 15 × 3\n",
       "\\begin{tabular}{lll}\n",
       " director & avg\\_rating & films\\\\\n",
       " <chr> & <dbl> & <chr>\\\\\n",
       "\\hline\n",
       "\t Charles Chaplin   & 8.33 & Modern Times (1936) \\textbar{} City Lights (1931) \\textbar{} The Circus (1928) \\textbar{} The Kid (1921) \\textbar{} The Gold Rush (1925) \\textbar{} The Great Dictator (1940)                                                                                                                                                                                    \\\\\n",
       "\t Sergio Leone      & 8.23 & Once Upon a Time in America (1984) \\textbar{} Once Upon a Time in the West (1968) \\textbar{} For a Few Dollars More (1965) \\textbar{} A Fistful of Dollars (1964) \\textbar{} Duck, You Sucker (1971) \\textbar{} The Good, the Bad and the Ugly (1966)                                                                                                            \\\\\n",
       "\t Akira Kurosawa    & 8.22 & Seven Samurai (1954) \\textbar{} Ran (1985) \\textbar{} Rashomon (1950) \\textbar{} The Hidden Fortress (1958) \\textbar{} Throne of Blood (1957) \\textbar{} Yojimbo (1961) \\textbar{} Sanjuro (1962) \\textbar{} Kagemusha (1980) \\textbar{} High and Low (1963) \\textbar{} Ikiru (1952)                                                                                                                 \\\\\n",
       "\t Christopher Nolan & 8.16 & Following (1999) \\textbar{} Dunkirk (2017) \\textbar{} Batman Begins (2005) \\textbar{} Interstellar (2014) \\textbar{} Tenet (2020) \\textbar{} The Dark Knight Rises (2012) \\textbar{} Memento (2000) \\textbar{} The Prestige (2006) \\textbar{} The Dark Knight (2008) \\textbar{} Insomnia (2002) \\textbar{} Inception (2010)                                                                                   \\\\\n",
       "\t Ingmar Bergman    & 8.15 & Fanny and Alexander (1982) \\textbar{} Cries and Whispers (1972) \\textbar{} The Seventh Seal (1957) \\textbar{} Persona (1966) \\textbar{} Wild Strawberries (1957) \\textbar{} Autumn Sonata (1978)                                                                                                                                                                 \\\\\n",
       "\t Lee Unkrich       & 8.14 & Toy Story 2 (1999) \\textbar{} Finding Nemo (2003) \\textbar{} Toy Story 3 (2010) \\textbar{} Coco (2017) \\textbar{} Monsters, Inc. (2001)                                                                                                                                                                                                                 \\\\\n",
       "\t Stanley Kubrick   & 8.09 & 2001: A Space Odyssey (1968) \\textbar{} Paths of Glory (1957) \\textbar{} Full Metal Jacket (1987) \\textbar{} Dr. Strangelove (1964) \\textbar{} A Clockwork Orange (1971) \\textbar{} Barry Lyndon (1975) \\textbar{} The Shining (1980) \\textbar{} Spartacus (1960) \\textbar{} The Killing (1956) \\textbar{} Eyes Wide Shut (1999) \\textbar{} Lolita (1962)                                                     \\\\\n",
       "\t Andrei Tarkovsky  & 8.08 & Andrei Rublev (1966) \\textbar{} Solaris (1972) \\textbar{} Ivan's Childhood (1962) \\textbar{} Stalker (1979) \\textbar{} Mirror (1975)                                                                                                                                                                                                                    \\\\\n",
       "\t Rajkumar Hirani   & 8.08 & Lage Raho Munna Bhai (2006) \\textbar{} 3 Idiots (2009) \\textbar{} Munna Bhai M.B.B.S. (2003) \\textbar{} PK (2014) \\textbar{} Sanju (2018)                                                                                                                                                                                                               \\\\\n",
       "\t Hayao Miyazaki    & 8.06 & The Wind Rises (2013) \\textbar{} Kiki's Delivery Service (1989) \\textbar{} Ponyo (2008) \\textbar{} My Neighbor Totoro (1988) \\textbar{} Porco Rosso (1992) \\textbar{} Howl's Moving Castle (2004) \\textbar{} Castle in the Sky (1986) \\textbar{} Princess Mononoke (1997) \\textbar{} Spirited Away (2001) \\textbar{} Nausica<e4> of the Valley of the Wind (1984)                                    \\\\\n",
       "\t Billy Wilder      & 8.03 & Some Like It Hot (1959) \\textbar{} The Apartment (1960) \\textbar{} Witness for the Prosecution (1957) \\textbar{} Sabrina (1954) \\textbar{} Sunset Boulevard (1950) \\textbar{} Stalag 17 (1953) \\textbar{} Double Indemnity (1944) \\textbar{} The Seven Year Itch (1955) \\textbar{} Ace in the Hole (1951) \\textbar{} The Lost Weekend (1945)                                                         \\\\\n",
       "\t Federico Fellini  & 8.00 & La Dolce Vita (1960) \\textbar{} Nights of Cabiria (1957) \\textbar{} La Strada (1954) \\textbar{} 8<U+00BD> (1963) \\textbar{} Amarcord (1973)                                                                                                                                                                                                             \\\\\n",
       "\t John Ford         & 7.96 & The Searchers (1956) \\textbar{} The Man Who Shot Liberty Valance (1962) \\textbar{} The Quiet Man (1952) \\textbar{} Stagecoach (1939) \\textbar{} The Grapes of Wrath (1940)                                                                                                                                                                              \\\\\n",
       "\t Quentin Tarantino & 7.95 & Kill Bill: Vol. 1 (2003) \\textbar{} Grindhouse (2007) \\textbar{} Jackie Brown (1997) \\textbar{} Pulp Fiction (1994) \\textbar{} The Hateful Eight (2015) \\textbar{} Kill Bill: Vol. 2 (2004) \\textbar{} Django Unchained (2012) \\textbar{} Death Proof (2007) \\textbar{} Inglourious Basterds (2009) \\textbar{} Once Upon a Time<U+0085> in Hollywood (2019) \\textbar{} Reservoir Dogs (1992) \\textbar{} Sin City (2005)\\\\\n",
       "\t James Cameron     & 7.87 & Terminator 2: Judgment Day (1991) \\textbar{} Aliens (1986) \\textbar{} Titanic (1997) \\textbar{} The Abyss (1989) \\textbar{} True Lies (1994) \\textbar{} Avatar (2009) \\textbar{} The Terminator (1984)                                                                                                                                                                    \\\\\n",
       "\\end{tabular}\n"
      ],
      "text/markdown": [
       "\n",
       "A data.frame: 15 × 3\n",
       "\n",
       "| director &lt;chr&gt; | avg_rating &lt;dbl&gt; | films &lt;chr&gt; |\n",
       "|---|---|---|\n",
       "| Charles Chaplin   | 8.33 | Modern Times (1936) | City Lights (1931) | The Circus (1928) | The Kid (1921) | The Gold Rush (1925) | The Great Dictator (1940)                                                                                                                                                                                     |\n",
       "| Sergio Leone      | 8.23 | Once Upon a Time in America (1984) | Once Upon a Time in the West (1968) | For a Few Dollars More (1965) | A Fistful of Dollars (1964) | Duck, You Sucker (1971) | The Good, the Bad and the Ugly (1966)                                                                                                             |\n",
       "| Akira Kurosawa    | 8.22 | Seven Samurai (1954) | Ran (1985) | Rashomon (1950) | The Hidden Fortress (1958) | Throne of Blood (1957) | Yojimbo (1961) | Sanjuro (1962) | Kagemusha (1980) | High and Low (1963) | Ikiru (1952)                                                                                                                  |\n",
       "| Christopher Nolan | 8.16 | Following (1999) | Dunkirk (2017) | Batman Begins (2005) | Interstellar (2014) | Tenet (2020) | The Dark Knight Rises (2012) | Memento (2000) | The Prestige (2006) | The Dark Knight (2008) | Insomnia (2002) | Inception (2010)                                                                                    |\n",
       "| Ingmar Bergman    | 8.15 | Fanny and Alexander (1982) | Cries and Whispers (1972) | The Seventh Seal (1957) | Persona (1966) | Wild Strawberries (1957) | Autumn Sonata (1978)                                                                                                                                                                  |\n",
       "| Lee Unkrich       | 8.14 | Toy Story 2 (1999) | Finding Nemo (2003) | Toy Story 3 (2010) | Coco (2017) | Monsters, Inc. (2001)                                                                                                                                                                                                                  |\n",
       "| Stanley Kubrick   | 8.09 | 2001: A Space Odyssey (1968) | Paths of Glory (1957) | Full Metal Jacket (1987) | Dr. Strangelove (1964) | A Clockwork Orange (1971) | Barry Lyndon (1975) | The Shining (1980) | Spartacus (1960) | The Killing (1956) | Eyes Wide Shut (1999) | Lolita (1962)                                                      |\n",
       "| Andrei Tarkovsky  | 8.08 | Andrei Rublev (1966) | Solaris (1972) | Ivan's Childhood (1962) | Stalker (1979) | Mirror (1975)                                                                                                                                                                                                                     |\n",
       "| Rajkumar Hirani   | 8.08 | Lage Raho Munna Bhai (2006) | 3 Idiots (2009) | Munna Bhai M.B.B.S. (2003) | PK (2014) | Sanju (2018)                                                                                                                                                                                                                |\n",
       "| Hayao Miyazaki    | 8.06 | The Wind Rises (2013) | Kiki's Delivery Service (1989) | Ponyo (2008) | My Neighbor Totoro (1988) | Porco Rosso (1992) | Howl's Moving Castle (2004) | Castle in the Sky (1986) | Princess Mononoke (1997) | Spirited Away (2001) | Nausica&lt;e4&gt; of the Valley of the Wind (1984)                                     |\n",
       "| Billy Wilder      | 8.03 | Some Like It Hot (1959) | The Apartment (1960) | Witness for the Prosecution (1957) | Sabrina (1954) | Sunset Boulevard (1950) | Stalag 17 (1953) | Double Indemnity (1944) | The Seven Year Itch (1955) | Ace in the Hole (1951) | The Lost Weekend (1945)                                                          |\n",
       "| Federico Fellini  | 8.00 | La Dolce Vita (1960) | Nights of Cabiria (1957) | La Strada (1954) | 8&lt;U+00BD&gt; (1963) | Amarcord (1973)                                                                                                                                                                                                              |\n",
       "| John Ford         | 7.96 | The Searchers (1956) | The Man Who Shot Liberty Valance (1962) | The Quiet Man (1952) | Stagecoach (1939) | The Grapes of Wrath (1940)                                                                                                                                                                               |\n",
       "| Quentin Tarantino | 7.95 | Kill Bill: Vol. 1 (2003) | Grindhouse (2007) | Jackie Brown (1997) | Pulp Fiction (1994) | The Hateful Eight (2015) | Kill Bill: Vol. 2 (2004) | Django Unchained (2012) | Death Proof (2007) | Inglourious Basterds (2009) | Once Upon a Time&lt;U+0085&gt; in Hollywood (2019) | Reservoir Dogs (1992) | Sin City (2005) |\n",
       "| James Cameron     | 7.87 | Terminator 2: Judgment Day (1991) | Aliens (1986) | Titanic (1997) | The Abyss (1989) | True Lies (1994) | Avatar (2009) | The Terminator (1984)                                                                                                                                                                     |\n",
       "\n"
      ],
      "text/plain": [
       "   director          avg_rating\n",
       "1  Charles Chaplin   8.33      \n",
       "2  Sergio Leone      8.23      \n",
       "3  Akira Kurosawa    8.22      \n",
       "4  Christopher Nolan 8.16      \n",
       "5  Ingmar Bergman    8.15      \n",
       "6  Lee Unkrich       8.14      \n",
       "7  Stanley Kubrick   8.09      \n",
       "8  Andrei Tarkovsky  8.08      \n",
       "9  Rajkumar Hirani   8.08      \n",
       "10 Hayao Miyazaki    8.06      \n",
       "11 Billy Wilder      8.03      \n",
       "12 Federico Fellini  8.00      \n",
       "13 John Ford         7.96      \n",
       "14 Quentin Tarantino 7.95      \n",
       "15 James Cameron     7.87      \n",
       "   films                                                                                                                                                                                                                                                                                                               \n",
       "1  Modern Times (1936) | City Lights (1931) | The Circus (1928) | The Kid (1921) | The Gold Rush (1925) | The Great Dictator (1940)                                                                                                                                                                                    \n",
       "2  Once Upon a Time in America (1984) | Once Upon a Time in the West (1968) | For a Few Dollars More (1965) | A Fistful of Dollars (1964) | Duck, You Sucker (1971) | The Good, the Bad and the Ugly (1966)                                                                                                            \n",
       "3  Seven Samurai (1954) | Ran (1985) | Rashomon (1950) | The Hidden Fortress (1958) | Throne of Blood (1957) | Yojimbo (1961) | Sanjuro (1962) | Kagemusha (1980) | High and Low (1963) | Ikiru (1952)                                                                                                                 \n",
       "4  Following (1999) | Dunkirk (2017) | Batman Begins (2005) | Interstellar (2014) | Tenet (2020) | The Dark Knight Rises (2012) | Memento (2000) | The Prestige (2006) | The Dark Knight (2008) | Insomnia (2002) | Inception (2010)                                                                                   \n",
       "5  Fanny and Alexander (1982) | Cries and Whispers (1972) | The Seventh Seal (1957) | Persona (1966) | Wild Strawberries (1957) | Autumn Sonata (1978)                                                                                                                                                                 \n",
       "6  Toy Story 2 (1999) | Finding Nemo (2003) | Toy Story 3 (2010) | Coco (2017) | Monsters, Inc. (2001)                                                                                                                                                                                                                 \n",
       "7  2001: A Space Odyssey (1968) | Paths of Glory (1957) | Full Metal Jacket (1987) | Dr. Strangelove (1964) | A Clockwork Orange (1971) | Barry Lyndon (1975) | The Shining (1980) | Spartacus (1960) | The Killing (1956) | Eyes Wide Shut (1999) | Lolita (1962)                                                     \n",
       "8  Andrei Rublev (1966) | Solaris (1972) | Ivan's Childhood (1962) | Stalker (1979) | Mirror (1975)                                                                                                                                                                                                                    \n",
       "9  Lage Raho Munna Bhai (2006) | 3 Idiots (2009) | Munna Bhai M.B.B.S. (2003) | PK (2014) | Sanju (2018)                                                                                                                                                                                                               \n",
       "10 The Wind Rises (2013) | Kiki's Delivery Service (1989) | Ponyo (2008) | My Neighbor Totoro (1988) | Porco Rosso (1992) | Howl's Moving Castle (2004) | Castle in the Sky (1986) | Princess Mononoke (1997) | Spirited Away (2001) | Nausica<e4> of the Valley of the Wind (1984)                                    \n",
       "11 Some Like It Hot (1959) | The Apartment (1960) | Witness for the Prosecution (1957) | Sabrina (1954) | Sunset Boulevard (1950) | Stalag 17 (1953) | Double Indemnity (1944) | The Seven Year Itch (1955) | Ace in the Hole (1951) | The Lost Weekend (1945)                                                         \n",
       "12 La Dolce Vita (1960) | Nights of Cabiria (1957) | La Strada (1954) | 8<U+00BD> (1963) | Amarcord (1973)                                                                                                                                                                                                             \n",
       "13 The Searchers (1956) | The Man Who Shot Liberty Valance (1962) | The Quiet Man (1952) | Stagecoach (1939) | The Grapes of Wrath (1940)                                                                                                                                                                              \n",
       "14 Kill Bill: Vol. 1 (2003) | Grindhouse (2007) | Jackie Brown (1997) | Pulp Fiction (1994) | The Hateful Eight (2015) | Kill Bill: Vol. 2 (2004) | Django Unchained (2012) | Death Proof (2007) | Inglourious Basterds (2009) | Once Upon a Time<U+0085> in Hollywood (2019) | Reservoir Dogs (1992) | Sin City (2005)\n",
       "15 Terminator 2: Judgment Day (1991) | Aliens (1986) | Titanic (1997) | The Abyss (1989) | True Lies (1994) | Avatar (2009) | The Terminator (1984)                                                                                                                                                                    "
      ]
     },
     "metadata": {},
     "output_type": "display_data"
    }
   ],
   "source": [
    "query <- \"SELECT UNNEST(STRING_TO_ARRAY(director, ';')) director,\n",
    "ROUND(AVG(imdb_rating :: NUMERIC), 2) avg_rating, \n",
    "STRING_AGG(title || ' (' || EXTRACT(YEAR FROM release_date :: DATE) || ')', ' | ') films\n",
    "FROM people \n",
    "JOIN stats USING (id) \n",
    "JOIN films USING (id)\n",
    "GROUP BY 1 \n",
    "HAVING COUNT(*) > 4\n",
    "ORDER BY 2 DESC\n",
    "LIMIT 15\"\n",
    "\n",
    "output_two <- dbGetQuery(conn = con, statement = query)\n",
    "output_two"
   ]
  },
  {
   "cell_type": "markdown",
   "id": "cf8ebd77",
   "metadata": {},
   "source": [
    "## Top 20 people with most film credits"
   ]
  },
  {
   "cell_type": "markdown",
   "id": "97f8ab7e",
   "metadata": {},
   "source": [
    "Mark Falvo, Jimmy Star and Arnold Montey mostly work as extras in big Hollywood productions."
   ]
  },
  {
   "cell_type": "code",
   "execution_count": 30,
   "id": "46739ed7",
   "metadata": {},
   "outputs": [
    {
     "data": {
      "image/png": "[encoded data removed]",
      "text/plain": [
       "plot without title"
      ]
     },
     "metadata": {
      "image/png": {
       "height": 420,
       "width": 420
      }
     },
     "output_type": "display_data"
    }
   ],
   "source": [
    "query = \"WITH CTE AS (SELECT UNNEST(ARRAY[director, writer, actors, cinematographer, editor, composer, \n",
    "                                 production_designer, art_director, costume_designer, producers]) people\n",
    "FROM people)\n",
    "\n",
    "SELECT UNNEST(STRING_TO_ARRAY(people, ';')) people, COUNT(*) n_of_credits\n",
    "FROM CTE\n",
    "GROUP BY 1 \n",
    "ORDER BY 2 DESC\n",
    "LIMIT 15\"\n",
    "\n",
    "output_three <- dbGetQuery(conn = con, statement = query)\n",
    "\n",
    "output_three %>% \n",
    "ggplot(aes(x = fct_reorder(people, n_of_credits), y = as.numeric(n_of_credits), fill = as.numeric(n_of_credits))) +\n",
    "geom_col() +\n",
    "geom_text(aes(label = as.numeric(n_of_credits)), nudge_y = 3, size = 3) +\n",
    "coord_flip() +\n",
    "theme_classic() +\n",
    "theme(legend.position = \"none\",\n",
    "      axis.title.x = element_blank(),\n",
    "      axis.title.y = element_blank(),\n",
    "      axis.text.x = element_blank(),\n",
    "      axis.ticks.x = element_blank(),\n",
    "      axis.ticks.y = element_blank()) +\n",
    "scale_fill_gradient(low = \"light blue\", high = \"dark blue\")\n"
   ]
  },
  {
   "cell_type": "code",
   "execution_count": null,
   "id": "11cf8c18",
   "metadata": {},
   "outputs": [],
   "source": []
  }
 ],
 "metadata": {
  "kernelspec": {
   "display_name": "R",
   "language": "R",
   "name": "ir"
  },
  "language_info": {
   "codemirror_mode": "r",
   "file_extension": ".r",
   "mimetype": "text/x-r-source",
   "name": "R",
   "pygments_lexer": "r",
   "version": "4.1.0"
  },
  "toc": {
   "base_numbering": 1,
   "nav_menu": {},
   "number_sections": true,
   "sideBar": true,
   "skip_h1_title": false,
   "title_cell": "Table of Contents",
   "title_sidebar": "Contents",
   "toc_cell": false,
   "toc_position": {},
   "toc_section_display": true,
   "toc_window_display": false
  }
 },
 "nbformat": 4,
 "nbformat_minor": 5
}
