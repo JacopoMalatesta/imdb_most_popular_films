{
 "cells": [
  {
   "cell_type": "markdown",
   "id": "150eb7a8",
   "metadata": {},
   "source": [
    "In this script we'll query the database with SQL and we'll visualize the output with ggplot2. There are two reason why I chose to do the visualization with R rather than Python: firstly, I am more proficient with ggplot2 than I am with seaborn or matplotlib and secondly I'd like to showcase my knowledge of multiple programming languages."
   ]
  },
  {
   "cell_type": "markdown",
   "id": "eefc3001",
   "metadata": {},
   "source": [
    "# Loading the libraries"
   ]
  },
  {
   "cell_type": "markdown",
   "id": "a1de9f88",
   "metadata": {},
   "source": [
    "We'll use the odbc library to connect to our database"
   ]
  },
  {
   "cell_type": "code",
   "execution_count": 1,
   "id": "6cd8724f",
   "metadata": {},
   "outputs": [],
   "source": [
    "suppressWarnings(suppressPackageStartupMessages(library(odbc)))\n",
    "suppressWarnings(suppressPackageStartupMessages(library(tidyverse)))"
   ]
  },
  {
   "cell_type": "markdown",
   "id": "dfb78698",
   "metadata": {},
   "source": [
    "# Connecting to the database"
   ]
  },
  {
   "cell_type": "markdown",
   "id": "425e1a8f",
   "metadata": {},
   "source": [
    "Let's have a look at the available drivers"
   ]
  },
  {
   "cell_type": "code",
   "execution_count": 2,
   "id": "e9b413a9",
   "metadata": {},
   "outputs": [
    {
     "data": {
      "text/html": [
       "<style>\n",
       ".list-inline {list-style: none; margin:0; padding: 0}\n",
       ".list-inline>li {display: inline-block}\n",
       ".list-inline>li:not(:last-child)::after {content: \"\\00b7\"; padding: 0 .5ex}\n",
       "</style>\n",
       "<ol class=list-inline><li>'Microsoft Access Driver (*.mdb, *.accdb)'</li><li>'Microsoft Access Text Driver (*.txt, *.csv)'</li><li>'Microsoft Excel Driver (*.xls, *.xlsx, *.xlsm, *.xlsb)'</li><li>'ODBC Driver 17 for SQL Server'</li><li>'PostgreSQL ANSI'</li><li>'PostgreSQL ANSI(x64)'</li><li>'PostgreSQL Unicode'</li><li>'PostgreSQL Unicode(x64)'</li><li>'SQL Server'</li><li>'SQL Server Native Client 11.0'</li><li>'SQL Server Native Client RDA 11.0'</li></ol>\n"
      ],
      "text/latex": [
       "\\begin{enumerate*}\n",
       "\\item 'Microsoft Access Driver (*.mdb, *.accdb)'\n",
       "\\item 'Microsoft Access Text Driver (*.txt, *.csv)'\n",
       "\\item 'Microsoft Excel Driver (*.xls, *.xlsx, *.xlsm, *.xlsb)'\n",
       "\\item 'ODBC Driver 17 for SQL Server'\n",
       "\\item 'PostgreSQL ANSI'\n",
       "\\item 'PostgreSQL ANSI(x64)'\n",
       "\\item 'PostgreSQL Unicode'\n",
       "\\item 'PostgreSQL Unicode(x64)'\n",
       "\\item 'SQL Server'\n",
       "\\item 'SQL Server Native Client 11.0'\n",
       "\\item 'SQL Server Native Client RDA 11.0'\n",
       "\\end{enumerate*}\n"
      ],
      "text/markdown": [
       "1. 'Microsoft Access Driver (*.mdb, *.accdb)'\n",
       "2. 'Microsoft Access Text Driver (*.txt, *.csv)'\n",
       "3. 'Microsoft Excel Driver (*.xls, *.xlsx, *.xlsm, *.xlsb)'\n",
       "4. 'ODBC Driver 17 for SQL Server'\n",
       "5. 'PostgreSQL ANSI'\n",
       "6. 'PostgreSQL ANSI(x64)'\n",
       "7. 'PostgreSQL Unicode'\n",
       "8. 'PostgreSQL Unicode(x64)'\n",
       "9. 'SQL Server'\n",
       "10. 'SQL Server Native Client 11.0'\n",
       "11. 'SQL Server Native Client RDA 11.0'\n",
       "\n",
       "\n"
      ],
      "text/plain": [
       " [1] \"Microsoft Access Driver (*.mdb, *.accdb)\"              \n",
       " [2] \"Microsoft Access Text Driver (*.txt, *.csv)\"           \n",
       " [3] \"Microsoft Excel Driver (*.xls, *.xlsx, *.xlsm, *.xlsb)\"\n",
       " [4] \"ODBC Driver 17 for SQL Server\"                         \n",
       " [5] \"PostgreSQL ANSI\"                                       \n",
       " [6] \"PostgreSQL ANSI(x64)\"                                  \n",
       " [7] \"PostgreSQL Unicode\"                                    \n",
       " [8] \"PostgreSQL Unicode(x64)\"                               \n",
       " [9] \"SQL Server\"                                            \n",
       "[10] \"SQL Server Native Client 11.0\"                         \n",
       "[11] \"SQL Server Native Client RDA 11.0\"                     "
      ]
     },
     "metadata": {},
     "output_type": "display_data"
    }
   ],
   "source": [
    "sort(unique(odbcListDrivers()[[1]]))"
   ]
  },
  {
   "cell_type": "markdown",
   "id": "eaaef407",
   "metadata": {},
   "source": [
    "Let's connect to our postgreSQL database by using the \"PostgreSQL Unicode(x64)\" driver"
   ]
  },
  {
   "cell_type": "code",
   "execution_count": 3,
   "id": "423376e1",
   "metadata": {},
   "outputs": [],
   "source": [
    "con <- DBI::dbConnect(odbc(),\n",
    "                      Driver   = \"PostgreSQL Unicode(x64)\",\n",
    "                      Server   = Sys.getenv('rds_postgres_imdb_host'),\n",
    "                      Database = \"postgres_imdb\",\n",
    "                      UID      = Sys.getenv('rds_postgres_imdb_username'),\n",
    "                      PWD      = Sys.getenv('rds_postgres_imdb_psw'),\n",
    "                      Port     = 5432)"
   ]
  },
  {
   "cell_type": "markdown",
   "id": "f95da7c9",
   "metadata": {},
   "source": [
    "The tables in our database"
   ]
  },
  {
   "cell_type": "code",
   "execution_count": 4,
   "id": "da81287d",
   "metadata": {},
   "outputs": [
    {
     "data": {
      "text/html": [
       "<style>\n",
       ".list-inline {list-style: none; margin:0; padding: 0}\n",
       ".list-inline>li {display: inline-block}\n",
       ".list-inline>li:not(:last-child)::after {content: \"\\00b7\"; padding: 0 .5ex}\n",
       "</style>\n",
       "<ol class=list-inline><li>'films'</li><li>'people'</li><li>'stats'</li></ol>\n"
      ],
      "text/latex": [
       "\\begin{enumerate*}\n",
       "\\item 'films'\n",
       "\\item 'people'\n",
       "\\item 'stats'\n",
       "\\end{enumerate*}\n"
      ],
      "text/markdown": [
       "1. 'films'\n",
       "2. 'people'\n",
       "3. 'stats'\n",
       "\n",
       "\n"
      ],
      "text/plain": [
       "[1] \"films\"  \"people\" \"stats\" "
      ]
     },
     "metadata": {},
     "output_type": "display_data"
    }
   ],
   "source": [
    "dbListTables(con)"
   ]
  },
  {
   "cell_type": "markdown",
   "id": "80db697e",
   "metadata": {},
   "source": [
    "# Querying and visualizing the data"
   ]
  },
  {
   "cell_type": "markdown",
   "id": "ee187bd5",
   "metadata": {},
   "source": [
    "## Genre popularity across time"
   ]
  },
  {
   "cell_type": "markdown",
   "id": "bf3339f2",
   "metadata": {},
   "source": [
    "Let's see how the absolute frequency for each genre changed across time. Due to the large number of genres in the database, we'll focus on the five most common ones. The 'genre' column often contains multiple values separated by a semicolon, so we'll need to split and unnest it. "
   ]
  },
  {
   "cell_type": "code",
   "execution_count": 14,
   "id": "00333c1a",
   "metadata": {},
   "outputs": [
    {
     "name": "stderr",
     "output_type": "stream",
     "text": [
      "`stat_bin()` using `bins = 30`. Pick better value with `binwidth`.\n",
      "\n"
     ]
    },
    {
     "data": {
      "image/png": "[encoded data removed]",
      "text/plain": [
       "plot without title"
      ]
     },
     "metadata": {
      "image/png": {
       "height": 420,
       "width": 420
      }
     },
     "output_type": "display_data"
    }
   ],
   "source": [
    "query  <- \"WITH CTE AS (\n",
    "                        SELECT UNNEST(STRING_TO_ARRAY(genre, ';')) genre,\n",
    "                               COUNT(*)\n",
    "                        FROM films\n",
    "                        GROUP BY 1\n",
    "                        ORDER BY 2 DESC\n",
    "                        LIMIT 5\n",
    "                        )\n",
    "\n",
    "           SELECT EXTRACT(YEAR FROM release_date :: DATE) AS year,\n",
    "                  UNNEST(STRING_TO_ARRAY(genre, ';')) genre\n",
    "           FROM films\n",
    "           WHERE genre IN (SELECT genre FROM CTE)\"\n",
    "\n",
    "dbGetQuery(conn = con, statement = query) %>% \n",
    "ggplot(aes(x = year, colour = genre)) +\n",
    "geom_freqpoly(size = 1) +\n",
    "scale_x_continuous(breaks = seq(1930, 2020, 10)) +\n",
    "ggtitle(\"Popularity of the top 5 genres across time\") +\n",
    "theme_classic() +\n",
    "theme(title = element_text(size = 14),\n",
    "      axis.title.x = element_blank(),\n",
    "      axis.title.y = element_blank(),\n",
    "      axis.text.x = element_text(size = 12),\n",
    "      axis.text.y = element_text(size = 12),\n",
    "      legend.title = element_text(size = 14),\n",
    "      legend.text = element_text(size = 14))"
   ]
  },
  {
   "cell_type": "markdown",
   "id": "30cc4896",
   "metadata": {},
   "source": [
    "## Decades with most films"
   ]
  },
  {
   "cell_type": "markdown",
   "id": "7bf5ff84",
   "metadata": {},
   "source": [
    "Let's create a new variable called 'decade' with a case when statement and let's calculate the absolute and relative frequencies by decade"
   ]
  },
  {
   "cell_type": "code",
   "execution_count": 7,
   "id": "a62348a0",
   "metadata": {},
   "outputs": [
    {
     "data": {
      "image/png": "[encoded data removed]",
      "text/plain": [
       "plot without title"
      ]
     },
     "metadata": {
      "image/png": {
       "height": 420,
       "width": 420
      }
     },
     "output_type": "display_data"
    }
   ],
   "source": [
    "query <- \"SELECT CASE WHEN EXTRACT(YEAR FROM release_date :: DATE) >= 2020 THEN '2020s'\n",
    "                      WHEN EXTRACT(YEAR FROM release_date :: DATE) >= 2010 AND EXTRACT(YEAR FROM release_date :: DATE) < 2020 THEN '2010s'\n",
    "                      WHEN EXTRACT(YEAR FROM release_date :: DATE) >= 2000 AND EXTRACT(YEAR FROM release_date :: DATE) < 2010 THEN '2000s'\n",
    "                      WHEN EXTRACT(YEAR FROM release_date :: DATE) >= 1990 AND EXTRACT(YEAR FROM release_date :: DATE) < 2000 THEN '1990s'\n",
    "                      WHEN EXTRACT(YEAR FROM release_date :: DATE) >= 1980 AND EXTRACT(YEAR FROM release_date :: DATE) < 1990 THEN '1980s'\n",
    "                      WHEN EXTRACT(YEAR FROM release_date :: DATE) >= 1970 AND EXTRACT(YEAR FROM release_date :: DATE) < 1980 THEN '1970s'\n",
    "                      WHEN EXTRACT(YEAR FROM release_date :: DATE) >= 1960 AND EXTRACT(YEAR FROM release_date :: DATE) < 1970 THEN '1960s'\n",
    "                      WHEN EXTRACT(YEAR FROM release_date :: DATE) >= 1950 AND EXTRACT(YEAR FROM release_date :: DATE) < 1960 THEN '1950s'\n",
    "                      WHEN EXTRACT(YEAR FROM release_date :: DATE) >= 1940 AND EXTRACT(YEAR FROM release_date :: DATE) < 1950 THEN '1940s'\n",
    "                      WHEN EXTRACT(YEAR FROM release_date :: DATE) >= 1930 AND EXTRACT(YEAR FROM release_date :: DATE) < 1940 THEN '1930s'\n",
    "                      WHEN EXTRACT(YEAR FROM release_date :: DATE) >= 1920 AND EXTRACT(YEAR FROM release_date :: DATE) < 1930 THEN '1920s'\n",
    "                      ELSE '1910s or earlier' END AS Decade,\n",
    "                  COUNT(*),\n",
    "                  ROUND(COUNT(*) :: NUMERIC / (SELECT COUNT(*) FROM films), 3) percentage\n",
    "          FROM films\n",
    "          GROUP BY 1\n",
    "          ORDER BY 2 DESC\n",
    "\"\n",
    "\n",
    "dbGetQuery(conn = con, statement = query)  %>% \n",
    "mutate(label = scales::percent(percentage)) %>% \n",
    "ggplot(aes(x = decade, y = percentage, label = label)) +\n",
    "geom_col(fill = \"skyblue\") +\n",
    "geom_label(size = 4) +\n",
    "theme_classic() +\n",
    "ggtitle(\"Decades by % of films in the database\") +\n",
    "theme(title = element_text(size = 14),\n",
    "      axis.title.y = element_blank(),\n",
    "      axis.text.y = element_blank(),\n",
    "      axis.ticks.y = element_blank(),\n",
    "      axis.title.x = element_blank(),\n",
    "      axis.ticks.x = element_blank(),\n",
    "      axis.text.x = element_text(size = 12))"
   ]
  },
  {
   "cell_type": "markdown",
   "id": "8cdb5425",
   "metadata": {},
   "source": [
    "## Countries with most films in the database"
   ]
  },
  {
   "cell_type": "code",
   "execution_count": 8,
   "id": "0c9ea177",
   "metadata": {},
   "outputs": [
    {
     "data": {
      "text/html": [
       "<table class=\"dataframe\">\n",
       "<caption>A data.frame: 10 × 4</caption>\n",
       "<thead>\n",
       "\t<tr><th scope=col>rank</th><th scope=col>country</th><th scope=col>abs_freq</th><th scope=col>rel_freq</th></tr>\n",
       "\t<tr><th scope=col>&lt;int64&gt;</th><th scope=col>&lt;chr&gt;</th><th scope=col>&lt;int64&gt;</th><th scope=col>&lt;dbl&gt;</th></tr>\n",
       "</thead>\n",
       "<tbody>\n",
       "\t<tr><td> 1</td><td>United States of America</td><td>4133</td><td>0.83</td></tr>\n",
       "\t<tr><td> 2</td><td>United Kingdom          </td><td> 785</td><td>0.16</td></tr>\n",
       "\t<tr><td> 3</td><td>France                  </td><td> 383</td><td>0.08</td></tr>\n",
       "\t<tr><td> 4</td><td>Germany                 </td><td> 349</td><td>0.07</td></tr>\n",
       "\t<tr><td> 5</td><td>Canada                  </td><td> 263</td><td>0.05</td></tr>\n",
       "\t<tr><td> 6</td><td>India                   </td><td> 132</td><td>0.03</td></tr>\n",
       "\t<tr><td> 7</td><td>Japan                   </td><td> 121</td><td>0.02</td></tr>\n",
       "\t<tr><td> 8</td><td>Australia               </td><td> 115</td><td>0.02</td></tr>\n",
       "\t<tr><td> 9</td><td>Italy                   </td><td> 107</td><td>0.02</td></tr>\n",
       "\t<tr><td>10</td><td>Spain                   </td><td>  96</td><td>0.02</td></tr>\n",
       "</tbody>\n",
       "</table>\n"
      ],
      "text/latex": [
       "A data.frame: 10 × 4\n",
       "\\begin{tabular}{llll}\n",
       " rank & country & abs\\_freq & rel\\_freq\\\\\n",
       " <int64> & <chr> & <int64> & <dbl>\\\\\n",
       "\\hline\n",
       "\t  1 & United States of America & 4133 & 0.83\\\\\n",
       "\t  2 & United Kingdom           &  785 & 0.16\\\\\n",
       "\t  3 & France                   &  383 & 0.08\\\\\n",
       "\t  4 & Germany                  &  349 & 0.07\\\\\n",
       "\t  5 & Canada                   &  263 & 0.05\\\\\n",
       "\t  6 & India                    &  132 & 0.03\\\\\n",
       "\t  7 & Japan                    &  121 & 0.02\\\\\n",
       "\t  8 & Australia                &  115 & 0.02\\\\\n",
       "\t  9 & Italy                    &  107 & 0.02\\\\\n",
       "\t 10 & Spain                    &   96 & 0.02\\\\\n",
       "\\end{tabular}\n"
      ],
      "text/markdown": [
       "\n",
       "A data.frame: 10 × 4\n",
       "\n",
       "| rank &lt;int64&gt; | country &lt;chr&gt; | abs_freq &lt;int64&gt; | rel_freq &lt;dbl&gt; |\n",
       "|---|---|---|---|\n",
       "|  1 | United States of America | 4133 | 0.83 |\n",
       "|  2 | United Kingdom           |  785 | 0.16 |\n",
       "|  3 | France                   |  383 | 0.08 |\n",
       "|  4 | Germany                  |  349 | 0.07 |\n",
       "|  5 | Canada                   |  263 | 0.05 |\n",
       "|  6 | India                    |  132 | 0.03 |\n",
       "|  7 | Japan                    |  121 | 0.02 |\n",
       "|  8 | Australia                |  115 | 0.02 |\n",
       "|  9 | Italy                    |  107 | 0.02 |\n",
       "| 10 | Spain                    |   96 | 0.02 |\n",
       "\n"
      ],
      "text/plain": [
       "   rank country                  abs_freq rel_freq\n",
       "1   1   United States of America 4133     0.83    \n",
       "2   2   United Kingdom            785     0.16    \n",
       "3   3   France                    383     0.08    \n",
       "4   4   Germany                   349     0.07    \n",
       "5   5   Canada                    263     0.05    \n",
       "6   6   India                     132     0.03    \n",
       "7   7   Japan                     121     0.02    \n",
       "8   8   Australia                 115     0.02    \n",
       "9   9   Italy                     107     0.02    \n",
       "10 10   Spain                      96     0.02    "
      ]
     },
     "metadata": {},
     "output_type": "display_data"
    }
   ],
   "source": [
    "query <- \"SELECT DENSE_RANK() OVER(ORDER BY COUNT(*) DESC) rank,\n",
    "                 UNNEST(STRING_TO_ARRAY(country, ';')) country,\n",
    "                 COUNT(*) abs_freq,\n",
    "                 ROUND(COUNT(*) :: NUMERIC / (SELECT COUNT(*) FROM films), 2) rel_freq\n",
    "          FROM films\n",
    "          GROUP BY 2\n",
    "          ORDER BY 3 DESC\n",
    "          LIMIT 10\"\n",
    "\n",
    "output <- dbGetQuery(conn = con, statement = query)\n",
    "output"
   ]
  },
  {
   "cell_type": "code",
   "execution_count": 17,
   "id": "5bd2c190",
   "metadata": {},
   "outputs": [
    {
     "name": "stderr",
     "output_type": "stream",
     "text": [
      "`stat_bin()` using `bins = 30`. Pick better value with `binwidth`.\n",
      "\n"
     ]
    },
    {
     "data": {
      "image/png": "[encoded data removed]",
      "text/plain": [
       "plot without title"
      ]
     },
     "metadata": {
      "image/png": {
       "height": 420,
       "width": 420
      }
     },
     "output_type": "display_data"
    }
   ],
   "source": [
    "query <- \"WITH CTE AS (\n",
    "                        SELECT UNNEST(STRING_TO_ARRAY(country, ';')) country,\n",
    "                               COUNT(*) n_of_films\n",
    "                        FROM films\n",
    "                        WHERE country NOT LIKE '%United States of America%'\n",
    "                        GROUP BY 1\n",
    "                        ORDER BY 2 DESC\n",
    "                        LIMIT 5\n",
    "                               \n",
    ")\n",
    "\n",
    "          SELECT EXTRACT(YEAR FROM release_date :: DATE) AS year,\n",
    "                 UNNEST(STRING_TO_ARRAY(country, ';')) AS country\n",
    "          FROM films\n",
    "          WHERE country IN (SELECT country FROM CTE)\"\n",
    "\n",
    "dbGetQuery(conn = con, statement = query) %>% \n",
    "ggplot(aes(x = year, colour = country)) +\n",
    "geom_freqpoly(size = 0.75) +\n",
    "scale_x_continuous(breaks = seq(1920, 2020, 20)) +\n",
    "theme_classic() +\n",
    "theme(legend.title = element_text(size = 14),\n",
    "      legend.text = element_text(size = 12),\n",
    "      axis.title.x = element_blank(),\n",
    "      axis.text.x = element_text(size = 12),\n",
    "      axis.text.y = element_text(size = 12),\n",
    "      axis.title.y = element_blank())"
   ]
  },
  {
   "cell_type": "markdown",
   "id": "1a82d524",
   "metadata": {},
   "source": [
    "## Directors with most films in the database"
   ]
  },
  {
   "cell_type": "markdown",
   "id": "1470daf6",
   "metadata": {},
   "source": [
    "Who are the directors with most films among the top 5000 most rated films on IMDB? Again we'll need to use split and unnest."
   ]
  },
  {
   "cell_type": "code",
   "execution_count": 10,
   "id": "36893457",
   "metadata": {},
   "outputs": [
    {
     "data": {
      "image/png": "[encoded data removed]",
      "text/plain": [
       "plot without title"
      ]
     },
     "metadata": {
      "image/png": {
       "height": 420,
       "width": 420
      }
     },
     "output_type": "display_data"
    }
   ],
   "source": [
    "query <- \"SELECT UNNEST(STRING_TO_ARRAY(director, ';')) director, \n",
    "          COUNT(*) n_of_films\n",
    "          FROM people\n",
    "          GROUP BY 1\n",
    "          ORDER BY 2 DESC\n",
    "          LIMIT 15\"\n",
    "\n",
    "dbGetQuery(conn = con, statement = query) %>% \n",
    "  ggplot(aes(x = fct_reorder(director, n_of_films), y = as.numeric(n_of_films), fill = as.numeric(n_of_films))) +\n",
    "  geom_col() +\n",
    "  geom_label(aes(label = as.factor(n_of_films)), size = 4.5, fill = \"light blue\") +\n",
    "  coord_flip() +\n",
    "  theme_classic() +\n",
    "  ggtitle(\"Directors by number of films in the database\") +\n",
    "  theme(title = element_text(size = 14),\n",
    "        legend.position = \"none\",\n",
    "        axis.title.x = element_blank(),\n",
    "        axis.title.y = element_blank(),\n",
    "        axis.text.x = element_blank(),\n",
    "        axis.text.y = element_text(size = 12),\n",
    "        axis.ticks.x = element_blank(),\n",
    "        axis.ticks.y = element_blank()) +\n",
    "  scale_fill_gradient(low = \"light blue\", high = \"dark blue\")"
   ]
  },
  {
   "cell_type": "markdown",
   "id": "e269a6c2",
   "metadata": {},
   "source": [
    "## Directors with highest average ratings"
   ]
  },
  {
   "cell_type": "markdown",
   "id": "fced80f6",
   "metadata": {},
   "source": [
    "Let's do something similar but this time we'll calculate the average film rating for directors having at least 5 films in the dataset. We'll also add a third column containing the titles and year of those films."
   ]
  },
  {
   "cell_type": "code",
   "execution_count": 11,
   "id": "6b261b4a",
   "metadata": {},
   "outputs": [
    {
     "data": {
      "text/html": [
       "<table class=\"dataframe\">\n",
       "<caption>A data.frame: 15 × 3</caption>\n",
       "<thead>\n",
       "\t<tr><th scope=col>director</th><th scope=col>avg_rating</th><th scope=col>films</th></tr>\n",
       "\t<tr><th scope=col>&lt;chr&gt;</th><th scope=col>&lt;dbl&gt;</th><th scope=col>&lt;chr&gt;</th></tr>\n",
       "</thead>\n",
       "<tbody>\n",
       "\t<tr><td>Charles Chaplin  </td><td>8.33</td><td>Modern Times (1936) | City Lights (1931) | The Circus (1928) | The Kid (1921) | The Gold Rush (1925) | The Great Dictator (1940)                                                                                                                                                                                    </td></tr>\n",
       "\t<tr><td>Sergio Leone     </td><td>8.23</td><td>Once Upon a Time in America (1984) | Once Upon a Time in the West (1968) | For a Few Dollars More (1965) | A Fistful of Dollars (1964) | Duck, You Sucker (1971) | The Good, the Bad and the Ugly (1966)                                                                                                            </td></tr>\n",
       "\t<tr><td>Akira Kurosawa   </td><td>8.22</td><td>Seven Samurai (1954) | Ran (1985) | Rashomon (1950) | The Hidden Fortress (1958) | Throne of Blood (1957) | Yojimbo (1961) | Sanjuro (1962) | Kagemusha (1980) | High and Low (1963) | Ikiru (1952)                                                                                                                 </td></tr>\n",
       "\t<tr><td>Christopher Nolan</td><td>8.16</td><td>Following (1999) | Dunkirk (2017) | Batman Begins (2005) | Interstellar (2014) | Tenet (2020) | The Dark Knight Rises (2012) | Memento (2000) | The Prestige (2006) | The Dark Knight (2008) | Insomnia (2002) | Inception (2010)                                                                                   </td></tr>\n",
       "\t<tr><td>Ingmar Bergman   </td><td>8.15</td><td>Fanny and Alexander (1982) | Cries and Whispers (1972) | The Seventh Seal (1957) | Persona (1966) | Wild Strawberries (1957) | Autumn Sonata (1978)                                                                                                                                                                 </td></tr>\n",
       "\t<tr><td>Lee Unkrich      </td><td>8.14</td><td>Toy Story 2 (1999) | Finding Nemo (2003) | Toy Story 3 (2010) | Coco (2017) | Monsters, Inc. (2001)                                                                                                                                                                                                                 </td></tr>\n",
       "\t<tr><td>Stanley Kubrick  </td><td>8.09</td><td>2001: A Space Odyssey (1968) | Paths of Glory (1957) | Full Metal Jacket (1987) | Dr. Strangelove (1964) | A Clockwork Orange (1971) | Barry Lyndon (1975) | The Shining (1980) | Spartacus (1960) | The Killing (1956) | Eyes Wide Shut (1999) | Lolita (1962)                                                     </td></tr>\n",
       "\t<tr><td>Andrei Tarkovsky </td><td>8.08</td><td>Andrei Rublev (1966) | Solaris (1972) | Ivan's Childhood (1962) | Stalker (1979) | Mirror (1975)                                                                                                                                                                                                                    </td></tr>\n",
       "\t<tr><td>Rajkumar Hirani  </td><td>8.08</td><td>Lage Raho Munna Bhai (2006) | 3 Idiots (2009) | Munna Bhai M.B.B.S. (2003) | PK (2014) | Sanju (2018)                                                                                                                                                                                                               </td></tr>\n",
       "\t<tr><td><span style=white-space:pre-wrap>Hayao Miyazaki   </span></td><td>8.06</td><td><span style=white-space:pre-wrap>The Wind Rises (2013) | Kiki's Delivery Service (1989) | Ponyo (2008) | My Neighbor Totoro (1988) | Porco Rosso (1992) | Howl's Moving Castle (2004) | Castle in the Sky (1986) | Princess Mononoke (1997) | Spirited Away (2001) | Nausica&lt;e4&gt; of the Valley of the Wind (1984)                                    </span></td></tr>\n",
       "\t<tr><td>Billy Wilder     </td><td>8.03</td><td>Some Like It Hot (1959) | The Apartment (1960) | Witness for the Prosecution (1957) | Sabrina (1954) | Sunset Boulevard (1950) | Stalag 17 (1953) | Double Indemnity (1944) | The Seven Year Itch (1955) | Ace in the Hole (1951) | The Lost Weekend (1945)                                                         </td></tr>\n",
       "\t<tr><td>Federico Fellini </td><td>8.00</td><td><span style=white-space:pre-wrap>La Dolce Vita (1960) | Nights of Cabiria (1957) | La Strada (1954) | 8&lt;U+00BD&gt; (1963) | Amarcord (1973)                                                                                                                                                                                                             </span></td></tr>\n",
       "\t<tr><td>John Ford        </td><td>7.96</td><td>The Searchers (1956) | The Man Who Shot Liberty Valance (1962) | The Quiet Man (1952) | Stagecoach (1939) | The Grapes of Wrath (1940)                                                                                                                                                                              </td></tr>\n",
       "\t<tr><td>Quentin Tarantino</td><td>7.95</td><td>Kill Bill: Vol. 1 (2003) | Grindhouse (2007) | Jackie Brown (1997) | Pulp Fiction (1994) | The Hateful Eight (2015) | Kill Bill: Vol. 2 (2004) | Django Unchained (2012) | Death Proof (2007) | Inglourious Basterds (2009) | Once Upon a Time&lt;U+0085&gt; in Hollywood (2019) | Reservoir Dogs (1992) | Sin City (2005)</td></tr>\n",
       "\t<tr><td>James Cameron    </td><td>7.87</td><td>Terminator 2: Judgment Day (1991) | Aliens (1986) | Titanic (1997) | The Abyss (1989) | True Lies (1994) | Avatar (2009) | The Terminator (1984)                                                                                                                                                                    </td></tr>\n",
       "</tbody>\n",
       "</table>\n"
      ],
      "text/latex": [
       "A data.frame: 15 × 3\n",
       "\\begin{tabular}{lll}\n",
       " director & avg\\_rating & films\\\\\n",
       " <chr> & <dbl> & <chr>\\\\\n",
       "\\hline\n",
       "\t Charles Chaplin   & 8.33 & Modern Times (1936) \\textbar{} City Lights (1931) \\textbar{} The Circus (1928) \\textbar{} The Kid (1921) \\textbar{} The Gold Rush (1925) \\textbar{} The Great Dictator (1940)                                                                                                                                                                                    \\\\\n",
       "\t Sergio Leone      & 8.23 & Once Upon a Time in America (1984) \\textbar{} Once Upon a Time in the West (1968) \\textbar{} For a Few Dollars More (1965) \\textbar{} A Fistful of Dollars (1964) \\textbar{} Duck, You Sucker (1971) \\textbar{} The Good, the Bad and the Ugly (1966)                                                                                                            \\\\\n",
       "\t Akira Kurosawa    & 8.22 & Seven Samurai (1954) \\textbar{} Ran (1985) \\textbar{} Rashomon (1950) \\textbar{} The Hidden Fortress (1958) \\textbar{} Throne of Blood (1957) \\textbar{} Yojimbo (1961) \\textbar{} Sanjuro (1962) \\textbar{} Kagemusha (1980) \\textbar{} High and Low (1963) \\textbar{} Ikiru (1952)                                                                                                                 \\\\\n",
       "\t Christopher Nolan & 8.16 & Following (1999) \\textbar{} Dunkirk (2017) \\textbar{} Batman Begins (2005) \\textbar{} Interstellar (2014) \\textbar{} Tenet (2020) \\textbar{} The Dark Knight Rises (2012) \\textbar{} Memento (2000) \\textbar{} The Prestige (2006) \\textbar{} The Dark Knight (2008) \\textbar{} Insomnia (2002) \\textbar{} Inception (2010)                                                                                   \\\\\n",
       "\t Ingmar Bergman    & 8.15 & Fanny and Alexander (1982) \\textbar{} Cries and Whispers (1972) \\textbar{} The Seventh Seal (1957) \\textbar{} Persona (1966) \\textbar{} Wild Strawberries (1957) \\textbar{} Autumn Sonata (1978)                                                                                                                                                                 \\\\\n",
       "\t Lee Unkrich       & 8.14 & Toy Story 2 (1999) \\textbar{} Finding Nemo (2003) \\textbar{} Toy Story 3 (2010) \\textbar{} Coco (2017) \\textbar{} Monsters, Inc. (2001)                                                                                                                                                                                                                 \\\\\n",
       "\t Stanley Kubrick   & 8.09 & 2001: A Space Odyssey (1968) \\textbar{} Paths of Glory (1957) \\textbar{} Full Metal Jacket (1987) \\textbar{} Dr. Strangelove (1964) \\textbar{} A Clockwork Orange (1971) \\textbar{} Barry Lyndon (1975) \\textbar{} The Shining (1980) \\textbar{} Spartacus (1960) \\textbar{} The Killing (1956) \\textbar{} Eyes Wide Shut (1999) \\textbar{} Lolita (1962)                                                     \\\\\n",
       "\t Andrei Tarkovsky  & 8.08 & Andrei Rublev (1966) \\textbar{} Solaris (1972) \\textbar{} Ivan's Childhood (1962) \\textbar{} Stalker (1979) \\textbar{} Mirror (1975)                                                                                                                                                                                                                    \\\\\n",
       "\t Rajkumar Hirani   & 8.08 & Lage Raho Munna Bhai (2006) \\textbar{} 3 Idiots (2009) \\textbar{} Munna Bhai M.B.B.S. (2003) \\textbar{} PK (2014) \\textbar{} Sanju (2018)                                                                                                                                                                                                               \\\\\n",
       "\t Hayao Miyazaki    & 8.06 & The Wind Rises (2013) \\textbar{} Kiki's Delivery Service (1989) \\textbar{} Ponyo (2008) \\textbar{} My Neighbor Totoro (1988) \\textbar{} Porco Rosso (1992) \\textbar{} Howl's Moving Castle (2004) \\textbar{} Castle in the Sky (1986) \\textbar{} Princess Mononoke (1997) \\textbar{} Spirited Away (2001) \\textbar{} Nausica<e4> of the Valley of the Wind (1984)                                    \\\\\n",
       "\t Billy Wilder      & 8.03 & Some Like It Hot (1959) \\textbar{} The Apartment (1960) \\textbar{} Witness for the Prosecution (1957) \\textbar{} Sabrina (1954) \\textbar{} Sunset Boulevard (1950) \\textbar{} Stalag 17 (1953) \\textbar{} Double Indemnity (1944) \\textbar{} The Seven Year Itch (1955) \\textbar{} Ace in the Hole (1951) \\textbar{} The Lost Weekend (1945)                                                         \\\\\n",
       "\t Federico Fellini  & 8.00 & La Dolce Vita (1960) \\textbar{} Nights of Cabiria (1957) \\textbar{} La Strada (1954) \\textbar{} 8<U+00BD> (1963) \\textbar{} Amarcord (1973)                                                                                                                                                                                                             \\\\\n",
       "\t John Ford         & 7.96 & The Searchers (1956) \\textbar{} The Man Who Shot Liberty Valance (1962) \\textbar{} The Quiet Man (1952) \\textbar{} Stagecoach (1939) \\textbar{} The Grapes of Wrath (1940)                                                                                                                                                                              \\\\\n",
       "\t Quentin Tarantino & 7.95 & Kill Bill: Vol. 1 (2003) \\textbar{} Grindhouse (2007) \\textbar{} Jackie Brown (1997) \\textbar{} Pulp Fiction (1994) \\textbar{} The Hateful Eight (2015) \\textbar{} Kill Bill: Vol. 2 (2004) \\textbar{} Django Unchained (2012) \\textbar{} Death Proof (2007) \\textbar{} Inglourious Basterds (2009) \\textbar{} Once Upon a Time<U+0085> in Hollywood (2019) \\textbar{} Reservoir Dogs (1992) \\textbar{} Sin City (2005)\\\\\n",
       "\t James Cameron     & 7.87 & Terminator 2: Judgment Day (1991) \\textbar{} Aliens (1986) \\textbar{} Titanic (1997) \\textbar{} The Abyss (1989) \\textbar{} True Lies (1994) \\textbar{} Avatar (2009) \\textbar{} The Terminator (1984)                                                                                                                                                                    \\\\\n",
       "\\end{tabular}\n"
      ],
      "text/markdown": [
       "\n",
       "A data.frame: 15 × 3\n",
       "\n",
       "| director &lt;chr&gt; | avg_rating &lt;dbl&gt; | films &lt;chr&gt; |\n",
       "|---|---|---|\n",
       "| Charles Chaplin   | 8.33 | Modern Times (1936) | City Lights (1931) | The Circus (1928) | The Kid (1921) | The Gold Rush (1925) | The Great Dictator (1940)                                                                                                                                                                                     |\n",
       "| Sergio Leone      | 8.23 | Once Upon a Time in America (1984) | Once Upon a Time in the West (1968) | For a Few Dollars More (1965) | A Fistful of Dollars (1964) | Duck, You Sucker (1971) | The Good, the Bad and the Ugly (1966)                                                                                                             |\n",
       "| Akira Kurosawa    | 8.22 | Seven Samurai (1954) | Ran (1985) | Rashomon (1950) | The Hidden Fortress (1958) | Throne of Blood (1957) | Yojimbo (1961) | Sanjuro (1962) | Kagemusha (1980) | High and Low (1963) | Ikiru (1952)                                                                                                                  |\n",
       "| Christopher Nolan | 8.16 | Following (1999) | Dunkirk (2017) | Batman Begins (2005) | Interstellar (2014) | Tenet (2020) | The Dark Knight Rises (2012) | Memento (2000) | The Prestige (2006) | The Dark Knight (2008) | Insomnia (2002) | Inception (2010)                                                                                    |\n",
       "| Ingmar Bergman    | 8.15 | Fanny and Alexander (1982) | Cries and Whispers (1972) | The Seventh Seal (1957) | Persona (1966) | Wild Strawberries (1957) | Autumn Sonata (1978)                                                                                                                                                                  |\n",
       "| Lee Unkrich       | 8.14 | Toy Story 2 (1999) | Finding Nemo (2003) | Toy Story 3 (2010) | Coco (2017) | Monsters, Inc. (2001)                                                                                                                                                                                                                  |\n",
       "| Stanley Kubrick   | 8.09 | 2001: A Space Odyssey (1968) | Paths of Glory (1957) | Full Metal Jacket (1987) | Dr. Strangelove (1964) | A Clockwork Orange (1971) | Barry Lyndon (1975) | The Shining (1980) | Spartacus (1960) | The Killing (1956) | Eyes Wide Shut (1999) | Lolita (1962)                                                      |\n",
       "| Andrei Tarkovsky  | 8.08 | Andrei Rublev (1966) | Solaris (1972) | Ivan's Childhood (1962) | Stalker (1979) | Mirror (1975)                                                                                                                                                                                                                     |\n",
       "| Rajkumar Hirani   | 8.08 | Lage Raho Munna Bhai (2006) | 3 Idiots (2009) | Munna Bhai M.B.B.S. (2003) | PK (2014) | Sanju (2018)                                                                                                                                                                                                                |\n",
       "| Hayao Miyazaki    | 8.06 | The Wind Rises (2013) | Kiki's Delivery Service (1989) | Ponyo (2008) | My Neighbor Totoro (1988) | Porco Rosso (1992) | Howl's Moving Castle (2004) | Castle in the Sky (1986) | Princess Mononoke (1997) | Spirited Away (2001) | Nausica&lt;e4&gt; of the Valley of the Wind (1984)                                     |\n",
       "| Billy Wilder      | 8.03 | Some Like It Hot (1959) | The Apartment (1960) | Witness for the Prosecution (1957) | Sabrina (1954) | Sunset Boulevard (1950) | Stalag 17 (1953) | Double Indemnity (1944) | The Seven Year Itch (1955) | Ace in the Hole (1951) | The Lost Weekend (1945)                                                          |\n",
       "| Federico Fellini  | 8.00 | La Dolce Vita (1960) | Nights of Cabiria (1957) | La Strada (1954) | 8&lt;U+00BD&gt; (1963) | Amarcord (1973)                                                                                                                                                                                                              |\n",
       "| John Ford         | 7.96 | The Searchers (1956) | The Man Who Shot Liberty Valance (1962) | The Quiet Man (1952) | Stagecoach (1939) | The Grapes of Wrath (1940)                                                                                                                                                                               |\n",
       "| Quentin Tarantino | 7.95 | Kill Bill: Vol. 1 (2003) | Grindhouse (2007) | Jackie Brown (1997) | Pulp Fiction (1994) | The Hateful Eight (2015) | Kill Bill: Vol. 2 (2004) | Django Unchained (2012) | Death Proof (2007) | Inglourious Basterds (2009) | Once Upon a Time&lt;U+0085&gt; in Hollywood (2019) | Reservoir Dogs (1992) | Sin City (2005) |\n",
       "| James Cameron     | 7.87 | Terminator 2: Judgment Day (1991) | Aliens (1986) | Titanic (1997) | The Abyss (1989) | True Lies (1994) | Avatar (2009) | The Terminator (1984)                                                                                                                                                                     |\n",
       "\n"
      ],
      "text/plain": [
       "   director          avg_rating\n",
       "1  Charles Chaplin   8.33      \n",
       "2  Sergio Leone      8.23      \n",
       "3  Akira Kurosawa    8.22      \n",
       "4  Christopher Nolan 8.16      \n",
       "5  Ingmar Bergman    8.15      \n",
       "6  Lee Unkrich       8.14      \n",
       "7  Stanley Kubrick   8.09      \n",
       "8  Andrei Tarkovsky  8.08      \n",
       "9  Rajkumar Hirani   8.08      \n",
       "10 Hayao Miyazaki    8.06      \n",
       "11 Billy Wilder      8.03      \n",
       "12 Federico Fellini  8.00      \n",
       "13 John Ford         7.96      \n",
       "14 Quentin Tarantino 7.95      \n",
       "15 James Cameron     7.87      \n",
       "   films                                                                                                                                                                                                                                                                                                               \n",
       "1  Modern Times (1936) | City Lights (1931) | The Circus (1928) | The Kid (1921) | The Gold Rush (1925) | The Great Dictator (1940)                                                                                                                                                                                    \n",
       "2  Once Upon a Time in America (1984) | Once Upon a Time in the West (1968) | For a Few Dollars More (1965) | A Fistful of Dollars (1964) | Duck, You Sucker (1971) | The Good, the Bad and the Ugly (1966)                                                                                                            \n",
       "3  Seven Samurai (1954) | Ran (1985) | Rashomon (1950) | The Hidden Fortress (1958) | Throne of Blood (1957) | Yojimbo (1961) | Sanjuro (1962) | Kagemusha (1980) | High and Low (1963) | Ikiru (1952)                                                                                                                 \n",
       "4  Following (1999) | Dunkirk (2017) | Batman Begins (2005) | Interstellar (2014) | Tenet (2020) | The Dark Knight Rises (2012) | Memento (2000) | The Prestige (2006) | The Dark Knight (2008) | Insomnia (2002) | Inception (2010)                                                                                   \n",
       "5  Fanny and Alexander (1982) | Cries and Whispers (1972) | The Seventh Seal (1957) | Persona (1966) | Wild Strawberries (1957) | Autumn Sonata (1978)                                                                                                                                                                 \n",
       "6  Toy Story 2 (1999) | Finding Nemo (2003) | Toy Story 3 (2010) | Coco (2017) | Monsters, Inc. (2001)                                                                                                                                                                                                                 \n",
       "7  2001: A Space Odyssey (1968) | Paths of Glory (1957) | Full Metal Jacket (1987) | Dr. Strangelove (1964) | A Clockwork Orange (1971) | Barry Lyndon (1975) | The Shining (1980) | Spartacus (1960) | The Killing (1956) | Eyes Wide Shut (1999) | Lolita (1962)                                                     \n",
       "8  Andrei Rublev (1966) | Solaris (1972) | Ivan's Childhood (1962) | Stalker (1979) | Mirror (1975)                                                                                                                                                                                                                    \n",
       "9  Lage Raho Munna Bhai (2006) | 3 Idiots (2009) | Munna Bhai M.B.B.S. (2003) | PK (2014) | Sanju (2018)                                                                                                                                                                                                               \n",
       "10 The Wind Rises (2013) | Kiki's Delivery Service (1989) | Ponyo (2008) | My Neighbor Totoro (1988) | Porco Rosso (1992) | Howl's Moving Castle (2004) | Castle in the Sky (1986) | Princess Mononoke (1997) | Spirited Away (2001) | Nausica<e4> of the Valley of the Wind (1984)                                    \n",
       "11 Some Like It Hot (1959) | The Apartment (1960) | Witness for the Prosecution (1957) | Sabrina (1954) | Sunset Boulevard (1950) | Stalag 17 (1953) | Double Indemnity (1944) | The Seven Year Itch (1955) | Ace in the Hole (1951) | The Lost Weekend (1945)                                                         \n",
       "12 La Dolce Vita (1960) | Nights of Cabiria (1957) | La Strada (1954) | 8<U+00BD> (1963) | Amarcord (1973)                                                                                                                                                                                                             \n",
       "13 The Searchers (1956) | The Man Who Shot Liberty Valance (1962) | The Quiet Man (1952) | Stagecoach (1939) | The Grapes of Wrath (1940)                                                                                                                                                                              \n",
       "14 Kill Bill: Vol. 1 (2003) | Grindhouse (2007) | Jackie Brown (1997) | Pulp Fiction (1994) | The Hateful Eight (2015) | Kill Bill: Vol. 2 (2004) | Django Unchained (2012) | Death Proof (2007) | Inglourious Basterds (2009) | Once Upon a Time<U+0085> in Hollywood (2019) | Reservoir Dogs (1992) | Sin City (2005)\n",
       "15 Terminator 2: Judgment Day (1991) | Aliens (1986) | Titanic (1997) | The Abyss (1989) | True Lies (1994) | Avatar (2009) | The Terminator (1984)                                                                                                                                                                    "
      ]
     },
     "metadata": {},
     "output_type": "display_data"
    }
   ],
   "source": [
    "query <- \"SELECT UNNEST(STRING_TO_ARRAY(director, ';')) director,\n",
    "                 ROUND(AVG(imdb_rating :: NUMERIC), 2) avg_rating, \n",
    "                 STRING_AGG(title || ' (' || EXTRACT(YEAR FROM release_date :: DATE) || ')', ' | ') films\n",
    "          FROM people \n",
    "          JOIN stats USING (id) \n",
    "          JOIN films USING (id)\n",
    "          GROUP BY 1 \n",
    "          HAVING COUNT(*) > 4\n",
    "          ORDER BY 2 DESC\n",
    "          LIMIT 15\"\n",
    "\n",
    "output_two <- dbGetQuery(conn = con, statement = query)\n",
    "output_two"
   ]
  },
  {
   "cell_type": "code",
   "execution_count": 12,
   "id": "30797db8",
   "metadata": {},
   "outputs": [
    {
     "data": {
      "image/png": "[encoded data removed]",
      "text/plain": [
       "plot without title"
      ]
     },
     "metadata": {
      "image/png": {
       "height": 420,
       "width": 420
      }
     },
     "output_type": "display_data"
    }
   ],
   "source": [
    "output_two %>% \n",
    "ggplot(aes(x = fct_reorder(director, avg_rating), \n",
    "           y = avg_rating, \n",
    "           fill = avg_rating)) +\n",
    "geom_col() +\n",
    "geom_label(aes(label = avg_rating), size = 4.5, fill = \"light blue\") +\n",
    "coord_flip(ylim = c(7.5, 8.5)) +\n",
    "theme_classic() +\n",
    "ggtitle(\"Directors with highest average ratings\") +\n",
    "theme(legend.position = 'none',\n",
    "      title = element_text(size = 14),\n",
    "      axis.text.x = element_blank(),\n",
    "      axis.text.y = element_text(size = 12),\n",
    "      axis.title.x = element_blank(),\n",
    "      axis.title.y = element_blank(),\n",
    "      axis.ticks.x = element_blank(),\n",
    "      axis.ticks.y = element_blank()) +\n",
    "scale_fill_gradient(low = \"light blue\", high = \"dark blue\")"
   ]
  },
  {
   "cell_type": "markdown",
   "id": "57657ca2",
   "metadata": {},
   "source": [
    "## People with most film credits"
   ]
  },
  {
   "cell_type": "markdown",
   "id": "5ba4e29c",
   "metadata": {},
   "source": [
    "Let's now find out who the people with most film credits are. We'll include directors, producers, cinematographers, costume designers etc. To do this, we'll first unpivot all the columns from the 'people' table, then we'll split and unnest the resulting column and count the occurrences of each name."
   ]
  },
  {
   "cell_type": "markdown",
   "id": "c849c185",
   "metadata": {},
   "source": [
    "Mark Falvo and Jimmy Star mostly work as extras in big Hollywood productions."
   ]
  },
  {
   "cell_type": "code",
   "execution_count": 13,
   "id": "d282b41a",
   "metadata": {},
   "outputs": [
    {
     "data": {
      "image/png": "[encoded data removed]",
      "text/plain": [
       "plot without title"
      ]
     },
     "metadata": {
      "image/png": {
       "height": 420,
       "width": 420
      }
     },
     "output_type": "display_data"
    }
   ],
   "source": [
    "query  <-  \"WITH CTE AS (SELECT UNNEST(ARRAY[director, writer, actors, cinematographer, editor, composer, \n",
    "                                 production_designer, art_director, costume_designer, producers]) people\n",
    "FROM people)\n",
    "\n",
    "SELECT UNNEST(STRING_TO_ARRAY(people, ';')) people, \n",
    "       COUNT(*) n_of_credits\n",
    "FROM CTE\n",
    "GROUP BY 1 \n",
    "ORDER BY 2 DESC\n",
    "LIMIT 15\"\n",
    "\n",
    "dbGetQuery(conn = con, statement = query) %>% \n",
    "ggplot(aes(x = fct_reorder(people, n_of_credits), y = as.numeric(n_of_credits), fill = as.numeric(n_of_credits))) +\n",
    "geom_col() +\n",
    "geom_label(aes(label = as.numeric(n_of_credits)), size = 4.5, fill = \"light blue\") +\n",
    "coord_flip() +\n",
    "theme_classic() +\n",
    "ggtitle(\"People with most film credits\") +\n",
    "theme(title = element_text(size = 14),\n",
    "      legend.position = \"none\",\n",
    "      axis.title.x = element_blank(),\n",
    "      axis.title.y = element_blank(),\n",
    "      axis.text.x = element_blank(),\n",
    "      axis.text.y = element_text(size = 12),\n",
    "      axis.ticks.x = element_blank(),\n",
    "      axis.ticks.y = element_blank()) +\n",
    "scale_fill_gradient(low = \"light blue\", high = \"dark blue\")"
   ]
  }
 ],
 "metadata": {
  "kernelspec": {
   "display_name": "R",
   "language": "R",
   "name": "ir"
  },
  "language_info": {
   "codemirror_mode": "r",
   "file_extension": ".r",
   "mimetype": "text/x-r-source",
   "name": "R",
   "pygments_lexer": "r",
   "version": "4.1.0"
  },
  "toc": {
   "base_numbering": 1,
   "nav_menu": {},
   "number_sections": true,
   "sideBar": true,
   "skip_h1_title": false,
   "title_cell": "Table of Contents",
   "title_sidebar": "Contents",
   "toc_cell": false,
   "toc_position": {},
   "toc_section_display": true,
   "toc_window_display": true
  }
 },
 "nbformat": 4,
 "nbformat_minor": 5
}
