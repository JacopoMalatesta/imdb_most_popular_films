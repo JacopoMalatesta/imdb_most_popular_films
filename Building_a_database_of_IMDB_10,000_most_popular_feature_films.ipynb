{
 "cells": [
  {
   "cell_type": "markdown",
   "metadata": {},
   "source": [
    "- scrape link full cast;\n",
    "- creare funzione per cinematographer, writers, editor e composer;\n",
    "- creare funzione per scrapare people;\n",
    "- join df, df2, df3\n",
    "- pulizia dati (contare nulle, casting)\n",
    "- nascondere api key"
   ]
  },
  {
   "cell_type": "markdown",
   "metadata": {
    "id": "imOzibmru9uI"
   },
   "source": [
    "# Project description"
   ]
  },
  {
   "cell_type": "markdown",
   "metadata": {
    "id": "XdfhPC5SvHKE"
   },
   "source": [
    "The goal of this project is to build a database of the 10 000 most popular feature films on IMDB. We'll define \"popularity\" as the number of ratings a film has received. \n",
    "\n",
    "The project will comprise the following steps:\n",
    "\n",
    "- we'll collect the data through scraping and API requests;\n",
    "- we'll load the data onto a PostgreSQL database;\n",
    "- we'll query the data with SQL;\n",
    "- we'll visualize the results of the queries"
   ]
  },
  {
   "cell_type": "markdown",
   "metadata": {
    "id": "yGNNMM5OucPo"
   },
   "source": [
    "# Modules"
   ]
  },
  {
   "cell_type": "code",
   "execution_count": 1,
   "metadata": {
    "id": "Tq5zlLcDuCkM"
   },
   "outputs": [],
   "source": [
    "import requests\n",
    "from bs4 import BeautifulSoup\n",
    "import pandas as pd\n",
    "import numpy as np\n",
    "import re\n",
    "import time"
   ]
  },
  {
   "cell_type": "markdown",
   "metadata": {
    "id": "5GySk7pbunwY"
   },
   "source": [
    "# Data collection"
   ]
  },
  {
   "cell_type": "markdown",
   "metadata": {
    "id": "c-6kyKK3UprX"
   },
   "source": [
    "IMDB doesn't have an official API. However, there are two unofficial APIs providing access to IMDB data: The Open Movie Database (OMDb) and The Movie Database (TMDB). They are both valid though OMDb provides more pieces of information and more accurate rating data. Unfortunately, OMDB enforces a strict rate limit of 1000 requests per day. We will thus rely on TMDB and integrate it with additional scraped data."
   ]
  },
  {
   "cell_type": "markdown",
   "metadata": {
    "id": "Jt0ZSUT3Xm3o"
   },
   "source": [
    "The TMDB API works by supplying the ID of the film(s) whose info we'd like to retrieve. The IDs consist of a double \"t\" followed by seven or eight digits. They can be found inside the film URL. For example, \"tt0050782\" is the ID for this film: https://www.imdb.com/title/tt0050782/. \n",
    "\n",
    "The first step will thus be retrieving all the IDs of the 10 000 most popular films on IMDB, which can be found at this [link](https://www.imdb.com/search/keyword/?mode=detail&page=1&title_type=movie&ref_=kw_ref_rt_vt&num_votes=5000%2C&sort=num_votes,desc)."
   ]
  },
  {
   "cell_type": "markdown",
   "metadata": {
    "id": "ruIEsF-V4A7N"
   },
   "source": [
    "## Scraping the film IDs and the URLs"
   ]
  },
  {
   "cell_type": "markdown",
   "metadata": {
    "id": "MN3DXnxMYrbc"
   },
   "source": [
    "To scrape the film IDs of our 10 000 films we'll need to iterate a for loop over the first 200 pages in the playlist (each containing 50 films). The film ID is the value of the 'href' attribute inside h3 elements with the \"lister-item-header\" class. We'll write a simple regex to extract the film ID. We'll also scrape the entire URL: it's going to come in handy later when we do the scraping."
   ]
  },
  {
   "cell_type": "code",
   "execution_count": 24,
   "metadata": {
    "id": "N0QXTJHZwTUc"
   },
   "outputs": [],
   "source": [
    "film_ids = []\n",
    "film_urls = []\n",
    "\n",
    "for i in range(1, 201):\n",
    "  \n",
    "  content = requests.get(\"https://www.imdb.com/search/keyword/?mode=detail&page=\" + str(i) + \"&title_type=movie&ref_=kw_ref_rt_vt&num_votes=5000%2C&sort=num_votes,desc\").content\n",
    "  \n",
    "  soup = BeautifulSoup(content)\n",
    "\n",
    "  for film in soup.find_all(\"h3\", class_=\"lister-item-header\"):\n",
    "\n",
    "    link = film.find(\"a\").get(\"href\")\n",
    "    film_id = re.findall(pattern = r\"tt\\d+\", string = link)[0]\n",
    "    film_ids.append(film_id)\n",
    "\n",
    "    film_url = \"https://www.imdb.com\" + link\n",
    "    film_urls.append(film_url)\n",
    "    "
   ]
  },
  {
   "cell_type": "markdown",
   "metadata": {
    "id": "3GwT4Wuv61we"
   },
   "source": [
    "## API calls"
   ]
  },
  {
   "cell_type": "markdown",
   "metadata": {
    "id": "51KySz-jZsxT"
   },
   "source": [
    "We'll now write a function to request the data from TMDB. The function takes a vector of film IDs and for each ID it sends a GET request to the API. If the status code is equal to 200 (i.e. the request has been successful) we'll append the data to a Pandas dataframe. Otherwise, we'll just append the film_id and we'll fill the remaining columns with null values."
   ]
  },
  {
   "cell_type": "code",
   "execution_count": null,
   "metadata": {
    "id": "Pn5hoWsWdNZZ"
   },
   "outputs": [],
   "source": [
    "def build_film_df(film_ids):\n",
    "\n",
    "  df = pd.DataFrame(columns = [\"id\", \"title\", \"release_date\", \"runtime\", \"country\", \"language\", \"genre\", \"studios\", \"budget\", \"revenue\"])\n",
    "\n",
    "  for film_id in film_ids:\n",
    "      \n",
    "      response = requests.get(\"https://api.themoviedb.org/3/movie/\" + film_id + \"?api_key=eb74f269207d7563d10da8190e228f61\")\n",
    "\n",
    "      if response.status_code == 200:  \n",
    "\n",
    "        response_json = response.json()\n",
    "\n",
    "        df = df.append({\"id\": response_json[\"imdb_id\"],\n",
    "                      \"title\": response_json[\"title\"],\n",
    "                      \"release_date\": response_json[\"release_date\"],\n",
    "                      \"runtime\": response_json[\"runtime\"],\n",
    "                      \"country\": ';'.join([country['name'] for country in response_json[\"production_countries\"]]),\n",
    "                      \"language\": ';'.join([language[\"english_name\"] for language in response_json[\"spoken_languages\"]]),\n",
    "                      \"genre\": ';'.join([genre[\"name\"] for genre in response_json[\"genres\"]]),\n",
    "                      \"studios\": ';'.join([company[\"name\"] for company in response_json['production_companies']]),\n",
    "                      \"budget\": response_json['budget'],\n",
    "                      \"revenue\": response_json[\"revenue\"]}, \n",
    "                       ignore_index = True)\n",
    "        \n",
    "      else:\n",
    "        df = df.append({\"id\": film_id}, ignore_index = True)\n",
    "\n",
    "  return df"
   ]
  },
  {
   "cell_type": "code",
   "execution_count": null,
   "metadata": {
    "colab": {
     "base_uri": "https://localhost:8080/",
     "height": 770
    },
    "id": "ckKclT-ouHfd",
    "outputId": "d438579e-4d83-4c41-aad8-e53f0c02135b"
   },
   "outputs": [],
   "source": [
    "df = build_film_df(film_ids)\n",
    "df.head()"
   ]
  },
  {
   "cell_type": "markdown",
   "metadata": {
    "id": "MZmSWuoY8zvF"
   },
   "source": [
    "Let's have a look at the null values"
   ]
  },
  {
   "cell_type": "code",
   "execution_count": null,
   "metadata": {
    "colab": {
     "base_uri": "https://localhost:8080/",
     "height": 143
    },
    "id": "9Z4dClmq8WuR",
    "outputId": "3efdddf4-1f69-4614-b5c4-2a02803f79f0"
   },
   "outputs": [],
   "source": [
    "df[df['title'].isnull()]"
   ]
  },
  {
   "cell_type": "markdown",
   "metadata": {
    "id": "VroIT9ExpVtY"
   },
   "source": [
    "## Scraping additional data"
   ]
  },
  {
   "cell_type": "markdown",
   "metadata": {
    "id": "LOgUWYm7bRqV"
   },
   "source": [
    "TMDB doesn't provide data about the people who worked on a film (directors, writer, actors etc.) and its rating data is inaccurate. We'll thus integrate its data by scraping some more information."
   ]
  },
  {
   "cell_type": "markdown",
   "metadata": {
    "id": "AdfF63LCTwRi"
   },
   "source": [
    "### Custom functions"
   ]
  },
  {
   "cell_type": "markdown",
   "metadata": {
    "id": "3KytHOgpT0HC"
   },
   "source": [
    "To implement sound software engineering principles we'll do the scraping by building a custom function for each type of data we need."
   ]
  },
  {
   "cell_type": "markdown",
   "metadata": {
    "id": "hdS235LCUFDf"
   },
   "source": [
    "#### Film ID"
   ]
  },
  {
   "cell_type": "code",
   "execution_count": 77,
   "metadata": {
    "id": "nNSWeewsQ3Gt"
   },
   "outputs": [],
   "source": [
    "def scrape_film_id(soup):\n",
    "  \n",
    "  return soup.find(\"meta\", {\"property\": \"imdb:pageConst\"}).get(\"content\")"
   ]
  },
  {
   "cell_type": "markdown",
   "metadata": {
    "id": "0WpHvI39UHtL"
   },
   "source": [
    "#### Directors"
   ]
  },
  {
   "cell_type": "code",
   "execution_count": 78,
   "metadata": {
    "id": "zwLDT6CW1tL0"
   },
   "outputs": [],
   "source": [
    "def scrape_director(soup):\n",
    "  \n",
    "  directors = list(set([a.text for a in soup.find_all(href = re.compile(\"tt_ov_dr\"), class_=\"ipc-metadata-list-item__list-content-item ipc-metadata-list-item__list-content-item--link\")]))\n",
    "\n",
    "  return ';'.join(directors)"
   ]
  },
  {
   "cell_type": "markdown",
   "metadata": {
    "id": "mY0xRacoUKxG"
   },
   "source": [
    "#### IMDB average rating"
   ]
  },
  {
   "cell_type": "code",
   "execution_count": 79,
   "metadata": {
    "id": "GHuWP7Pe8EHq"
   },
   "outputs": [],
   "source": [
    "def scrape_imdb_rating(soup):\n",
    "  \n",
    "  pattern = r'(?<=\"ratingValue\":)[\\d.]+(?=},\"contentRating\")'\n",
    "  string = str(soup.find(\"script\", {\"type\": \"application/ld+json\"}))\n",
    "\n",
    "  return re.findall(pattern = pattern,\n",
    "                    string = string)[0]"
   ]
  },
  {
   "cell_type": "markdown",
   "metadata": {
    "id": "63sBX-TwUN1q"
   },
   "source": [
    "#### IMDB rating count"
   ]
  },
  {
   "cell_type": "code",
   "execution_count": 80,
   "metadata": {
    "id": "7u68JHWr_1oe"
   },
   "outputs": [],
   "source": [
    "def scrape_rating_count(soup):\n",
    "\n",
    "  pattern = r'(?<=\"ratingCount\":)[\\d.]+'\n",
    "  string = str(soup.find(\"script\", {\"type\": \"application/ld+json\"}))\n",
    "\n",
    "  return re.findall(pattern = pattern,\n",
    "                    string = string)[0]"
   ]
  },
  {
   "cell_type": "markdown",
   "metadata": {
    "id": "ne8ybLy_UPrk"
   },
   "source": [
    "#### Metascore"
   ]
  },
  {
   "cell_type": "code",
   "execution_count": 81,
   "metadata": {
    "id": "HzWpD51AAhe5"
   },
   "outputs": [],
   "source": [
    "def scrape_metascore(soup):\n",
    "\n",
    "  return soup.find(\"span\", class_=\"score-meta\").text"
   ]
  },
  {
   "cell_type": "markdown",
   "metadata": {
    "id": "3YwH147RUSXB"
   },
   "source": [
    "#### User reviews count"
   ]
  },
  {
   "cell_type": "code",
   "execution_count": 82,
   "metadata": {
    "id": "PLb_JqIRnKls"
   },
   "outputs": [],
   "source": [
    "def scrape_user_review_count(soup):\n",
    "  \n",
    "  pattern = r'(?<=\"total\":)\\d+(?=,\"__typename\":\"ReviewsConnection\"})'\n",
    "  \n",
    "  string = str(soup.find(\"script\", {'id': '__NEXT_DATA__'}))\n",
    "  \n",
    "  return re.findall(pattern = pattern, string = string)[0] if re.findall(pattern = pattern, string = string) else np.nan"
   ]
  },
  {
   "cell_type": "markdown",
   "metadata": {
    "id": "A0WXIPIWUWHl"
   },
   "source": [
    "#### Critic reviews count"
   ]
  },
  {
   "cell_type": "code",
   "execution_count": 83,
   "metadata": {
    "id": "NC-zrcwwAykX"
   },
   "outputs": [],
   "source": [
    "def scrape_critic_review_count(soup):\n",
    "\n",
    "  pattern = r'(?<=n\"},\"criticReviewsTotal\":{\"total\":)\\d+'\n",
    "  \n",
    "  string = str(soup.find(\"script\", {'id': '__NEXT_DATA__'}))\n",
    "  \n",
    "  return re.findall(pattern = pattern, string = string)[0] if re.findall(pattern = pattern, string = string) else np.nan"
   ]
  },
  {
   "cell_type": "code",
   "execution_count": 98,
   "metadata": {},
   "outputs": [],
   "source": [
    "def scrape_critic_review_count(soup):\n",
    "    \n",
    "    string = list(filter(lambda x: 'Critic' in str(x), soup.find_all(\"span\", class_=\"three-Elements\")))[0].text\n",
    "    \n",
    "    return re.findall(r'\\d+', string)[0]"
   ]
  },
  {
   "cell_type": "markdown",
   "metadata": {},
   "source": [
    "#### Color"
   ]
  },
  {
   "cell_type": "code",
   "execution_count": 84,
   "metadata": {},
   "outputs": [],
   "source": [
    "def scrape_color(soup):\n",
    "    \n",
    "    pattern = r'(?<=\"text\":\")\\w+(?=\",\"attributes\":\\[\\],\"__typename\":\"Coloration\"})'\n",
    "    \n",
    "    string = str(soup.find(\"script\", {\"type\": \"application/json\"}))\n",
    "    \n",
    "    return re.findall(pattern = pattern, string = string)[0] if re.findall(pattern = pattern, string = string) else np.nan"
   ]
  },
  {
   "cell_type": "markdown",
   "metadata": {},
   "source": [
    "#### Aspect ratio"
   ]
  },
  {
   "cell_type": "code",
   "execution_count": 85,
   "metadata": {},
   "outputs": [],
   "source": [
    "def scrape_aspect_ratio(soup):\n",
    "    \n",
    "    pattern = r'(?<=\"aspectRatio\":\")[\\d.\\s:]+'\n",
    "    \n",
    "    string = str(soup.find(\"script\", {\"type\": \"application/json\"}))\n",
    "    \n",
    "    return re.findall(pattern = pattern, string = string)[0] if re.findall(pattern = pattern, string = string) else np.nan"
   ]
  },
  {
   "cell_type": "markdown",
   "metadata": {
    "id": "QRaqDP82V4Xh"
   },
   "source": [
    "### Scraping"
   ]
  },
  {
   "cell_type": "markdown",
   "metadata": {},
   "source": [
    "If we send 10 000 requests at once we're likely going to run into problems with IMDB, so let's split the film_urls list into 5 equally-sized chunks and let's scrape each chunk at a time by waiting five minutes before moving to the next one."
   ]
  },
  {
   "cell_type": "code",
   "execution_count": null,
   "metadata": {
    "id": "-PuxtrS5V8IQ"
   },
   "outputs": [],
   "source": [
    "def build_scraped_df(urls):\n",
    "\n",
    "  df = pd.DataFrame(columns = [\"id\", \"director\", \"imdb_rating\", \"imdb_rating_count\", \"metascore\", \n",
    "                               \"user_review_count\", \"critic_review_count\", \"color\", \"aspect_ratio\"])\n",
    "\n",
    "  chunks = np.array_split(urls, 5)\n",
    "\n",
    "  for chunk in chunks:\n",
    "    for url in chunk:\n",
    "      content = requests.get(url).content\n",
    "      soup = BeautifulSoup(content)\n",
    "\n",
    "      df = df.append({\"id\": scrape_film_id(soup),\n",
    "                      \"director\": scrape_director(soup),\n",
    "                      \"imdb_rating\": scrape_imdb_rating(soup),\n",
    "                      \"imdb_rating_count\": scrape_rating_count(soup),\n",
    "                      \"metascore\": scrape_metascore(soup),\n",
    "                      \"user_review_count\": scrape_user_review_count(soup),\n",
    "                      \"critic_review_count\": scrape_critic_review_count(soup),\n",
    "                      \"color\": scrape_color(soup),\n",
    "                      \"aspect_ratio\": scrape_aspect_ratio(soup)}, \n",
    "                      ignore_index = True)\n",
    "\n",
    "    time.sleep(60*5)\n",
    "\n",
    "  return df\n"
   ]
  },
  {
   "cell_type": "code",
   "execution_count": null,
   "metadata": {
    "colab": {
     "base_uri": "https://localhost:8080/",
     "height": 304
    },
    "id": "Sqmef_HbZ6fi",
    "outputId": "a5e98cbb-4ae7-4444-9e39-bfe70225c3d4"
   },
   "outputs": [],
   "source": [
    "df2 = build_scraped_df(film_urls)\n",
    "df2.head()"
   ]
  },
  {
   "cell_type": "code",
   "execution_count": 99,
   "metadata": {},
   "outputs": [],
   "source": [
    "def build_scraped_df(urls):\n",
    "\n",
    "  df = pd.DataFrame(columns = [\"id\", \"director\", \"imdb_rating\", \"imdb_rating_count\", \"metascore\", \n",
    "                               \"user_review_count\", \"critic_review_count\", \"color\", \"aspect_ratio\"])\n",
    "\n",
    "  for url in urls:\n",
    "      content = requests.get(url).content\n",
    "      soup = BeautifulSoup(content)\n",
    "\n",
    "      df = df.append({\"id\": scrape_film_id(soup),\n",
    "                      \"director\": scrape_director(soup),\n",
    "                      \"imdb_rating\": scrape_imdb_rating(soup),\n",
    "                      \"imdb_rating_count\": scrape_rating_count(soup),\n",
    "                      \"metascore\": scrape_metascore(soup),\n",
    "                      \"user_review_count\": scrape_user_review_count(soup),\n",
    "                      \"critic_review_count\": scrape_critic_review_count(soup),\n",
    "                      \"color\": scrape_color(soup),\n",
    "                      \"aspect_ratio\": scrape_aspect_ratio(soup)}, \n",
    "                      ignore_index = True)\n",
    "\n",
    "  return df"
   ]
  },
  {
   "cell_type": "code",
   "execution_count": 100,
   "metadata": {},
   "outputs": [],
   "source": [
    "test = build_scraped_df(film_urls[:50])"
   ]
  },
  {
   "cell_type": "code",
   "execution_count": 101,
   "metadata": {},
   "outputs": [
    {
     "data": {
      "text/html": [
       "<div>\n",
       "<style scoped>\n",
       "    .dataframe tbody tr th:only-of-type {\n",
       "        vertical-align: middle;\n",
       "    }\n",
       "\n",
       "    .dataframe tbody tr th {\n",
       "        vertical-align: top;\n",
       "    }\n",
       "\n",
       "    .dataframe thead th {\n",
       "        text-align: right;\n",
       "    }\n",
       "</style>\n",
       "<table border=\"1\" class=\"dataframe\">\n",
       "  <thead>\n",
       "    <tr style=\"text-align: right;\">\n",
       "      <th></th>\n",
       "      <th>id</th>\n",
       "      <th>director</th>\n",
       "      <th>imdb_rating</th>\n",
       "      <th>imdb_rating_count</th>\n",
       "      <th>metascore</th>\n",
       "      <th>user_review_count</th>\n",
       "      <th>critic_review_count</th>\n",
       "      <th>color</th>\n",
       "      <th>aspect_ratio</th>\n",
       "    </tr>\n",
       "  </thead>\n",
       "  <tbody>\n",
       "    <tr>\n",
       "      <th>0</th>\n",
       "      <td>tt0111161</td>\n",
       "      <td>Frank Darabont</td>\n",
       "      <td>9.3</td>\n",
       "      <td>2505291</td>\n",
       "      <td>80</td>\n",
       "      <td>9741</td>\n",
       "      <td>193</td>\n",
       "      <td>Color</td>\n",
       "      <td>1.85 : 1</td>\n",
       "    </tr>\n",
       "    <tr>\n",
       "      <th>1</th>\n",
       "      <td>tt0468569</td>\n",
       "      <td>Christopher Nolan</td>\n",
       "      <td>9</td>\n",
       "      <td>2454761</td>\n",
       "      <td>84</td>\n",
       "      <td>7762</td>\n",
       "      <td>433</td>\n",
       "      <td>NaN</td>\n",
       "      <td>2.39 : 1</td>\n",
       "    </tr>\n",
       "    <tr>\n",
       "      <th>2</th>\n",
       "      <td>tt1375666</td>\n",
       "      <td>Christopher Nolan</td>\n",
       "      <td>8.8</td>\n",
       "      <td>2202866</td>\n",
       "      <td>74</td>\n",
       "      <td>4465</td>\n",
       "      <td>485</td>\n",
       "      <td>Color</td>\n",
       "      <td>2.39 : 1</td>\n",
       "    </tr>\n",
       "    <tr>\n",
       "      <th>3</th>\n",
       "      <td>tt0137523</td>\n",
       "      <td>David Fincher</td>\n",
       "      <td>8.8</td>\n",
       "      <td>1970870</td>\n",
       "      <td>66</td>\n",
       "      <td>4127</td>\n",
       "      <td>384</td>\n",
       "      <td>Color</td>\n",
       "      <td>2.39 : 1</td>\n",
       "    </tr>\n",
       "    <tr>\n",
       "      <th>4</th>\n",
       "      <td>tt0109830</td>\n",
       "      <td>Robert Zemeckis</td>\n",
       "      <td>8.8</td>\n",
       "      <td>1933770</td>\n",
       "      <td>82</td>\n",
       "      <td>2806</td>\n",
       "      <td>171</td>\n",
       "      <td>Color</td>\n",
       "      <td>2.39 : 1</td>\n",
       "    </tr>\n",
       "    <tr>\n",
       "      <th>5</th>\n",
       "      <td>tt0110912</td>\n",
       "      <td>Quentin Tarantino</td>\n",
       "      <td>8.9</td>\n",
       "      <td>1932952</td>\n",
       "      <td>94</td>\n",
       "      <td>3377</td>\n",
       "      <td>302</td>\n",
       "      <td>Color</td>\n",
       "      <td>2.39 : 1</td>\n",
       "    </tr>\n",
       "    <tr>\n",
       "      <th>6</th>\n",
       "      <td>tt0133093</td>\n",
       "      <td>Lana Wachowski;Lilly Wachowski</td>\n",
       "      <td>8.7</td>\n",
       "      <td>1789160</td>\n",
       "      <td>73</td>\n",
       "      <td>4650</td>\n",
       "      <td>235</td>\n",
       "      <td>Color</td>\n",
       "      <td>2.39 : 1</td>\n",
       "    </tr>\n",
       "    <tr>\n",
       "      <th>7</th>\n",
       "      <td>tt0120737</td>\n",
       "      <td>Peter Jackson</td>\n",
       "      <td>8.8</td>\n",
       "      <td>1751884</td>\n",
       "      <td>92</td>\n",
       "      <td>5553</td>\n",
       "      <td>203</td>\n",
       "      <td>Color</td>\n",
       "      <td>2.39 : 1</td>\n",
       "    </tr>\n",
       "    <tr>\n",
       "      <th>8</th>\n",
       "      <td>tt0167260</td>\n",
       "      <td>Peter Jackson</td>\n",
       "      <td>8.9</td>\n",
       "      <td>1730556</td>\n",
       "      <td>94</td>\n",
       "      <td>3939</td>\n",
       "      <td>361</td>\n",
       "      <td>Color</td>\n",
       "      <td>2.39 : 1</td>\n",
       "    </tr>\n",
       "    <tr>\n",
       "      <th>9</th>\n",
       "      <td>tt0068646</td>\n",
       "      <td>Francis Ford Coppola</td>\n",
       "      <td>9.2</td>\n",
       "      <td>1726752</td>\n",
       "      <td>100</td>\n",
       "      <td>0</td>\n",
       "      <td>269</td>\n",
       "      <td>Color</td>\n",
       "      <td>1.85 : 1</td>\n",
       "    </tr>\n",
       "    <tr>\n",
       "      <th>10</th>\n",
       "      <td>tt0816692</td>\n",
       "      <td>Christopher Nolan</td>\n",
       "      <td>8.6</td>\n",
       "      <td>1653383</td>\n",
       "      <td>74</td>\n",
       "      <td>4834</td>\n",
       "      <td>634</td>\n",
       "      <td>NaN</td>\n",
       "      <td>2.39 : 1</td>\n",
       "    </tr>\n",
       "    <tr>\n",
       "      <th>11</th>\n",
       "      <td>tt1345836</td>\n",
       "      <td>Christopher Nolan</td>\n",
       "      <td>8.4</td>\n",
       "      <td>1597413</td>\n",
       "      <td>78</td>\n",
       "      <td>3591</td>\n",
       "      <td>559</td>\n",
       "      <td>Color</td>\n",
       "      <td>2.39 : 1</td>\n",
       "    </tr>\n",
       "    <tr>\n",
       "      <th>12</th>\n",
       "      <td>tt0167261</td>\n",
       "      <td>Peter Jackson</td>\n",
       "      <td>8.7</td>\n",
       "      <td>1564381</td>\n",
       "      <td>87</td>\n",
       "      <td>2648</td>\n",
       "      <td>328</td>\n",
       "      <td>Color</td>\n",
       "      <td>2.39 : 1</td>\n",
       "    </tr>\n",
       "    <tr>\n",
       "      <th>13</th>\n",
       "      <td>tt0114369</td>\n",
       "      <td>David Fincher</td>\n",
       "      <td>8.6</td>\n",
       "      <td>1538898</td>\n",
       "      <td>65</td>\n",
       "      <td>1709</td>\n",
       "      <td>178</td>\n",
       "      <td>Color</td>\n",
       "      <td>2.39 : 1</td>\n",
       "    </tr>\n",
       "    <tr>\n",
       "      <th>14</th>\n",
       "      <td>tt1853728</td>\n",
       "      <td>Quentin Tarantino</td>\n",
       "      <td>8.4</td>\n",
       "      <td>1449146</td>\n",
       "      <td>81</td>\n",
       "      <td>1748</td>\n",
       "      <td>667</td>\n",
       "      <td>Color</td>\n",
       "      <td>2.39 : 1</td>\n",
       "    </tr>\n",
       "    <tr>\n",
       "      <th>15</th>\n",
       "      <td>tt0172495</td>\n",
       "      <td>Ridley Scott</td>\n",
       "      <td>8.5</td>\n",
       "      <td>1417278</td>\n",
       "      <td>67</td>\n",
       "      <td>2819</td>\n",
       "      <td>222</td>\n",
       "      <td>Color</td>\n",
       "      <td>2.39 : 1</td>\n",
       "    </tr>\n",
       "    <tr>\n",
       "      <th>16</th>\n",
       "      <td>tt0372784</td>\n",
       "      <td>Christopher Nolan</td>\n",
       "      <td>8.2</td>\n",
       "      <td>1375788</td>\n",
       "      <td>70</td>\n",
       "      <td>3028</td>\n",
       "      <td>332</td>\n",
       "      <td>Color</td>\n",
       "      <td>2.39 : 1</td>\n",
       "    </tr>\n",
       "    <tr>\n",
       "      <th>17</th>\n",
       "      <td>tt0361748</td>\n",
       "      <td>Quentin Tarantino</td>\n",
       "      <td>8.3</td>\n",
       "      <td>1352675</td>\n",
       "      <td>69</td>\n",
       "      <td>2018</td>\n",
       "      <td>412</td>\n",
       "      <td>Color</td>\n",
       "      <td>2.39 : 1</td>\n",
       "    </tr>\n",
       "    <tr>\n",
       "      <th>18</th>\n",
       "      <td>tt0102926</td>\n",
       "      <td>Jonathan Demme</td>\n",
       "      <td>8.6</td>\n",
       "      <td>1349287</td>\n",
       "      <td>85</td>\n",
       "      <td>1503</td>\n",
       "      <td>246</td>\n",
       "      <td>Color</td>\n",
       "      <td>1.85 : 1</td>\n",
       "    </tr>\n",
       "    <tr>\n",
       "      <th>19</th>\n",
       "      <td>tt0848228</td>\n",
       "      <td>Joss Whedon</td>\n",
       "      <td>8</td>\n",
       "      <td>1322090</td>\n",
       "      <td>69</td>\n",
       "      <td>2042</td>\n",
       "      <td>762</td>\n",
       "      <td>Color</td>\n",
       "      <td>1.85 : 1</td>\n",
       "    </tr>\n",
       "    <tr>\n",
       "      <th>20</th>\n",
       "      <td>tt0120815</td>\n",
       "      <td>Steven Spielberg</td>\n",
       "      <td>8.6</td>\n",
       "      <td>1309239</td>\n",
       "      <td>91</td>\n",
       "      <td>2778</td>\n",
       "      <td>278</td>\n",
       "      <td>Color</td>\n",
       "      <td>1.85 : 1</td>\n",
       "    </tr>\n",
       "    <tr>\n",
       "      <th>21</th>\n",
       "      <td>tt0076759</td>\n",
       "      <td>George Lucas</td>\n",
       "      <td>8.6</td>\n",
       "      <td>1290538</td>\n",
       "      <td>90</td>\n",
       "      <td>2011</td>\n",
       "      <td>206</td>\n",
       "      <td>NaN</td>\n",
       "      <td>NaN</td>\n",
       "    </tr>\n",
       "    <tr>\n",
       "      <th>22</th>\n",
       "      <td>tt0993846</td>\n",
       "      <td>Martin Scorsese</td>\n",
       "      <td>8.2</td>\n",
       "      <td>1289668</td>\n",
       "      <td>75</td>\n",
       "      <td>1661</td>\n",
       "      <td>411</td>\n",
       "      <td>Color</td>\n",
       "      <td>2.39 : 1</td>\n",
       "    </tr>\n",
       "    <tr>\n",
       "      <th>23</th>\n",
       "      <td>tt0108052</td>\n",
       "      <td>Steven Spielberg</td>\n",
       "      <td>8.9</td>\n",
       "      <td>1281847</td>\n",
       "      <td>94</td>\n",
       "      <td>2051</td>\n",
       "      <td>170</td>\n",
       "      <td>Color</td>\n",
       "      <td>NaN</td>\n",
       "    </tr>\n",
       "    <tr>\n",
       "      <th>24</th>\n",
       "      <td>tt0482571</td>\n",
       "      <td>Christopher Nolan</td>\n",
       "      <td>8.5</td>\n",
       "      <td>1260963</td>\n",
       "      <td>66</td>\n",
       "      <td>1598</td>\n",
       "      <td>373</td>\n",
       "      <td>Color</td>\n",
       "      <td>2.39 : 1</td>\n",
       "    </tr>\n",
       "    <tr>\n",
       "      <th>25</th>\n",
       "      <td>tt0407887</td>\n",
       "      <td>Martin Scorsese</td>\n",
       "      <td>8.5</td>\n",
       "      <td>1255291</td>\n",
       "      <td>85</td>\n",
       "      <td>2461</td>\n",
       "      <td>306</td>\n",
       "      <td>Color</td>\n",
       "      <td>2.39 : 1</td>\n",
       "    </tr>\n",
       "    <tr>\n",
       "      <th>26</th>\n",
       "      <td>tt0120689</td>\n",
       "      <td>Frank Darabont</td>\n",
       "      <td>8.6</td>\n",
       "      <td>1219478</td>\n",
       "      <td>61</td>\n",
       "      <td>1953</td>\n",
       "      <td>213</td>\n",
       "      <td>Color</td>\n",
       "      <td>1.85 : 1</td>\n",
       "    </tr>\n",
       "    <tr>\n",
       "      <th>27</th>\n",
       "      <td>tt0080684</td>\n",
       "      <td>Irvin Kershner</td>\n",
       "      <td>8.7</td>\n",
       "      <td>1218783</td>\n",
       "      <td>82</td>\n",
       "      <td>1360</td>\n",
       "      <td>238</td>\n",
       "      <td>Color</td>\n",
       "      <td>NaN</td>\n",
       "    </tr>\n",
       "    <tr>\n",
       "      <th>28</th>\n",
       "      <td>tt1130884</td>\n",
       "      <td>Martin Scorsese</td>\n",
       "      <td>8.2</td>\n",
       "      <td>1216210</td>\n",
       "      <td>63</td>\n",
       "      <td>1480</td>\n",
       "      <td>532</td>\n",
       "      <td>Color</td>\n",
       "      <td>2.39 : 1</td>\n",
       "    </tr>\n",
       "    <tr>\n",
       "      <th>29</th>\n",
       "      <td>tt0071562</td>\n",
       "      <td>Francis Ford Coppola</td>\n",
       "      <td>9</td>\n",
       "      <td>1198194</td>\n",
       "      <td>90</td>\n",
       "      <td>1227</td>\n",
       "      <td>190</td>\n",
       "      <td>Color</td>\n",
       "      <td>1.85 : 1</td>\n",
       "    </tr>\n",
       "    <tr>\n",
       "      <th>30</th>\n",
       "      <td>tt0209144</td>\n",
       "      <td>Christopher Nolan</td>\n",
       "      <td>8.4</td>\n",
       "      <td>1181081</td>\n",
       "      <td>80</td>\n",
       "      <td>2401</td>\n",
       "      <td>233</td>\n",
       "      <td>Color</td>\n",
       "      <td>2.39 : 1</td>\n",
       "    </tr>\n",
       "    <tr>\n",
       "      <th>31</th>\n",
       "      <td>tt0499549</td>\n",
       "      <td>James Cameron</td>\n",
       "      <td>7.8</td>\n",
       "      <td>1167841</td>\n",
       "      <td>83</td>\n",
       "      <td>3553</td>\n",
       "      <td>482</td>\n",
       "      <td>Color</td>\n",
       "      <td>1.78 : 1</td>\n",
       "    </tr>\n",
       "    <tr>\n",
       "      <th>32</th>\n",
       "      <td>tt0088763</td>\n",
       "      <td>Robert Zemeckis</td>\n",
       "      <td>8.5</td>\n",
       "      <td>1128019</td>\n",
       "      <td>87</td>\n",
       "      <td>1360</td>\n",
       "      <td>267</td>\n",
       "      <td>Color</td>\n",
       "      <td>NaN</td>\n",
       "    </tr>\n",
       "    <tr>\n",
       "      <th>33</th>\n",
       "      <td>tt0169547</td>\n",
       "      <td>Sam Mendes</td>\n",
       "      <td>8.3</td>\n",
       "      <td>1113508</td>\n",
       "      <td>84</td>\n",
       "      <td>2977</td>\n",
       "      <td>209</td>\n",
       "      <td>Color</td>\n",
       "      <td>2.39 : 1</td>\n",
       "    </tr>\n",
       "    <tr>\n",
       "      <th>34</th>\n",
       "      <td>tt2015381</td>\n",
       "      <td>James Gunn</td>\n",
       "      <td>8</td>\n",
       "      <td>1108648</td>\n",
       "      <td>76</td>\n",
       "      <td>679</td>\n",
       "      <td>731</td>\n",
       "      <td>Color</td>\n",
       "      <td>1.85 : 1</td>\n",
       "    </tr>\n",
       "    <tr>\n",
       "      <th>35</th>\n",
       "      <td>tt0120338</td>\n",
       "      <td>James Cameron</td>\n",
       "      <td>7.8</td>\n",
       "      <td>1108339</td>\n",
       "      <td>75</td>\n",
       "      <td>3099</td>\n",
       "      <td>337</td>\n",
       "      <td>Color</td>\n",
       "      <td>2.39 : 1</td>\n",
       "    </tr>\n",
       "    <tr>\n",
       "      <th>36</th>\n",
       "      <td>tt7286456</td>\n",
       "      <td>Todd Phillips</td>\n",
       "      <td>8.4</td>\n",
       "      <td>1108241</td>\n",
       "      <td>59</td>\n",
       "      <td>11192</td>\n",
       "      <td>689</td>\n",
       "      <td>Color</td>\n",
       "      <td>1.85 : 1</td>\n",
       "    </tr>\n",
       "    <tr>\n",
       "      <th>37</th>\n",
       "      <td>tt0110413</td>\n",
       "      <td>Luc Besson</td>\n",
       "      <td>8.5</td>\n",
       "      <td>1096415</td>\n",
       "      <td>64</td>\n",
       "      <td>1346</td>\n",
       "      <td>150</td>\n",
       "      <td>Color</td>\n",
       "      <td>2.35 : 1</td>\n",
       "    </tr>\n",
       "    <tr>\n",
       "      <th>38</th>\n",
       "      <td>tt0099685</td>\n",
       "      <td>Martin Scorsese</td>\n",
       "      <td>8.7</td>\n",
       "      <td>1084750</td>\n",
       "      <td>90</td>\n",
       "      <td>1483</td>\n",
       "      <td>155</td>\n",
       "      <td>Color</td>\n",
       "      <td>1.85 : 1</td>\n",
       "    </tr>\n",
       "    <tr>\n",
       "      <th>39</th>\n",
       "      <td>tt0434409</td>\n",
       "      <td>James McTeigue</td>\n",
       "      <td>8.1</td>\n",
       "      <td>1078528</td>\n",
       "      <td>62</td>\n",
       "      <td>2367</td>\n",
       "      <td>204</td>\n",
       "      <td>Color</td>\n",
       "      <td>2.35 : 1</td>\n",
       "    </tr>\n",
       "    <tr>\n",
       "      <th>40</th>\n",
       "      <td>tt0120586</td>\n",
       "      <td>Tony Kaye</td>\n",
       "      <td>8.5</td>\n",
       "      <td>1076539</td>\n",
       "      <td>62</td>\n",
       "      <td>1658</td>\n",
       "      <td>128</td>\n",
       "      <td>Color</td>\n",
       "      <td>1.85 : 1</td>\n",
       "    </tr>\n",
       "    <tr>\n",
       "      <th>41</th>\n",
       "      <td>tt0266697</td>\n",
       "      <td>Quentin Tarantino</td>\n",
       "      <td>8.1</td>\n",
       "      <td>1058707</td>\n",
       "      <td>69</td>\n",
       "      <td>2394</td>\n",
       "      <td>341</td>\n",
       "      <td>Color</td>\n",
       "      <td>2.39 : 1</td>\n",
       "    </tr>\n",
       "    <tr>\n",
       "      <th>42</th>\n",
       "      <td>tt0910970</td>\n",
       "      <td>Andrew Stanton</td>\n",
       "      <td>8.4</td>\n",
       "      <td>1054841</td>\n",
       "      <td>95</td>\n",
       "      <td>1410</td>\n",
       "      <td>273</td>\n",
       "      <td>Color</td>\n",
       "      <td>2.39 : 1</td>\n",
       "    </tr>\n",
       "    <tr>\n",
       "      <th>43</th>\n",
       "      <td>tt0325980</td>\n",
       "      <td>Gore Verbinski</td>\n",
       "      <td>8</td>\n",
       "      <td>1053835</td>\n",
       "      <td>63</td>\n",
       "      <td>2283</td>\n",
       "      <td>190</td>\n",
       "      <td>Color</td>\n",
       "      <td>2.39 : 1</td>\n",
       "    </tr>\n",
       "    <tr>\n",
       "      <th>44</th>\n",
       "      <td>tt0103064</td>\n",
       "      <td>James Cameron</td>\n",
       "      <td>8.5</td>\n",
       "      <td>1044477</td>\n",
       "      <td>75</td>\n",
       "      <td>1007</td>\n",
       "      <td>316</td>\n",
       "      <td>Color</td>\n",
       "      <td>16:9</td>\n",
       "    </tr>\n",
       "    <tr>\n",
       "      <th>45</th>\n",
       "      <td>tt0114814</td>\n",
       "      <td>Bryan Singer</td>\n",
       "      <td>8.5</td>\n",
       "      <td>1038995</td>\n",
       "      <td>77</td>\n",
       "      <td>1447</td>\n",
       "      <td>153</td>\n",
       "      <td>Color</td>\n",
       "      <td>2.39 : 1</td>\n",
       "    </tr>\n",
       "    <tr>\n",
       "      <th>46</th>\n",
       "      <td>tt0120382</td>\n",
       "      <td>Peter Weir</td>\n",
       "      <td>8.1</td>\n",
       "      <td>1003604</td>\n",
       "      <td>90</td>\n",
       "      <td>1330</td>\n",
       "      <td>254</td>\n",
       "      <td>Color</td>\n",
       "      <td>1.66 : 1</td>\n",
       "    </tr>\n",
       "    <tr>\n",
       "      <th>47</th>\n",
       "      <td>tt0371746</td>\n",
       "      <td>Jon Favreau</td>\n",
       "      <td>7.9</td>\n",
       "      <td>997078</td>\n",
       "      <td>79</td>\n",
       "      <td>1473</td>\n",
       "      <td>552</td>\n",
       "      <td>Color</td>\n",
       "      <td>2.39 : 1</td>\n",
       "    </tr>\n",
       "    <tr>\n",
       "      <th>48</th>\n",
       "      <td>tt0112573</td>\n",
       "      <td>Mel Gibson</td>\n",
       "      <td>8.3</td>\n",
       "      <td>996999</td>\n",
       "      <td>68</td>\n",
       "      <td>1357</td>\n",
       "      <td>155</td>\n",
       "      <td>Color</td>\n",
       "      <td>2.39 : 1</td>\n",
       "    </tr>\n",
       "    <tr>\n",
       "      <th>49</th>\n",
       "      <td>tt0086190</td>\n",
       "      <td>Richard Marquand</td>\n",
       "      <td>8.3</td>\n",
       "      <td>996900</td>\n",
       "      <td>58</td>\n",
       "      <td>920</td>\n",
       "      <td>211</td>\n",
       "      <td>Color</td>\n",
       "      <td>NaN</td>\n",
       "    </tr>\n",
       "  </tbody>\n",
       "</table>\n",
       "</div>"
      ],
      "text/plain": [
       "           id                        director imdb_rating imdb_rating_count  \\\n",
       "0   tt0111161                  Frank Darabont         9.3           2505291   \n",
       "1   tt0468569               Christopher Nolan           9           2454761   \n",
       "2   tt1375666               Christopher Nolan         8.8           2202866   \n",
       "3   tt0137523                   David Fincher         8.8           1970870   \n",
       "4   tt0109830                 Robert Zemeckis         8.8           1933770   \n",
       "5   tt0110912               Quentin Tarantino         8.9           1932952   \n",
       "6   tt0133093  Lana Wachowski;Lilly Wachowski         8.7           1789160   \n",
       "7   tt0120737                   Peter Jackson         8.8           1751884   \n",
       "8   tt0167260                   Peter Jackson         8.9           1730556   \n",
       "9   tt0068646            Francis Ford Coppola         9.2           1726752   \n",
       "10  tt0816692               Christopher Nolan         8.6           1653383   \n",
       "11  tt1345836               Christopher Nolan         8.4           1597413   \n",
       "12  tt0167261                   Peter Jackson         8.7           1564381   \n",
       "13  tt0114369                   David Fincher         8.6           1538898   \n",
       "14  tt1853728               Quentin Tarantino         8.4           1449146   \n",
       "15  tt0172495                    Ridley Scott         8.5           1417278   \n",
       "16  tt0372784               Christopher Nolan         8.2           1375788   \n",
       "17  tt0361748               Quentin Tarantino         8.3           1352675   \n",
       "18  tt0102926                  Jonathan Demme         8.6           1349287   \n",
       "19  tt0848228                     Joss Whedon           8           1322090   \n",
       "20  tt0120815                Steven Spielberg         8.6           1309239   \n",
       "21  tt0076759                    George Lucas         8.6           1290538   \n",
       "22  tt0993846                 Martin Scorsese         8.2           1289668   \n",
       "23  tt0108052                Steven Spielberg         8.9           1281847   \n",
       "24  tt0482571               Christopher Nolan         8.5           1260963   \n",
       "25  tt0407887                 Martin Scorsese         8.5           1255291   \n",
       "26  tt0120689                  Frank Darabont         8.6           1219478   \n",
       "27  tt0080684                  Irvin Kershner         8.7           1218783   \n",
       "28  tt1130884                 Martin Scorsese         8.2           1216210   \n",
       "29  tt0071562            Francis Ford Coppola           9           1198194   \n",
       "30  tt0209144               Christopher Nolan         8.4           1181081   \n",
       "31  tt0499549                   James Cameron         7.8           1167841   \n",
       "32  tt0088763                 Robert Zemeckis         8.5           1128019   \n",
       "33  tt0169547                      Sam Mendes         8.3           1113508   \n",
       "34  tt2015381                      James Gunn           8           1108648   \n",
       "35  tt0120338                   James Cameron         7.8           1108339   \n",
       "36  tt7286456                   Todd Phillips         8.4           1108241   \n",
       "37  tt0110413                      Luc Besson         8.5           1096415   \n",
       "38  tt0099685                 Martin Scorsese         8.7           1084750   \n",
       "39  tt0434409                  James McTeigue         8.1           1078528   \n",
       "40  tt0120586                       Tony Kaye         8.5           1076539   \n",
       "41  tt0266697               Quentin Tarantino         8.1           1058707   \n",
       "42  tt0910970                  Andrew Stanton         8.4           1054841   \n",
       "43  tt0325980                  Gore Verbinski           8           1053835   \n",
       "44  tt0103064                   James Cameron         8.5           1044477   \n",
       "45  tt0114814                    Bryan Singer         8.5           1038995   \n",
       "46  tt0120382                      Peter Weir         8.1           1003604   \n",
       "47  tt0371746                     Jon Favreau         7.9            997078   \n",
       "48  tt0112573                      Mel Gibson         8.3            996999   \n",
       "49  tt0086190                Richard Marquand         8.3            996900   \n",
       "\n",
       "   metascore user_review_count critic_review_count  color aspect_ratio  \n",
       "0         80              9741                 193  Color     1.85 : 1  \n",
       "1         84              7762                 433    NaN     2.39 : 1  \n",
       "2         74              4465                 485  Color     2.39 : 1  \n",
       "3         66              4127                 384  Color     2.39 : 1  \n",
       "4         82              2806                 171  Color     2.39 : 1  \n",
       "5         94              3377                 302  Color     2.39 : 1  \n",
       "6         73              4650                 235  Color     2.39 : 1  \n",
       "7         92              5553                 203  Color     2.39 : 1  \n",
       "8         94              3939                 361  Color     2.39 : 1  \n",
       "9        100                 0                 269  Color     1.85 : 1  \n",
       "10        74              4834                 634    NaN     2.39 : 1  \n",
       "11        78              3591                 559  Color     2.39 : 1  \n",
       "12        87              2648                 328  Color     2.39 : 1  \n",
       "13        65              1709                 178  Color     2.39 : 1  \n",
       "14        81              1748                 667  Color     2.39 : 1  \n",
       "15        67              2819                 222  Color     2.39 : 1  \n",
       "16        70              3028                 332  Color     2.39 : 1  \n",
       "17        69              2018                 412  Color     2.39 : 1  \n",
       "18        85              1503                 246  Color     1.85 : 1  \n",
       "19        69              2042                 762  Color     1.85 : 1  \n",
       "20        91              2778                 278  Color     1.85 : 1  \n",
       "21        90              2011                 206    NaN          NaN  \n",
       "22        75              1661                 411  Color     2.39 : 1  \n",
       "23        94              2051                 170  Color          NaN  \n",
       "24        66              1598                 373  Color     2.39 : 1  \n",
       "25        85              2461                 306  Color     2.39 : 1  \n",
       "26        61              1953                 213  Color     1.85 : 1  \n",
       "27        82              1360                 238  Color          NaN  \n",
       "28        63              1480                 532  Color     2.39 : 1  \n",
       "29        90              1227                 190  Color     1.85 : 1  \n",
       "30        80              2401                 233  Color     2.39 : 1  \n",
       "31        83              3553                 482  Color     1.78 : 1  \n",
       "32        87              1360                 267  Color          NaN  \n",
       "33        84              2977                 209  Color     2.39 : 1  \n",
       "34        76               679                 731  Color     1.85 : 1  \n",
       "35        75              3099                 337  Color     2.39 : 1  \n",
       "36        59             11192                 689  Color     1.85 : 1  \n",
       "37        64              1346                 150  Color     2.35 : 1  \n",
       "38        90              1483                 155  Color     1.85 : 1  \n",
       "39        62              2367                 204  Color     2.35 : 1  \n",
       "40        62              1658                 128  Color     1.85 : 1  \n",
       "41        69              2394                 341  Color     2.39 : 1  \n",
       "42        95              1410                 273  Color     2.39 : 1  \n",
       "43        63              2283                 190  Color     2.39 : 1  \n",
       "44        75              1007                 316  Color        16:9   \n",
       "45        77              1447                 153  Color     2.39 : 1  \n",
       "46        90              1330                 254  Color     1.66 : 1  \n",
       "47        79              1473                 552  Color     2.39 : 1  \n",
       "48        68              1357                 155  Color     2.39 : 1  \n",
       "49        58               920                 211  Color          NaN  "
      ]
     },
     "execution_count": 101,
     "metadata": {},
     "output_type": "execute_result"
    }
   ],
   "source": [
    "test"
   ]
  },
  {
   "cell_type": "markdown",
   "metadata": {
    "id": "qQtgCMgbUgCS"
   },
   "source": [
    "#### Full cast"
   ]
  },
  {
   "cell_type": "code",
   "execution_count": null,
   "metadata": {
    "id": "9-vthpeyJ1_n"
   },
   "outputs": [],
   "source": [
    "def scrape_actors(soup):\n",
    "  \n",
    "  actors = [img.get(\"alt\") for img in soup.find(\"table\", class_=\"cast_list\").find_all(\"img\")]\n",
    "  return ';'.join(actors)"
   ]
  },
  {
   "cell_type": "markdown",
   "metadata": {
    "id": "GHuYXHjmFdnU"
   },
   "source": [
    "# Load the data onto a database"
   ]
  },
  {
   "cell_type": "code",
   "execution_count": null,
   "metadata": {
    "id": "TeXDWGQvFiU2"
   },
   "outputs": [],
   "source": []
  }
 ],
 "metadata": {
  "colab": {
   "collapsed_sections": [],
   "name": "Building a database of IMDB 10,000 most popular feature films.ipynb",
   "provenance": []
  },
  "kernelspec": {
   "display_name": "Python 3",
   "language": "python",
   "name": "python3"
  },
  "language_info": {
   "codemirror_mode": {
    "name": "ipython",
    "version": 3
   },
   "file_extension": ".py",
   "mimetype": "text/x-python",
   "name": "python",
   "nbconvert_exporter": "python",
   "pygments_lexer": "ipython3",
   "version": "3.8.5"
  },
  "toc": {
   "base_numbering": 1,
   "nav_menu": {},
   "number_sections": true,
   "sideBar": true,
   "skip_h1_title": false,
   "title_cell": "Table of Contents",
   "title_sidebar": "Contents",
   "toc_cell": false,
   "toc_position": {},
   "toc_section_display": true,
   "toc_window_display": true
  }
 },
 "nbformat": 4,
 "nbformat_minor": 1
}
