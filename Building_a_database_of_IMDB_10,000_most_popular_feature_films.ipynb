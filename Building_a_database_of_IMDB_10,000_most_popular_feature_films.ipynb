{
  "nbformat": 4,
  "nbformat_minor": 0,
  "metadata": {
    "colab": {
      "name": "Building a database of IMDB 10,000 most popular feature films.ipynb",
      "provenance": [],
      "collapsed_sections": []
    },
    "kernelspec": {
      "name": "python3",
      "display_name": "Python 3"
    },
    "language_info": {
      "name": "python"
    }
  },
  "cells": [
    {
      "cell_type": "markdown",
      "source": [
        "# Project description"
      ],
      "metadata": {
        "id": "imOzibmru9uI"
      }
    },
    {
      "cell_type": "markdown",
      "source": [
        "The goal of this project is to build a database of the 10 000 most popular feature films on IMDB. We'll define \"popularity\" as the number of ratings a film has received. \n",
        "\n",
        "The project will comprise the following steps:\n",
        "\n",
        "- we'll collect the data through scraping and API requests;\n",
        "- we'll load the data onto a PostgreSQL database;\n",
        "- we'll query the data with SQL;\n",
        "- we'll visualize the results of the queries"
      ],
      "metadata": {
        "id": "XdfhPC5SvHKE"
      }
    },
    {
      "cell_type": "markdown",
      "source": [
        "# Modules"
      ],
      "metadata": {
        "id": "yGNNMM5OucPo"
      }
    },
    {
      "cell_type": "code",
      "execution_count": 1,
      "metadata": {
        "id": "Tq5zlLcDuCkM"
      },
      "outputs": [],
      "source": [
        "import requests\n",
        "from bs4 import BeautifulSoup\n",
        "import pandas as pd\n",
        "import numpy as np\n",
        "import re\n",
        "import time"
      ]
    },
    {
      "cell_type": "markdown",
      "source": [
        "# Data collection"
      ],
      "metadata": {
        "id": "5GySk7pbunwY"
      }
    },
    {
      "cell_type": "markdown",
      "source": [
        "IMDB doesn't have an official API. However, there are two unofficial APIs providing access to IMDB data: The Open Movie Database (OMDb) and The Movie Database (TMDB). They are both valid though OMDb provides more pieces of information and more accurate rating data. Unfortunately, OMDB enforces a strict rate limit of 1000 requests per day. We will thus rely on TMDB and integrate it with additional scraped data."
      ],
      "metadata": {
        "id": "c-6kyKK3UprX"
      }
    },
    {
      "cell_type": "markdown",
      "source": [
        "The TMDB API works by supplying the ID of the film(s) whose info we'd like to retrieve. The IDs consist of a double \"t\" followed by seven or eight digits. They can be found inside the film URL. For example, \"tt0050782\" is the ID for this film: https://www.imdb.com/title/tt0050782/. \n",
        "\n",
        "The first step will thus be retrieving all the IDs of the 10 000 most popular films on IMDB, which can be found at this [link](https://www.imdb.com/search/keyword/?mode=detail&page=1&title_type=movie&ref_=kw_ref_rt_vt&num_votes=5000%2C&sort=num_votes,desc)."
      ],
      "metadata": {
        "id": "Jt0ZSUT3Xm3o"
      }
    },
    {
      "cell_type": "markdown",
      "source": [
        "## Scraping the film IDs and the URLs"
      ],
      "metadata": {
        "id": "ruIEsF-V4A7N"
      }
    },
    {
      "cell_type": "markdown",
      "source": [
        "To scrape the film IDs of our 10 000 films we'll need to iterate a for loop over the first 200 pages in the playlist (each containing 50 films). The film ID is the value of the 'href' attribute inside h3 elements with the \"lister-item-header\" class. We'll write a simple regex to extract the film ID. We'll also scrape the entire URL: it's going to come in handy later when we do the scraping."
      ],
      "metadata": {
        "id": "MN3DXnxMYrbc"
      }
    },
    {
      "cell_type": "code",
      "source": [
        "film_ids = []\n",
        "film_urls = []\n",
        "\n",
        "for i in range(1, 201):\n",
        "  \n",
        "  content = requests.get(\"https://www.imdb.com/search/keyword/?mode=detail&page=\" + str(i) + \"&title_type=movie&ref_=kw_ref_rt_vt&num_votes=5000%2C&sort=num_votes,desc\").content\n",
        "  \n",
        "  soup = BeautifulSoup(content)\n",
        "\n",
        "  for film in soup.find_all(\"h3\", class_=\"lister-item-header\"):\n",
        "\n",
        "    link = film.find(\"a\").get(\"href\")\n",
        "    film_id = re.findall(pattern = r\"tt\\d+\", string = link)[0]\n",
        "    film_ids.append(film_id)\n",
        "\n",
        "    film_url = \"https://www.imdb.com\" + link\n",
        "    film_urls.append(film_url)\n",
        "    "
      ],
      "metadata": {
        "id": "N0QXTJHZwTUc"
      },
      "execution_count": 56,
      "outputs": []
    },
    {
      "cell_type": "markdown",
      "source": [
        "## API calls"
      ],
      "metadata": {
        "id": "3GwT4Wuv61we"
      }
    },
    {
      "cell_type": "markdown",
      "source": [
        "We'll now write a function to request the data from TMDB. The function takes a vector of film IDs and for each ID it sends a GET request to the API. If the status code is equal to 200 (i.e. the request has been successful) we'll append the data to a Pandas dataframe. Otherwise, we'll just append the film_id and we'll fill the remaining columns with null values."
      ],
      "metadata": {
        "id": "51KySz-jZsxT"
      }
    },
    {
      "cell_type": "code",
      "source": [
        "def build_film_df(film_ids):\n",
        "\n",
        "  df = pd.DataFrame(columns = [\"id\", \"title\", \"release_date\", \"runtime\", \"country\", \"language\", \"genre\", \"studios\", \"budget\", \"revenue\"])\n",
        "\n",
        "  for film_id in film_ids:\n",
        "      \n",
        "      response = requests.get(\"https://api.themoviedb.org/3/movie/\" + film_id + \"?api_key=eb74f269207d7563d10da8190e228f61\")\n",
        "\n",
        "      if response.status_code == 200:  \n",
        "\n",
        "        response_json = response.json()\n",
        "\n",
        "        df = df.append({\"id\": response_json[\"imdb_id\"],\n",
        "                      \"title\": response_json[\"title\"],\n",
        "                      \"release_date\": response_json[\"release_date\"],\n",
        "                      \"runtime\": response_json[\"runtime\"],\n",
        "                      \"country\": ';'.join([country['name'] for country in response_json[\"production_countries\"]]),\n",
        "                      \"language\": ';'.join([language[\"english_name\"] for language in response_json[\"spoken_languages\"]]),\n",
        "                      \"genre\": ';'.join([genre[\"name\"] for genre in response_json[\"genres\"]]),\n",
        "                      \"studios\": ';'.join([company[\"name\"] for company in response_json['production_companies']]),\n",
        "                      \"budget\": response_json['budget'],\n",
        "                      \"revenue\": response_json[\"revenue\"]}, \n",
        "                       ignore_index = True)\n",
        "        \n",
        "      else:\n",
        "        df = df.append({\"id\": film_id}, ignore_index = True)\n",
        "\n",
        "  return df"
      ],
      "metadata": {
        "id": "Pn5hoWsWdNZZ"
      },
      "execution_count": null,
      "outputs": []
    },
    {
      "cell_type": "code",
      "source": [
        "df = build_film_df(film_ids)\n",
        "df"
      ],
      "metadata": {
        "colab": {
          "base_uri": "https://localhost:8080/",
          "height": 770
        },
        "id": "ckKclT-ouHfd",
        "outputId": "d438579e-4d83-4c41-aad8-e53f0c02135b"
      },
      "execution_count": null,
      "outputs": [
        {
          "output_type": "execute_result",
          "data": {
            "text/html": [
              "<div>\n",
              "<style scoped>\n",
              "    .dataframe tbody tr th:only-of-type {\n",
              "        vertical-align: middle;\n",
              "    }\n",
              "\n",
              "    .dataframe tbody tr th {\n",
              "        vertical-align: top;\n",
              "    }\n",
              "\n",
              "    .dataframe thead th {\n",
              "        text-align: right;\n",
              "    }\n",
              "</style>\n",
              "<table border=\"1\" class=\"dataframe\">\n",
              "  <thead>\n",
              "    <tr style=\"text-align: right;\">\n",
              "      <th></th>\n",
              "      <th>id</th>\n",
              "      <th>title</th>\n",
              "      <th>release_date</th>\n",
              "      <th>runtime</th>\n",
              "      <th>country</th>\n",
              "      <th>language</th>\n",
              "      <th>genre</th>\n",
              "      <th>studios</th>\n",
              "      <th>budget</th>\n",
              "      <th>revenue</th>\n",
              "      <th>imdb_rating</th>\n",
              "      <th>imdb_votes</th>\n",
              "    </tr>\n",
              "  </thead>\n",
              "  <tbody>\n",
              "    <tr>\n",
              "      <th>0</th>\n",
              "      <td>tt0111161</td>\n",
              "      <td>The Shawshank Redemption</td>\n",
              "      <td>1994-09-23</td>\n",
              "      <td>142</td>\n",
              "      <td>United States of America</td>\n",
              "      <td>English</td>\n",
              "      <td>Drama;Crime</td>\n",
              "      <td>Castle Rock Entertainment</td>\n",
              "      <td>25000000</td>\n",
              "      <td>28341469</td>\n",
              "      <td>8.7</td>\n",
              "      <td>20286</td>\n",
              "    </tr>\n",
              "    <tr>\n",
              "      <th>1</th>\n",
              "      <td>tt0468569</td>\n",
              "      <td>The Dark Knight</td>\n",
              "      <td>2008-07-14</td>\n",
              "      <td>152</td>\n",
              "      <td>United Kingdom;United States of America</td>\n",
              "      <td>English;Mandarin</td>\n",
              "      <td>Drama;Action;Crime;Thriller</td>\n",
              "      <td>DC Comics;Legendary Pictures;Syncopy;Isobel Gr...</td>\n",
              "      <td>185000000</td>\n",
              "      <td>1004558444</td>\n",
              "      <td>8.5</td>\n",
              "      <td>26365</td>\n",
              "    </tr>\n",
              "    <tr>\n",
              "      <th>2</th>\n",
              "      <td>tt1375666</td>\n",
              "      <td>Inception</td>\n",
              "      <td>2010-07-15</td>\n",
              "      <td>148</td>\n",
              "      <td>United Kingdom;United States of America</td>\n",
              "      <td>English;Japanese</td>\n",
              "      <td>Action;Science Fiction;Adventure</td>\n",
              "      <td>Legendary Pictures;Syncopy;Warner Bros. Pictures</td>\n",
              "      <td>160000000</td>\n",
              "      <td>825532764</td>\n",
              "      <td>8.4</td>\n",
              "      <td>30434</td>\n",
              "    </tr>\n",
              "    <tr>\n",
              "      <th>3</th>\n",
              "      <td>tt0137523</td>\n",
              "      <td>Fight Club</td>\n",
              "      <td>1999-10-15</td>\n",
              "      <td>139</td>\n",
              "      <td>Germany;United States of America</td>\n",
              "      <td>English</td>\n",
              "      <td>Drama</td>\n",
              "      <td>Regency Enterprises;Fox 2000 Pictures;Taurus F...</td>\n",
              "      <td>63000000</td>\n",
              "      <td>100853753</td>\n",
              "      <td>8.4</td>\n",
              "      <td>23013</td>\n",
              "    </tr>\n",
              "    <tr>\n",
              "      <th>4</th>\n",
              "      <td>tt0109830</td>\n",
              "      <td>Forrest Gump</td>\n",
              "      <td>1994-07-06</td>\n",
              "      <td>142</td>\n",
              "      <td>United States of America</td>\n",
              "      <td>English</td>\n",
              "      <td>Comedy;Drama;Romance</td>\n",
              "      <td>Paramount;The Steve Tisch Company</td>\n",
              "      <td>55000000</td>\n",
              "      <td>677387716</td>\n",
              "      <td>8.5</td>\n",
              "      <td>21749</td>\n",
              "    </tr>\n",
              "    <tr>\n",
              "      <th>...</th>\n",
              "      <td>...</td>\n",
              "      <td>...</td>\n",
              "      <td>...</td>\n",
              "      <td>...</td>\n",
              "      <td>...</td>\n",
              "      <td>...</td>\n",
              "      <td>...</td>\n",
              "      <td>...</td>\n",
              "      <td>...</td>\n",
              "      <td>...</td>\n",
              "      <td>...</td>\n",
              "      <td>...</td>\n",
              "    </tr>\n",
              "    <tr>\n",
              "      <th>9995</th>\n",
              "      <td>tt0102900</td>\n",
              "      <td>Shattered</td>\n",
              "      <td>1991-10-11</td>\n",
              "      <td>98</td>\n",
              "      <td>United States of America</td>\n",
              "      <td>English</td>\n",
              "      <td>Mystery;Thriller</td>\n",
              "      <td>Palace Pictures;Metro-Goldwyn-Mayer</td>\n",
              "      <td>22000000</td>\n",
              "      <td>11511031</td>\n",
              "      <td>6.3</td>\n",
              "      <td>104</td>\n",
              "    </tr>\n",
              "    <tr>\n",
              "      <th>9996</th>\n",
              "      <td>tt0470833</td>\n",
              "      <td>Keloglan Vs. The Dark Prince</td>\n",
              "      <td>2006-01-06</td>\n",
              "      <td>90</td>\n",
              "      <td>Turkey</td>\n",
              "      <td>Turkish</td>\n",
              "      <td>Comedy</td>\n",
              "      <td>Energy Prodüksiyon</td>\n",
              "      <td>0</td>\n",
              "      <td>5000000</td>\n",
              "      <td>1.9</td>\n",
              "      <td>18</td>\n",
              "    </tr>\n",
              "    <tr>\n",
              "      <th>9997</th>\n",
              "      <td>tt0120238</td>\n",
              "      <td>SubUrbia</td>\n",
              "      <td>1996-02-07</td>\n",
              "      <td>121</td>\n",
              "      <td>United States of America</td>\n",
              "      <td>English</td>\n",
              "      <td>Comedy;Drama</td>\n",
              "      <td>Detour Filmproduction;Castle Rock Entertainment</td>\n",
              "      <td>0</td>\n",
              "      <td>656747</td>\n",
              "      <td>6.4</td>\n",
              "      <td>79</td>\n",
              "    </tr>\n",
              "    <tr>\n",
              "      <th>9998</th>\n",
              "      <td>tt0088748</td>\n",
              "      <td>Asterix vs. Caesar</td>\n",
              "      <td>1985-03-06</td>\n",
              "      <td>79</td>\n",
              "      <td>France</td>\n",
              "      <td>French</td>\n",
              "      <td>Comedy;Animation;Family;Adventure</td>\n",
              "      <td>Gaumont International;Dargaud Films;Les Produc...</td>\n",
              "      <td>0</td>\n",
              "      <td>0</td>\n",
              "      <td>6.4</td>\n",
              "      <td>413</td>\n",
              "    </tr>\n",
              "    <tr>\n",
              "      <th>9999</th>\n",
              "      <td>tt0210382</td>\n",
              "      <td>The Weight of Water</td>\n",
              "      <td>2000-09-25</td>\n",
              "      <td>113</td>\n",
              "      <td>France;United States of America</td>\n",
              "      <td>English</td>\n",
              "      <td>Mystery;Drama;Thriller</td>\n",
              "      <td>Palomar Pictures;Miracle Pictures;StudioCanal;...</td>\n",
              "      <td>16000000</td>\n",
              "      <td>109130</td>\n",
              "      <td>5.8</td>\n",
              "      <td>124</td>\n",
              "    </tr>\n",
              "  </tbody>\n",
              "</table>\n",
              "<p>10000 rows × 12 columns</p>\n",
              "</div>"
            ],
            "text/plain": [
              "             id                         title  ... imdb_rating imdb_votes\n",
              "0     tt0111161      The Shawshank Redemption  ...         8.7      20286\n",
              "1     tt0468569               The Dark Knight  ...         8.5      26365\n",
              "2     tt1375666                     Inception  ...         8.4      30434\n",
              "3     tt0137523                    Fight Club  ...         8.4      23013\n",
              "4     tt0109830                  Forrest Gump  ...         8.5      21749\n",
              "...         ...                           ...  ...         ...        ...\n",
              "9995  tt0102900                     Shattered  ...         6.3        104\n",
              "9996  tt0470833  Keloglan Vs. The Dark Prince  ...         1.9         18\n",
              "9997  tt0120238                      SubUrbia  ...         6.4         79\n",
              "9998  tt0088748            Asterix vs. Caesar  ...         6.4        413\n",
              "9999  tt0210382           The Weight of Water  ...         5.8        124\n",
              "\n",
              "[10000 rows x 12 columns]"
            ]
          },
          "metadata": {},
          "execution_count": 13
        }
      ]
    },
    {
      "cell_type": "markdown",
      "source": [
        "Let's have a look at the null values"
      ],
      "metadata": {
        "id": "MZmSWuoY8zvF"
      }
    },
    {
      "cell_type": "code",
      "source": [
        "df[df['title'].isnull()]"
      ],
      "metadata": {
        "colab": {
          "base_uri": "https://localhost:8080/",
          "height": 143
        },
        "id": "9Z4dClmq8WuR",
        "outputId": "3efdddf4-1f69-4614-b5c4-2a02803f79f0"
      },
      "execution_count": null,
      "outputs": [
        {
          "output_type": "execute_result",
          "data": {
            "text/html": [
              "<div>\n",
              "<style scoped>\n",
              "    .dataframe tbody tr th:only-of-type {\n",
              "        vertical-align: middle;\n",
              "    }\n",
              "\n",
              "    .dataframe tbody tr th {\n",
              "        vertical-align: top;\n",
              "    }\n",
              "\n",
              "    .dataframe thead th {\n",
              "        text-align: right;\n",
              "    }\n",
              "</style>\n",
              "<table border=\"1\" class=\"dataframe\">\n",
              "  <thead>\n",
              "    <tr style=\"text-align: right;\">\n",
              "      <th></th>\n",
              "      <th>id</th>\n",
              "      <th>title</th>\n",
              "      <th>release_date</th>\n",
              "      <th>runtime</th>\n",
              "      <th>country</th>\n",
              "      <th>language</th>\n",
              "      <th>genre</th>\n",
              "      <th>studios</th>\n",
              "      <th>budget</th>\n",
              "      <th>revenue</th>\n",
              "      <th>imdb_rating</th>\n",
              "      <th>imdb_votes</th>\n",
              "    </tr>\n",
              "  </thead>\n",
              "  <tbody>\n",
              "    <tr>\n",
              "      <th>5240</th>\n",
              "      <td>tt9573980</td>\n",
              "      <td>NaN</td>\n",
              "      <td>NaN</td>\n",
              "      <td>NaN</td>\n",
              "      <td>NaN</td>\n",
              "      <td>NaN</td>\n",
              "      <td>NaN</td>\n",
              "      <td>NaN</td>\n",
              "      <td>NaN</td>\n",
              "      <td>NaN</td>\n",
              "      <td>NaN</td>\n",
              "      <td>NaN</td>\n",
              "    </tr>\n",
              "    <tr>\n",
              "      <th>9127</th>\n",
              "      <td>tt8075016</td>\n",
              "      <td>NaN</td>\n",
              "      <td>NaN</td>\n",
              "      <td>NaN</td>\n",
              "      <td>NaN</td>\n",
              "      <td>NaN</td>\n",
              "      <td>NaN</td>\n",
              "      <td>NaN</td>\n",
              "      <td>NaN</td>\n",
              "      <td>NaN</td>\n",
              "      <td>NaN</td>\n",
              "      <td>NaN</td>\n",
              "    </tr>\n",
              "    <tr>\n",
              "      <th>9976</th>\n",
              "      <td>tt13423846</td>\n",
              "      <td>NaN</td>\n",
              "      <td>NaN</td>\n",
              "      <td>NaN</td>\n",
              "      <td>NaN</td>\n",
              "      <td>NaN</td>\n",
              "      <td>NaN</td>\n",
              "      <td>NaN</td>\n",
              "      <td>NaN</td>\n",
              "      <td>NaN</td>\n",
              "      <td>NaN</td>\n",
              "      <td>NaN</td>\n",
              "    </tr>\n",
              "  </tbody>\n",
              "</table>\n",
              "</div>"
            ],
            "text/plain": [
              "              id title release_date  ... revenue imdb_rating imdb_votes\n",
              "5240   tt9573980   NaN          NaN  ...     NaN         NaN        NaN\n",
              "9127   tt8075016   NaN          NaN  ...     NaN         NaN        NaN\n",
              "9976  tt13423846   NaN          NaN  ...     NaN         NaN        NaN\n",
              "\n",
              "[3 rows x 12 columns]"
            ]
          },
          "metadata": {},
          "execution_count": 14
        }
      ]
    },
    {
      "cell_type": "markdown",
      "source": [
        "## Scraping additional data"
      ],
      "metadata": {
        "id": "VroIT9ExpVtY"
      }
    },
    {
      "cell_type": "markdown",
      "source": [
        "TMDB doesn't provide much data about the people who worked on a film (directors, writer, actors etc.) and its rating data is inaccurate. For these reason, we'll integrate its data by scraping some more information."
      ],
      "metadata": {
        "id": "LOgUWYm7bRqV"
      }
    },
    {
      "cell_type": "markdown",
      "source": [
        "### Custom functions"
      ],
      "metadata": {
        "id": "AdfF63LCTwRi"
      }
    },
    {
      "cell_type": "markdown",
      "source": [
        "To implement sound software engineering principles we'll do the scraping by building a custom function for each type of data we need."
      ],
      "metadata": {
        "id": "3KytHOgpT0HC"
      }
    },
    {
      "cell_type": "markdown",
      "source": [
        "#### Film ID"
      ],
      "metadata": {
        "id": "hdS235LCUFDf"
      }
    },
    {
      "cell_type": "code",
      "source": [
        "def scrape_film_id(soup):\n",
        "  \n",
        "  return soup.find(\"meta\", {\"property\": \"imdb:pageConst\"}).get(\"content\")"
      ],
      "metadata": {
        "id": "nNSWeewsQ3Gt"
      },
      "execution_count": 49,
      "outputs": []
    },
    {
      "cell_type": "markdown",
      "source": [
        "#### Directors"
      ],
      "metadata": {
        "id": "0WpHvI39UHtL"
      }
    },
    {
      "cell_type": "code",
      "source": [
        "def scrape_director(soup):\n",
        "  \n",
        "  directors = list(set([a.text for a in soup.find_all(href = re.compile(\"tt_ov_dr\"), class_=\"ipc-metadata-list-item__list-content-item ipc-metadata-list-item__list-content-item--link\")]))\n",
        "\n",
        "  return ';'.join(directors)\n",
        "\n"
      ],
      "metadata": {
        "id": "zwLDT6CW1tL0"
      },
      "execution_count": 3,
      "outputs": []
    },
    {
      "cell_type": "markdown",
      "source": [
        "#### IMDB average rating"
      ],
      "metadata": {
        "id": "mY0xRacoUKxG"
      }
    },
    {
      "cell_type": "code",
      "source": [
        "def scrape_imdb_rating(soup):\n",
        "  \n",
        "  pattern = r'(?<=\"ratingValue\":)[\\d.]+(?=},\"contentRating\")'\n",
        "  string = str(soup.find(\"script\", {\"type\": \"application/ld+json\"}))\n",
        "\n",
        "  return re.findall(pattern = pattern,\n",
        "                    string = string)[0]"
      ],
      "metadata": {
        "id": "GHuWP7Pe8EHq"
      },
      "execution_count": 5,
      "outputs": []
    },
    {
      "cell_type": "markdown",
      "source": [
        "IMDB rating count"
      ],
      "metadata": {
        "id": "63sBX-TwUN1q"
      }
    },
    {
      "cell_type": "code",
      "source": [
        "def scrape_rating_count(soup):\n",
        "\n",
        "  pattern = r'(?<=\"ratingCount\":)[\\d.]+'\n",
        "  string = str(soup.find(\"script\", {\"type\": \"application/ld+json\"}))\n",
        "\n",
        "  return re.findall(pattern = pattern,\n",
        "                    string = string)"
      ],
      "metadata": {
        "id": "7u68JHWr_1oe"
      },
      "execution_count": 6,
      "outputs": []
    },
    {
      "cell_type": "markdown",
      "source": [
        "#### Metascore"
      ],
      "metadata": {
        "id": "ne8ybLy_UPrk"
      }
    },
    {
      "cell_type": "code",
      "source": [
        "def scrape_metascore(soup):\n",
        "\n",
        "  return soup.find(\"span\", class_=\"score-meta\").text"
      ],
      "metadata": {
        "id": "HzWpD51AAhe5"
      },
      "execution_count": 7,
      "outputs": []
    },
    {
      "cell_type": "markdown",
      "source": [
        "#### User reviews count"
      ],
      "metadata": {
        "id": "3YwH147RUSXB"
      }
    },
    {
      "cell_type": "code",
      "source": [
        "def scrape_user_review_count(soup):\n",
        "  \n",
        "  pattern = r'(?<=\"total\":)\\d+(?=,\"__typename\":\"ReviewsConnection\"})'\n",
        "  \n",
        "  string = str(soup.find(\"script\", {'id': '__NEXT_DATA__'}))\n",
        "  \n",
        "  return re.findall(pattern = pattern, string = string)[0]"
      ],
      "metadata": {
        "id": "PLb_JqIRnKls"
      },
      "execution_count": 17,
      "outputs": []
    },
    {
      "cell_type": "markdown",
      "source": [
        "### Scraping"
      ],
      "metadata": {
        "id": "QRaqDP82V4Xh"
      }
    },
    {
      "cell_type": "code",
      "source": [
        "def build_scraped_df(urls):\n",
        "\n",
        "  df = pd.DataFrame(columns = [\"id\", \"director\", \"imdb_rating\", \"imdb_rating_count\", \"metascore\", \"user_review_count\", \"critic_review_count\"])\n",
        "\n",
        "  chunks = np.array_split(urls, 10)\n",
        "\n",
        "  for chunk in chunks:\n",
        "    for url in chunk:\n",
        "      content = requests.get(url).content\n",
        "      soup = BeautifulSoup(content)\n",
        "\n",
        "      df = df.append({\"id\": scrape_film_id,\n",
        "                      \"director\": scrape_director,\n",
        "                      \"imdb_rating\": scrape_imdb_rating,\n",
        "                      \"imdb_rating_count\": scrape_rating_count,\n",
        "                      \"metascore\": scrape_metascore,\n",
        "                      \"user_review_count\": scrape_user_review_count,\n",
        "                      \"critic_review_count\": scrape_critic_review_count}, \n",
        "                     ignore_index = True)\n",
        "\n",
        "    time.sleep(60*5)\n",
        "\n",
        "  return df\n"
      ],
      "metadata": {
        "id": "-PuxtrS5V8IQ"
      },
      "execution_count": 68,
      "outputs": []
    },
    {
      "cell_type": "code",
      "source": [
        "df2 = build_scraped_df(film_urls)\n",
        "df2.head()"
      ],
      "metadata": {
        "colab": {
          "base_uri": "https://localhost:8080/",
          "height": 304
        },
        "id": "Sqmef_HbZ6fi",
        "outputId": "a5e98cbb-4ae7-4444-9e39-bfe70225c3d4"
      },
      "execution_count": 69,
      "outputs": [
        {
          "output_type": "error",
          "ename": "NameError",
          "evalue": "ignored",
          "traceback": [
            "\u001b[0;31m---------------------------------------------------------------------------\u001b[0m",
            "\u001b[0;31mNameError\u001b[0m                                 Traceback (most recent call last)",
            "\u001b[0;32m<ipython-input-69-aa6634ab0b5c>\u001b[0m in \u001b[0;36m<module>\u001b[0;34m()\u001b[0m\n\u001b[0;32m----> 1\u001b[0;31m \u001b[0mdf2\u001b[0m \u001b[0;34m=\u001b[0m \u001b[0mbuild_scraped_df\u001b[0m\u001b[0;34m(\u001b[0m\u001b[0mfilm_urls\u001b[0m\u001b[0;34m)\u001b[0m\u001b[0;34m\u001b[0m\u001b[0;34m\u001b[0m\u001b[0m\n\u001b[0m\u001b[1;32m      2\u001b[0m \u001b[0mdf2\u001b[0m\u001b[0;34m.\u001b[0m\u001b[0mhead\u001b[0m\u001b[0;34m(\u001b[0m\u001b[0;34m)\u001b[0m\u001b[0;34m\u001b[0m\u001b[0;34m\u001b[0m\u001b[0m\n",
            "\u001b[0;32m<ipython-input-68-30093de57ec0>\u001b[0m in \u001b[0;36mbuild_scraped_df\u001b[0;34m(urls)\u001b[0m\n\u001b[1;32m     19\u001b[0m                      ignore_index = True)\n\u001b[1;32m     20\u001b[0m \u001b[0;34m\u001b[0m\u001b[0m\n\u001b[0;32m---> 21\u001b[0;31m     \u001b[0mtime\u001b[0m\u001b[0;34m.\u001b[0m\u001b[0msleep\u001b[0m\u001b[0;34m(\u001b[0m\u001b[0;36m60\u001b[0m\u001b[0;34m*\u001b[0m\u001b[0;36m5\u001b[0m\u001b[0;34m)\u001b[0m\u001b[0;34m\u001b[0m\u001b[0;34m\u001b[0m\u001b[0m\n\u001b[0m\u001b[1;32m     22\u001b[0m \u001b[0;34m\u001b[0m\u001b[0m\n\u001b[1;32m     23\u001b[0m   \u001b[0;32mreturn\u001b[0m \u001b[0mdf\u001b[0m\u001b[0;34m\u001b[0m\u001b[0;34m\u001b[0m\u001b[0m\n",
            "\u001b[0;31mNameError\u001b[0m: name 'time' is not defined"
          ]
        }
      ]
    },
    {
      "cell_type": "markdown",
      "source": [
        "#### Critic reviews count"
      ],
      "metadata": {
        "id": "A0WXIPIWUWHl"
      }
    },
    {
      "cell_type": "code",
      "source": [
        "def scrape_critic_review_count(soup):\n",
        "\n",
        "  pattern = r'(?<=n\"},\"criticReviewsTotal\":{\"total\":)\\d+'\n",
        "  \n",
        "  string = str(soup.find(\"script\", {'id': '__NEXT_DATA__'}))\n",
        "  \n",
        "  return re.findall(pattern = pattern, string = string)[-1]"
      ],
      "metadata": {
        "id": "NC-zrcwwAykX"
      },
      "execution_count": 33,
      "outputs": []
    },
    {
      "cell_type": "markdown",
      "source": [
        "#### Full cast"
      ],
      "metadata": {
        "id": "qQtgCMgbUgCS"
      }
    },
    {
      "cell_type": "code",
      "source": [
        "def scrape_actors(soup):\n",
        "  \n",
        "  actors = [img.get(\"alt\") for img in soup.find(\"table\", class_=\"cast_list\").find_all(\"img\")]\n",
        "  return ';'.join(actors)"
      ],
      "metadata": {
        "id": "9-vthpeyJ1_n"
      },
      "execution_count": null,
      "outputs": []
    },
    {
      "cell_type": "markdown",
      "source": [
        "# Load the data onto a database"
      ],
      "metadata": {
        "id": "GHuYXHjmFdnU"
      }
    },
    {
      "cell_type": "code",
      "source": [
        ""
      ],
      "metadata": {
        "id": "TeXDWGQvFiU2"
      },
      "execution_count": null,
      "outputs": []
    }
  ]
}